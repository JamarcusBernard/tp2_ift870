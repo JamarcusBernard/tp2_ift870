{
 "cells": [
  {
   "cell_type": "markdown",
   "metadata": {},
   "source": [
    "## Tp2 ift 870\n",
    "Quentin Levieux<br>\n",
    "Frederic Giasson"
   ]
  },
  {
   "cell_type": "code",
   "execution_count": 39,
   "metadata": {},
   "outputs": [],
   "source": [
    "import sklearn\n",
    "import numpy as np\n",
    "import scipy as sp\n",
    "import pandas as pd\n",
    "%matplotlib notebook\n",
    "import matplotlib.pyplot as plt\n",
    "import seaborn as sns\n",
    "from IPython.display import display\n",
    "import numbers"
   ]
  },
  {
   "cell_type": "code",
   "execution_count": 40,
   "metadata": {},
   "outputs": [
    {
     "data": {
      "text/plain": [
       "'Dimension de package.csv : '"
      ]
     },
     "metadata": {},
     "output_type": "display_data"
    },
    {
     "data": {
      "text/plain": [
       "(173887, 8)"
      ]
     },
     "metadata": {},
     "output_type": "display_data"
    },
    {
     "name": "stdout",
     "output_type": "stream",
     "text": [
      "Dimension de product.csv:  (93238, 20)\n",
      "Nombre d'attributs de package: 8\n",
      "Nombre d'attributs de product: 20\n",
      "\n",
      "Colonne de package: \n",
      " ['PRODUCTID' 'PRODUCTNDC' 'NDCPACKAGECODE' 'PACKAGEDESCRIPTION'\n",
      " 'STARTMARKETINGDATE' 'ENDMARKETINGDATE' 'NDC_EXCLUDE_FLAG'\n",
      " 'SAMPLE_PACKAGE']\n",
      "\n",
      "Colonne de product: \n",
      " ['PRODUCTID' 'PRODUCTNDC' 'PRODUCTTYPENAME' 'PROPRIETARYNAME'\n",
      " 'PROPRIETARYNAMESUFFIX' 'NONPROPRIETARYNAME' 'DOSAGEFORMNAME' 'ROUTENAME'\n",
      " 'STARTMARKETINGDATE' 'ENDMARKETINGDATE' 'MARKETINGCATEGORYNAME'\n",
      " 'APPLICATIONNUMBER' 'LABELERNAME' 'SUBSTANCENAME'\n",
      " 'ACTIVE_NUMERATOR_STRENGTH' 'ACTIVE_INGRED_UNIT' 'PHARM_CLASSES'\n",
      " 'DEASCHEDULE' 'NDC_EXCLUDE_FLAG' 'LISTING_RECORD_CERTIFIED_THROUGH']\n",
      "\n",
      "Attributs commun au deux tables :\n",
      " ['STARTMARKETINGDATE', 'NDC_EXCLUDE_FLAG', 'ENDMARKETINGDATE', 'PRODUCTNDC', 'PRODUCTID']\n"
     ]
    }
   ],
   "source": [
    "package = pd.read_csv(\"Package2.csv\",sep=\";\", error_bad_lines=False, encoding ='latin1')\n",
    "display(\"Dimension de package.csv : \",package.shape)\n",
    "product = pd.read_csv(\"Product2.csv\",sep=\";\", error_bad_lines=False, encoding ='latin1')\n",
    "print(\"Dimension de product.csv: \",product.shape)\n",
    "print(\"Nombre d'attributs de package:\", len(package.columns))\n",
    "print(\"Nombre d'attributs de product:\", len(product.columns))\n",
    "print(\"\\nColonne de package: \\n\",package.columns.values)\n",
    "print(\"\\nColonne de product: \\n\",product.columns.values)\n",
    "commonAttributs = list(set(package).intersection(product))\n",
    "print(\"\\nAttributs commun au deux tables :\\n\",commonAttributs)"
   ]
  },
  {
   "cell_type": "markdown",
   "metadata": {},
   "source": [
    "## Types des attributs"
   ]
  },
  {
   "cell_type": "code",
   "execution_count": 41,
   "metadata": {},
   "outputs": [
    {
     "name": "stdout",
     "output_type": "stream",
     "text": [
      "Types des attributs pour package :\n",
      "\n",
      " PRODUCTID              object\n",
      "PRODUCTNDC             object\n",
      "NDCPACKAGECODE         object\n",
      "PACKAGEDESCRIPTION     object\n",
      "STARTMARKETINGDATE      int64\n",
      "ENDMARKETINGDATE      float64\n",
      "NDC_EXCLUDE_FLAG       object\n",
      "SAMPLE_PACKAGE         object\n",
      "dtype: object\n",
      "\n",
      "Types des attributs pour product :\n",
      "\n",
      " PRODUCTID                            object\n",
      "PRODUCTNDC                           object\n",
      "PRODUCTTYPENAME                      object\n",
      "PROPRIETARYNAME                      object\n",
      "PROPRIETARYNAMESUFFIX                object\n",
      "NONPROPRIETARYNAME                   object\n",
      "DOSAGEFORMNAME                       object\n",
      "ROUTENAME                            object\n",
      "STARTMARKETINGDATE                    int64\n",
      "ENDMARKETINGDATE                    float64\n",
      "MARKETINGCATEGORYNAME                object\n",
      "APPLICATIONNUMBER                    object\n",
      "LABELERNAME                          object\n",
      "SUBSTANCENAME                        object\n",
      "ACTIVE_NUMERATOR_STRENGTH            object\n",
      "ACTIVE_INGRED_UNIT                   object\n",
      "PHARM_CLASSES                        object\n",
      "DEASCHEDULE                          object\n",
      "NDC_EXCLUDE_FLAG                     object\n",
      "LISTING_RECORD_CERTIFIED_THROUGH    float64\n",
      "dtype: object\n"
     ]
    }
   ],
   "source": [
    "print(\"Types des attributs pour package :\\n\\n\",package.dtypes)\n",
    "print(\"\\nTypes des attributs pour product :\\n\\n\",product.dtypes)"
   ]
  },
  {
   "cell_type": "markdown",
   "metadata": {},
   "source": [
    "### Valeurs Manquantes"
   ]
  },
  {
   "cell_type": "code",
   "execution_count": 42,
   "metadata": {},
   "outputs": [
    {
     "name": "stdout",
     "output_type": "stream",
     "text": [
      "(167507, 8)\n",
      "(93238, 20)\n",
      "Valeurs manquante par colonne dans package:\n",
      "\n",
      "PRODUCTID    0\n",
      "dtype: int64\n",
      "PRODUCTNDC    1500\n",
      "dtype: int64\n",
      "NDCPACKAGECODE    2346\n",
      "dtype: int64\n",
      "PACKAGEDESCRIPTION    0\n",
      "dtype: int64\n",
      "STARTMARKETINGDATE    0\n",
      "dtype: int64\n",
      "ENDMARKETINGDATE    167431\n",
      "dtype: int64\n",
      "NDC_EXCLUDE_FLAG    0\n",
      "dtype: int64\n",
      "SAMPLE_PACKAGE    0\n",
      "dtype: int64\n",
      "Nombre total de rangees dans package : 173887\n",
      "\n",
      "Valeurs manquante par colonne dans product:\n",
      "\n",
      "PRODUCTID    1560\n",
      "dtype: int64\n",
      "PRODUCTNDC    0\n",
      "dtype: int64\n",
      "PRODUCTTYPENAME    0\n",
      "dtype: int64\n",
      "PROPRIETARYNAME    6\n",
      "dtype: int64\n",
      "PROPRIETARYNAMESUFFIX    83075\n",
      "dtype: int64\n",
      "NONPROPRIETARYNAME    4\n",
      "dtype: int64\n",
      "DOSAGEFORMNAME    0\n",
      "dtype: int64\n",
      "ROUTENAME    1932\n",
      "dtype: int64\n",
      "STARTMARKETINGDATE    0\n",
      "dtype: int64\n",
      "ENDMARKETINGDATE    88915\n",
      "dtype: int64\n",
      "MARKETINGCATEGORYNAME    0\n",
      "dtype: int64\n",
      "APPLICATIONNUMBER    13097\n",
      "dtype: int64\n",
      "LABELERNAME    0\n",
      "dtype: int64\n",
      "SUBSTANCENAME    2309\n",
      "dtype: int64\n",
      "ACTIVE_NUMERATOR_STRENGTH    2309\n",
      "dtype: int64\n",
      "ACTIVE_INGRED_UNIT    2309\n",
      "dtype: int64\n",
      "PHARM_CLASSES    50984\n",
      "dtype: int64\n",
      "DEASCHEDULE    88815\n",
      "dtype: int64\n",
      "NDC_EXCLUDE_FLAG    0\n",
      "dtype: int64\n",
      "LISTING_RECORD_CERTIFIED_THROUGH    4325\n",
      "dtype: int64\n",
      "Nombre total de rangees dans product: 93238\n"
     ]
    }
   ],
   "source": [
    "manquantePackage = package[package.isnull().any(axis=1)]\n",
    "#display(manquantePackage)\n",
    "print(manquantePackage.shape)\n",
    "\n",
    "manquanteProduct = product[product.isnull().any(axis=1)]\n",
    "#display(manquanteProduct)\n",
    "print(manquanteProduct.shape)\n",
    "\n",
    "print(\"Valeurs manquante par colonne dans package:\\n\")\n",
    "for col in package.columns:\n",
    "    nb = package[[col]].isna().sum()\n",
    "    print(nb)\n",
    "print(\"Nombre total de rangees dans package :\", len(package))\n",
    "\n",
    "print(\"\\nValeurs manquante par colonne dans product:\\n\")\n",
    "for col in product.columns:\n",
    "    nb = product[[col]].isna().sum()\n",
    "    print(nb)\n",
    "print(\"Nombre total de rangees dans product:\", len(product))"
   ]
  },
  {
   "cell_type": "markdown",
   "metadata": {},
   "source": [
    "### incohérences intra-attributs"
   ]
  },
  {
   "cell_type": "code",
   "execution_count": 45,
   "metadata": {
    "scrolled": true
   },
   "outputs": [],
   "source": [
    "#Méthode pour déterminer si la date est valide\n",
    "def datee(date):\n",
    "    annee = int(str(date)[0:4])\n",
    "    mois = int(str(date)[4:6])\n",
    "    jour = int(str(date)[6:8])\n",
    "    if annee<1800 or annee > 2300 or mois>12 or mois<1:\n",
    "        return False\n",
    "    if jour<1 or jour>31:\n",
    "        return False\n",
    "    if mois== 2 and jour>29:\n",
    "        return False\n",
    "    if mois== 4 and jour>30:\n",
    "        return False\n",
    "    if mois== 6 and jour>30:\n",
    "        return False\n",
    "    if mois== 9 and jour>30:\n",
    "        return False\n",
    "    if mois== 11 and jour>30:\n",
    "        return False\n",
    "    return True\n"
   ]
  },
  {
   "cell_type": "code",
   "execution_count": 46,
   "metadata": {
    "scrolled": true
   },
   "outputs": [
    {
     "name": "stdout",
     "output_type": "stream",
     "text": [
      "Nombre de rangee avec une valeur autre que Y ou N dans la colonne sample_Package :  0\n",
      "Nombre de rangee avec une valeur autre que Y ou N (ni E ou I) dans la colonne ndc_exclude_flag :  0\n",
      "Nombre incoherence dans endMarketingDate:  0\n",
      "Nombre incoherence dans startMarketingDate:  0\n",
      "Nombres de differentes possibilites pour PRODUCTNDC: 0 []\n",
      "Nombres de differentes possibilites pour PRODUCTID: 173887 93084\n",
      "80803\n"
     ]
    }
   ],
   "source": [
    "#display(package.head())\n",
    "#incoherence dans la colonne de package\n",
    "samplePackageY = package[package['SAMPLE_PACKAGE'] != 'Y']\n",
    "samplePackageN = samplePackageY[samplePackageY['SAMPLE_PACKAGE'] != 'N']\n",
    "print(\"Nombre de rangee avec une valeur autre que Y ou N dans la colonne sample_Package : \",len(samplePackageN))\n",
    "\n",
    "ndc_exclude_flagY = package[package['NDC_EXCLUDE_FLAG'] != 'Y']\n",
    "ndc_exclude_flagN = ndc_exclude_flagY[ndc_exclude_flagY['NDC_EXCLUDE_FLAG'] != 'N']\n",
    "print(\"Nombre de rangee avec une valeur autre que Y ou N (ni E ou I) dans la colonne ndc_exclude_flag : \",len(samplePackageN))\n",
    "\n",
    "xx = package[~package['ENDMARKETINGDATE'].isnull()]\n",
    "endMarketingDate = xx['ENDMARKETINGDATE']\n",
    "erreurEndMarketingDate = []\n",
    "for date in endMarketingDate:\n",
    "    if not datee(date):\n",
    "        erreurEndMarketingDate.append(date)\n",
    "print(\"Nombre incoherence dans endMarketingDate: \", len(erreurEndMarketingDate))\n",
    "\n",
    "yy = package[~package['STARTMARKETINGDATE'].isnull()]\n",
    "startMarketingDate = yy['STARTMARKETINGDATE']\n",
    "erreurStartdMarketingDate = []\n",
    "for date in startMarketingDate:\n",
    "    if not datee(date):\n",
    "        erreurStartMarketingDate.append(date)\n",
    "print(\"Nombre incoherence dans startMarketingDate: \", len(erreurStartdMarketingDate))\n",
    "\n",
    "vv = package[~package['PRODUCTNDC'].isnull()]\n",
    "ndcErr = []\n",
    "for ndc in vv['PRODUCTNDC'].unique():\n",
    "    ndc = ndc.strip('-')\n",
    "    if not any(char.isdigit() for char in ndc):\n",
    "           ndcErr.append(ndc)\n",
    "print(\"Nombres de differentes possibilites pour PRODUCTNDC:\",len(ndcErr), ndcErr)\n",
    "\n",
    "bb = package[~package['PRODUCTID'].isnull()]\n",
    "print(\"Nombres de differentes possibilites pour PRODUCTID:\",len(bb), len(bb['PRODUCTID'].unique()))\n",
    "errID = bb[bb['PRODUCTID'].duplicated()== True]\n",
    "errID = errID['PRODUCTID']\n",
    "print(len(errID))"
   ]
  },
  {
   "cell_type": "markdown",
   "metadata": {},
   "source": [
    "En ce qui attrait au colonnes <b>NDCPACKAGECODE PACKAGEDESCRIPTION</b> de la table PACKAGE, il est difficile de d'avoir un critère qui permet de savoir si il y a une incoherence dans les données de la colonne, le site n'offre pas plus de details. \n",
    "<br><br>Dans la colonne <b>PRODUCTID</b> nous pouvons voir qu'il y a 80803 identifiants qui ne sont pas unique, nous pouvons soupconner une incoherence d'autant plus que l'autre table n'a pas de double dans cette colonne. "
   ]
  },
  {
   "cell_type": "code",
   "execution_count": 48,
   "metadata": {},
   "outputs": [
    {
     "name": "stdout",
     "output_type": "stream",
     "text": [
      "Nombre incoherence dans LISTING_RECORD_CERTIFIED_THROUGH:  0\n",
      "Nombre de rangee avec une valeur autre que Y ou N (ni E ou I) dans la colonne NDC_EXCLUDE_FLAG :  0\n",
      "Differentes possibilites pour DEASCHEDULE : ['CV' 'CIV' 'CIII' 'CII']\n",
      "Differentes possibilites pour ACTIVE_INGRED_UNIT : ['mL/mL' 'mCi/mL' 'mg/.5mL' ... 'g/30mL; g/30mL; g/30mL; 1/30mL' '1/25mL'\n",
      " 'mg/6g']\n",
      "Differentes possibilites pour ACTIVE_NUMERATOR_STRENGTH : ['1' '51' '.75' ... '33.2' '415' '20; 25; 33']\n",
      "Il y a  20 identifiants de ACTIVE_NUMERATOR_STRENGTH qui ne sont pas des nombres\n",
      "Nombre incoherence dans endMarketingDate:  1\n",
      "Nombre incoherence dans startMarketingDate:  0\n",
      "Nombres de differentes possibilites pour ROUTENAME : 180\n",
      "Nombres de differentes possibilites pour DOSAGEFORMNAME : 134\n",
      "Nombres de differentes possibilites pour PROPRIETARYNAMESUFFIX : 1455\n",
      "Nombres de differentes possibilites pour PRODUCTNDC: 9 ['OTC MONOGRAPH NOT FINAL', 'NDA', 'OTC MONOGRAPH FINAL', 'UNAPPROVED HOMEOPATHIC', 'UNAPPROVED MEDICAL GAS', 'UNAPPROVED DRUG OTHER', 'ANDA', 'NDA AUTHORIZED GENERIC', 'BLA']\n",
      "Nombres de differentes possibilites pour PRODUCTID: 91678 91678\n"
     ]
    }
   ],
   "source": [
    "#display(product.head())\n",
    "\n",
    "xx = product[~product['LISTING_RECORD_CERTIFIED_THROUGH'].isnull()]\n",
    "listingRecordDate = xx['LISTING_RECORD_CERTIFIED_THROUGH']\n",
    "erreurListingRecordDate = []\n",
    "for date in listingRecordDate:\n",
    "    if not datee(date):\n",
    "        erreurListingRecordDate.append(date)\n",
    "print(\"Nombre incoherence dans LISTING_RECORD_CERTIFIED_THROUGH: \", len(erreurListingRecordDate))\n",
    "\n",
    "ndcFlagY = product[product['NDC_EXCLUDE_FLAG'] != 'Y']\n",
    "ndcFlagN = ndcFlagY[ndcFlagY['NDC_EXCLUDE_FLAG'] != 'N']\n",
    "print(\"Nombre de rangee avec une valeur autre que Y ou N (ni E ou I) dans la colonne NDC_EXCLUDE_FLAG : \",len(ndcFlagN))\n",
    "\n",
    "hh = product[~product['DEASCHEDULE'].isnull()]\n",
    "print(\"Differentes possibilites pour DEASCHEDULE :\",hh['DEASCHEDULE'].unique())\n",
    "\n",
    "jj = product[~product['ACTIVE_INGRED_UNIT'].isnull()]\n",
    "print(\"Differentes possibilites pour ACTIVE_INGRED_UNIT :\",jj['ACTIVE_INGRED_UNIT'].unique())\n",
    "\n",
    "kk = product[~product['ACTIVE_NUMERATOR_STRENGTH'].isnull()]\n",
    "erreurActiveNumerator= [isinstance(x, numbers.Number) for x in kk]\n",
    "print(\"Differentes possibilites pour ACTIVE_NUMERATOR_STRENGTH :\",kk['ACTIVE_NUMERATOR_STRENGTH'].unique())\n",
    "print(\"Il y a \",len(erreurActiveNumerator), \"identifiants de ACTIVE_NUMERATOR_STRENGTH qui ne sont pas des nombres\")\n",
    "\n",
    "xx = product[~product['ENDMARKETINGDATE'].isnull()]\n",
    "endMarketingDate = xx['ENDMARKETINGDATE']\n",
    "erreurEndMarketingDate = []\n",
    "for date in endMarketingDate:\n",
    "    if not datee(date):\n",
    "        erreurEndMarketingDate.append(date)\n",
    "print(\"Nombre incoherence dans endMarketingDate: \", len(erreurEndMarketingDate))\n",
    "\n",
    "yy = product[~product['STARTMARKETINGDATE'].isnull()]\n",
    "startMarketingDate = yy['STARTMARKETINGDATE']\n",
    "erreurStartdMarketingDate = []\n",
    "for date in startMarketingDate:\n",
    "    if not datee(date):\n",
    "        erreurStartMarketingDate.append(date)\n",
    "print(\"Nombre incoherence dans startMarketingDate: \", len(erreurStartdMarketingDate))\n",
    "\n",
    "ll = product[~product['ROUTENAME'].isnull()]\n",
    "print(\"Nombres de differentes possibilites pour ROUTENAME :\",len(ll['ROUTENAME'].unique()))\n",
    "\n",
    "zz = product[~product['DOSAGEFORMNAME'].isnull()]\n",
    "print(\"Nombres de differentes possibilites pour DOSAGEFORMNAME :\",len(zz['DOSAGEFORMNAME'].unique()))\n",
    "\n",
    "cc = product[~product['PROPRIETARYNAMESUFFIX'].isnull()]\n",
    "nameSuffix = []\n",
    "for date in cc['PROPRIETARYNAMESUFFIX'].unique():\n",
    "    if any(char.isdigit() for char in date):\n",
    "           nameSuffix.append(date)\n",
    "print(\"Nombres de differentes possibilites pour PROPRIETARYNAMESUFFIX :\",len(nameSuffix))\n",
    "\n",
    "vv = product[~product['PRODUCTNDC'].isnull()]\n",
    "ndcErr = []\n",
    "for ndc in vv['PRODUCTNDC'].unique():\n",
    "    ndc = ndc.strip('-')\n",
    "    if not any(char.isdigit() for char in ndc):\n",
    "           ndcErr.append(ndc)\n",
    "print(\"Nombres de differentes possibilites pour PRODUCTNDC:\",len(ndcErr), ndcErr)\n",
    "\n",
    "bb = product[~product['PRODUCTID'].isnull()]\n",
    "print(\"Nombres de differentes possibilites pour PRODUCTID:\",len(bb), len(bb['PRODUCTID'].unique()))"
   ]
  },
  {
   "cell_type": "markdown",
   "metadata": {},
   "source": [
    "Pour la colonne <b>DEASCHEDULE</b>, nous ne connaissons pas les valeurs des attributs il est donc difficile de savoir si il y a une incoherence.\n",
    "<br><br>Pour la colonne <b>PHARM_CLASSES</b>, nous ne pouvons pas evaluer les incoherences en raison des valeurs de la colonne.\n",
    "<br><br>Pour la colonne <b>ACTIVE_INGRED_UNIT</b>, il y a plusieurs valeurs, cependant en les analysant visuellement, il ne semble pas y avoir d'incoherences.\n",
    "<br><br>Pour la colonne <b>ACTIVE_NUMERATOR_STRENGTH</b>, il y a des valeurs qui ne sont pas des nombres. Nous ne savons pas si ce sont des incoherences cependant, nous estimons pertinent de le souligner au cas ou cela pourrait poserait probleme plus tard.\n",
    "<br><br>Pour la colonne <b>SUBSTANCENAME</b> nous ne pouvons pas savoir si les attributs qui sont dans les colonnes sont bons puisque nous n'avons pas de banque permettant de valider. Il en est de meme pour <b>APPLICATIONNUMBER LABELERNAME NONPROPRIETARYNAME PRODUCTTYPENAME PROPRIETARYNAME</b>, ce sont tous de objets, nous n'avons donc pas beaucoup de details quant a la composition des attributs.\n",
    "<br><br>Pour la colonne <b>PROPRIETARYNAMESUFFIX</b> nous voyons qu'il y a 1455 elements que leur attribut contient un chiffre dans le suffix. Nous ne pouvons donc pas affirmer que de contenir un chiffre est un incoherence malgre que ce sont des suffix, le site indique qu'il n'y a pas de convention reconnue.\n",
    "<br><br>Il est intéressant de voir que <b>PRODUCTNDC</b> ici est le premier attribut qui semble avoir des incohérences. En effet sur le site, il est indiqué que cet attribut est un chiffre séparé par un tiret. Or lorsque nous enlevons ces tirets, nous obtenons 9 sur quelque 90 000 attributs qui sont des mots. Nous avançons que ceux-ci sont des incohérences surtout que dans l'autre table nous n'observons pas cette situation.\n",
    "<br><br> Nous pouvons voir qu'il n'y a pas de produit ayant le meme identifiant dans la colonne <b>PRODUCTID</b> car le nombre d'identifiants unique est le meme que le nombre d'identifiants.\n",
    "<br><br>Pour ce qui est de <b>ROUTENAME MARKETINGCATEGORYNAME</b> nous n'avons pas trouver la liste des identifiants possible afin de confirmer que tous ceux present sont valide.\n"
   ]
  },
  {
   "cell_type": "markdown",
   "metadata": {},
   "source": [
    "#### Conclusion \n",
    "Nous avons donc analysé toutes les colonnes afin de voir si il n'y avait pas d'erreurs ou d'incohérence dans les éléments de ces colonnes. Pour les dates nous avons vérifié qu'elles comportaient un mois entre 1 et 12 et un jour entre 1 et 31. Nous ne tenons pas compte de la variance du nombre de jours entre les mois. Lorsque la colonne comportait des objets qui par le nom nous permettait de croire que ce devrait être soi seulement composé de chiffres ou seulement composé de lettres, nous avons vérifié si c'était le cas et compté les nombre d'exceptions afin de vérifier si elles étaient répandues ou pas. Force est de constaté suite à notre analyse qu'il ne semble pas y avoir d'incohérence intra-attributs."
   ]
  },
  {
   "cell_type": "markdown",
   "metadata": {},
   "source": [
    "### Incohérences inter-Attributs\n",
    "\n",
    "Lorsque l'on considère les différentes attributs pour les tables, la seule incohérence que nous pouvons étudier est la date, s'assurer que le début n'est pas après la fin. Il se pourrait qu'un produit ait une date de fin de marketing et pas de date de début, nous analyserons toutes ces possibilitées."
   ]
  },
  {
   "cell_type": "code",
   "execution_count": null,
   "metadata": {},
   "outputs": [],
   "source": [
    "for row in package:\n",
    "    fin=package['ENDMARKETINGDATE']\n",
    "    debut=package['STARTMARKETINGDATE']\n",
    "    if str(debut)>= str(fin):\n",
    "        print(debut,fin)\n",
    "    if len(debut)==0 or len(fin)==0 :\n",
    "        print(\"null\")\n",
    "        \n",
    "for row in product:\n",
    "    fin=product['ENDMARKETINGDATE']\n",
    "    debut=product['STARTMARKETINGDATE']\n",
    "    if str(debut)>= str(fin):\n",
    "        print(debut,fin)\n",
    "    if len(debut)==0 or len(fin)==0 :\n",
    "        print(\"null\")\n",
    "        \n",
    "aa = product[~product['PRODUCTNDC'].isnull()]\n",
    "ss = product[~product['LABELERNAME'].isnull()]\n",
    "print(\"Nombre de PRODUCTNDC et nombre de PRODUCTNDC unique:\",len(aa), len(aa['PRODUCTNDC'].unique()))\n",
    "print(\"Nombre de labelername et nombre de labelerName unique:\",len(ss), len(ss['LABELERNAME'].unique()))\n",
    "\n",
    "dd = product[~product['PROPRIETARYNAME'].isnull()]\n",
    "ff = dd[~dd['PROPRIETARYNAME'].isna()]\n",
    "print(len(ff))#['PROPRIETARYNAMESUFFIX'])"
   ]
  },
  {
   "cell_type": "markdown",
   "metadata": {},
   "source": [
    "Il ne semble pas y avoir d'incoherences en ce qui concerne les dates dans les deux tables.\n",
    "<br><br>Il y a une incoherence entre <b>ProductNDC</b> et <b>LabelerName</b>, il devrait y avoir le meme nombre d'attribut unique, or nous voyons qu'il y a une grande difference entre les deux."
   ]
  },
  {
   "cell_type": "code",
   "execution_count": null,
   "metadata": {},
   "outputs": [],
   "source": [
    "display(package.head())\n",
    "display(product.head())"
   ]
  }
 ],
 "metadata": {
  "kernelspec": {
   "display_name": "Python 3",
   "language": "python",
   "name": "python3"
  },
  "language_info": {
   "codemirror_mode": {
    "name": "ipython",
    "version": 3
   },
   "file_extension": ".py",
   "mimetype": "text/x-python",
   "name": "python",
   "nbconvert_exporter": "python",
   "pygments_lexer": "ipython3",
   "version": "3.8.3"
  }
 },
 "nbformat": 4,
 "nbformat_minor": 4
}
