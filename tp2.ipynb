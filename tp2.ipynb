{
 "cells": [
  {
   "cell_type": "markdown",
   "metadata": {},
   "source": [
    "## Tp2 ift 870\n",
    "Quentin Levieux<br>\n",
    "Frederic Giasson"
   ]
  },
  {
   "cell_type": "code",
   "execution_count": 1,
   "metadata": {},
   "outputs": [],
   "source": [
    "import sklearn\n",
    "import numpy as np\n",
    "import scipy as sp\n",
    "import pandas as pd\n",
    "%matplotlib notebook\n",
    "import matplotlib.pyplot as plt\n",
    "import seaborn as sns\n",
    "from IPython.display import display\n",
    "import numbers"
   ]
  },
  {
   "cell_type": "code",
   "execution_count": 2,
   "metadata": {
    "scrolled": true
   },
   "outputs": [
    {
     "data": {
      "text/plain": [
       "'Dimension de package.csv : '"
      ]
     },
     "metadata": {},
     "output_type": "display_data"
    },
    {
     "data": {
      "text/plain": [
       "(173887, 8)"
      ]
     },
     "metadata": {},
     "output_type": "display_data"
    },
    {
     "name": "stdout",
     "output_type": "stream",
     "text": [
      "Dimension de product.csv:  (93238, 20)\n",
      "Nombre d'attributs de package: 8\n",
      "Nombre d'attributs de product: 20\n",
      "\n",
      "Colonne de package: \n",
      " ['PRODUCTID' 'PRODUCTNDC' 'NDCPACKAGECODE' 'PACKAGEDESCRIPTION'\n",
      " 'STARTMARKETINGDATE' 'ENDMARKETINGDATE' 'NDC_EXCLUDE_FLAG'\n",
      " 'SAMPLE_PACKAGE']\n",
      "\n",
      "Colonne de product: \n",
      " ['PRODUCTID' 'PRODUCTNDC' 'PRODUCTTYPENAME' 'PROPRIETARYNAME'\n",
      " 'PROPRIETARYNAMESUFFIX' 'NONPROPRIETARYNAME' 'DOSAGEFORMNAME' 'ROUTENAME'\n",
      " 'STARTMARKETINGDATE' 'ENDMARKETINGDATE' 'MARKETINGCATEGORYNAME'\n",
      " 'APPLICATIONNUMBER' 'LABELERNAME' 'SUBSTANCENAME'\n",
      " 'ACTIVE_NUMERATOR_STRENGTH' 'ACTIVE_INGRED_UNIT' 'PHARM_CLASSES'\n",
      " 'DEASCHEDULE' 'NDC_EXCLUDE_FLAG' 'LISTING_RECORD_CERTIFIED_THROUGH']\n",
      "\n",
      "Attributs communs au deux tables :\n",
      " ['STARTMARKETINGDATE', 'PRODUCTID', 'ENDMARKETINGDATE', 'PRODUCTNDC', 'NDC_EXCLUDE_FLAG']\n"
     ]
    }
   ],
   "source": [
    "package = pd.read_csv(\"Package2.csv\",sep=\";\", error_bad_lines=False, encoding ='latin1')\n",
    "display(\"Dimension de package.csv : \",package.shape)\n",
    "product = pd.read_csv(\"Product2.csv\",sep=\";\", error_bad_lines=False, encoding ='latin1')\n",
    "print(\"Dimension de product.csv: \",product.shape)\n",
    "print(\"Nombre d'attributs de package:\", len(package.columns))\n",
    "print(\"Nombre d'attributs de product:\", len(product.columns))\n",
    "print(\"\\nColonne de package: \\n\",package.columns.values)\n",
    "print(\"\\nColonne de product: \\n\",product.columns.values)\n",
    "commonAttributs = list(set(package).intersection(product))\n",
    "print(\"\\nAttributs communs au deux tables :\\n\",commonAttributs)"
   ]
  },
  {
   "cell_type": "code",
   "execution_count": 3,
   "metadata": {
    "scrolled": true
   },
   "outputs": [
    {
     "data": {
      "text/html": [
       "<div>\n",
       "<style scoped>\n",
       "    .dataframe tbody tr th:only-of-type {\n",
       "        vertical-align: middle;\n",
       "    }\n",
       "\n",
       "    .dataframe tbody tr th {\n",
       "        vertical-align: top;\n",
       "    }\n",
       "\n",
       "    .dataframe thead th {\n",
       "        text-align: right;\n",
       "    }\n",
       "</style>\n",
       "<table border=\"1\" class=\"dataframe\">\n",
       "  <thead>\n",
       "    <tr style=\"text-align: right;\">\n",
       "      <th></th>\n",
       "      <th>PRODUCTID</th>\n",
       "      <th>PRODUCTNDC</th>\n",
       "      <th>PRODUCTTYPENAME</th>\n",
       "      <th>PROPRIETARYNAME</th>\n",
       "      <th>PROPRIETARYNAMESUFFIX</th>\n",
       "      <th>NONPROPRIETARYNAME</th>\n",
       "      <th>DOSAGEFORMNAME</th>\n",
       "      <th>ROUTENAME</th>\n",
       "      <th>STARTMARKETINGDATE</th>\n",
       "      <th>ENDMARKETINGDATE</th>\n",
       "      <th>MARKETINGCATEGORYNAME</th>\n",
       "      <th>APPLICATIONNUMBER</th>\n",
       "      <th>LABELERNAME</th>\n",
       "      <th>SUBSTANCENAME</th>\n",
       "      <th>ACTIVE_NUMERATOR_STRENGTH</th>\n",
       "      <th>ACTIVE_INGRED_UNIT</th>\n",
       "      <th>PHARM_CLASSES</th>\n",
       "      <th>DEASCHEDULE</th>\n",
       "      <th>NDC_EXCLUDE_FLAG</th>\n",
       "      <th>LISTING_RECORD_CERTIFIED_THROUGH</th>\n",
       "    </tr>\n",
       "  </thead>\n",
       "  <tbody>\n",
       "    <tr>\n",
       "      <th>0</th>\n",
       "      <td>NaN</td>\n",
       "      <td>0002-0800</td>\n",
       "      <td>HUMAN OTC DRUG</td>\n",
       "      <td>Sterile Diluent</td>\n",
       "      <td>NaN</td>\n",
       "      <td>diluent</td>\n",
       "      <td>INJECTION, SOLUTION</td>\n",
       "      <td>SUBCUTANEOUS</td>\n",
       "      <td>19870710</td>\n",
       "      <td>NaN</td>\n",
       "      <td>NDA</td>\n",
       "      <td>NDA018781</td>\n",
       "      <td>10</td>\n",
       "      <td>WATER</td>\n",
       "      <td>1</td>\n",
       "      <td>mL/mL</td>\n",
       "      <td>NaN</td>\n",
       "      <td>NaN</td>\n",
       "      <td>N</td>\n",
       "      <td>20201231.0</td>\n",
       "    </tr>\n",
       "    <tr>\n",
       "      <th>1</th>\n",
       "      <td>NaN</td>\n",
       "      <td>0002-1200</td>\n",
       "      <td>HUMAN PRESCRIPTION DRUG</td>\n",
       "      <td>Amyvid</td>\n",
       "      <td>NaN</td>\n",
       "      <td>Florbetapir F 18</td>\n",
       "      <td>INJECTION, SOLUTION</td>\n",
       "      <td>INTRAVENOUS</td>\n",
       "      <td>20120601</td>\n",
       "      <td>NaN</td>\n",
       "      <td>NDA</td>\n",
       "      <td>NDA202008</td>\n",
       "      <td>10</td>\n",
       "      <td>FLORBETAPIR F-18</td>\n",
       "      <td>51</td>\n",
       "      <td>mCi/mL</td>\n",
       "      <td>Radioactive Diagnostic Agent [EPC],Positron Em...</td>\n",
       "      <td>NaN</td>\n",
       "      <td>N</td>\n",
       "      <td>20211231.0</td>\n",
       "    </tr>\n",
       "    <tr>\n",
       "      <th>2</th>\n",
       "      <td>NaN</td>\n",
       "      <td>0002-1433</td>\n",
       "      <td>HUMAN PRESCRIPTION DRUG</td>\n",
       "      <td>Trulicity</td>\n",
       "      <td>NaN</td>\n",
       "      <td>Dulaglutide</td>\n",
       "      <td>INJECTION, SOLUTION</td>\n",
       "      <td>SUBCUTANEOUS</td>\n",
       "      <td>20140918</td>\n",
       "      <td>NaN</td>\n",
       "      <td>BLA</td>\n",
       "      <td>BLA125469</td>\n",
       "      <td>10</td>\n",
       "      <td>DULAGLUTIDE</td>\n",
       "      <td>.75</td>\n",
       "      <td>mg/.5mL</td>\n",
       "      <td>GLP-1 Receptor Agonist [EPC],Glucagon-Like Pep...</td>\n",
       "      <td>NaN</td>\n",
       "      <td>N</td>\n",
       "      <td>20201231.0</td>\n",
       "    </tr>\n",
       "    <tr>\n",
       "      <th>3</th>\n",
       "      <td>NaN</td>\n",
       "      <td>0002-1434</td>\n",
       "      <td>HUMAN PRESCRIPTION DRUG</td>\n",
       "      <td>Trulicity</td>\n",
       "      <td>NaN</td>\n",
       "      <td>Dulaglutide</td>\n",
       "      <td>INJECTION, SOLUTION</td>\n",
       "      <td>SUBCUTANEOUS</td>\n",
       "      <td>20140918</td>\n",
       "      <td>NaN</td>\n",
       "      <td>BLA</td>\n",
       "      <td>BLA125469</td>\n",
       "      <td>10</td>\n",
       "      <td>DULAGLUTIDE</td>\n",
       "      <td>1.5</td>\n",
       "      <td>mg/.5mL</td>\n",
       "      <td>GLP-1 Receptor Agonist [EPC],Glucagon-Like Pep...</td>\n",
       "      <td>NaN</td>\n",
       "      <td>N</td>\n",
       "      <td>20201231.0</td>\n",
       "    </tr>\n",
       "    <tr>\n",
       "      <th>4</th>\n",
       "      <td>NaN</td>\n",
       "      <td>0002-1436</td>\n",
       "      <td>HUMAN PRESCRIPTION DRUG</td>\n",
       "      <td>EMGALITY</td>\n",
       "      <td>NaN</td>\n",
       "      <td>galcanezumab</td>\n",
       "      <td>INJECTION, SOLUTION</td>\n",
       "      <td>SUBCUTANEOUS</td>\n",
       "      <td>20180927</td>\n",
       "      <td>NaN</td>\n",
       "      <td>BLA</td>\n",
       "      <td>BLA761063</td>\n",
       "      <td>10</td>\n",
       "      <td>GALCANEZUMAB</td>\n",
       "      <td>120</td>\n",
       "      <td>mg/mL</td>\n",
       "      <td>NaN</td>\n",
       "      <td>NaN</td>\n",
       "      <td>N</td>\n",
       "      <td>20201231.0</td>\n",
       "    </tr>\n",
       "    <tr>\n",
       "      <th>5</th>\n",
       "      <td>NaN</td>\n",
       "      <td>0002-1445</td>\n",
       "      <td>HUMAN PRESCRIPTION DRUG</td>\n",
       "      <td>TALTZ</td>\n",
       "      <td>NaN</td>\n",
       "      <td>ixekizumab</td>\n",
       "      <td>INJECTION, SOLUTION</td>\n",
       "      <td>SUBCUTANEOUS</td>\n",
       "      <td>20160322</td>\n",
       "      <td>NaN</td>\n",
       "      <td>BLA</td>\n",
       "      <td>BLA125521</td>\n",
       "      <td>10</td>\n",
       "      <td>IXEKIZUMAB</td>\n",
       "      <td>80</td>\n",
       "      <td>mg/mL</td>\n",
       "      <td>Interleukin-17A Antagonist [EPC],Interleukin-1...</td>\n",
       "      <td>NaN</td>\n",
       "      <td>N</td>\n",
       "      <td>20201231.0</td>\n",
       "    </tr>\n",
       "    <tr>\n",
       "      <th>6</th>\n",
       "      <td>NaN</td>\n",
       "      <td>0002-2377</td>\n",
       "      <td>HUMAN PRESCRIPTION DRUG</td>\n",
       "      <td>EMGALITY</td>\n",
       "      <td>NaN</td>\n",
       "      <td>galcanezumab</td>\n",
       "      <td>INJECTION, SOLUTION</td>\n",
       "      <td>SUBCUTANEOUS</td>\n",
       "      <td>20180927</td>\n",
       "      <td>NaN</td>\n",
       "      <td>BLA</td>\n",
       "      <td>BLA761063</td>\n",
       "      <td>10</td>\n",
       "      <td>GALCANEZUMAB</td>\n",
       "      <td>120</td>\n",
       "      <td>mg/mL</td>\n",
       "      <td>NaN</td>\n",
       "      <td>NaN</td>\n",
       "      <td>N</td>\n",
       "      <td>20201231.0</td>\n",
       "    </tr>\n",
       "    <tr>\n",
       "      <th>7</th>\n",
       "      <td>NaN</td>\n",
       "      <td>0002-3115</td>\n",
       "      <td>HUMAN PRESCRIPTION DRUG</td>\n",
       "      <td>EMGALITY</td>\n",
       "      <td>NaN</td>\n",
       "      <td>galcanezumab</td>\n",
       "      <td>INJECTION, SOLUTION</td>\n",
       "      <td>SUBCUTANEOUS</td>\n",
       "      <td>20190604</td>\n",
       "      <td>NaN</td>\n",
       "      <td>BLA</td>\n",
       "      <td>BLA761063</td>\n",
       "      <td>10</td>\n",
       "      <td>GALCANEZUMAB</td>\n",
       "      <td>100</td>\n",
       "      <td>mg/mL</td>\n",
       "      <td>NaN</td>\n",
       "      <td>NaN</td>\n",
       "      <td>N</td>\n",
       "      <td>20201231.0</td>\n",
       "    </tr>\n",
       "    <tr>\n",
       "      <th>8</th>\n",
       "      <td>NaN</td>\n",
       "      <td>0002-3227</td>\n",
       "      <td>HUMAN PRESCRIPTION DRUG</td>\n",
       "      <td>Strattera</td>\n",
       "      <td>NaN</td>\n",
       "      <td>Atomoxetine hydrochloride</td>\n",
       "      <td>CAPSULE</td>\n",
       "      <td>ORAL</td>\n",
       "      <td>20021126</td>\n",
       "      <td>NaN</td>\n",
       "      <td>NDA</td>\n",
       "      <td>NDA021411</td>\n",
       "      <td>10</td>\n",
       "      <td>ATOMOXETINE HYDROCHLORIDE</td>\n",
       "      <td>10</td>\n",
       "      <td>mg/1</td>\n",
       "      <td>Norepinephrine Reuptake Inhibitor [EPC],Norepi...</td>\n",
       "      <td>NaN</td>\n",
       "      <td>N</td>\n",
       "      <td>20211231.0</td>\n",
       "    </tr>\n",
       "    <tr>\n",
       "      <th>9</th>\n",
       "      <td>NaN</td>\n",
       "      <td>0002-3228</td>\n",
       "      <td>HUMAN PRESCRIPTION DRUG</td>\n",
       "      <td>Strattera</td>\n",
       "      <td>NaN</td>\n",
       "      <td>Atomoxetine hydrochloride</td>\n",
       "      <td>CAPSULE</td>\n",
       "      <td>ORAL</td>\n",
       "      <td>20021126</td>\n",
       "      <td>NaN</td>\n",
       "      <td>NDA</td>\n",
       "      <td>NDA021411</td>\n",
       "      <td>10</td>\n",
       "      <td>ATOMOXETINE HYDROCHLORIDE</td>\n",
       "      <td>25</td>\n",
       "      <td>mg/1</td>\n",
       "      <td>Norepinephrine Reuptake Inhibitor [EPC],Norepi...</td>\n",
       "      <td>NaN</td>\n",
       "      <td>N</td>\n",
       "      <td>20211231.0</td>\n",
       "    </tr>\n",
       "  </tbody>\n",
       "</table>\n",
       "</div>"
      ],
      "text/plain": [
       "  PRODUCTID PRODUCTNDC          PRODUCTTYPENAME  PROPRIETARYNAME  \\\n",
       "0       NaN  0002-0800           HUMAN OTC DRUG  Sterile Diluent   \n",
       "1       NaN  0002-1200  HUMAN PRESCRIPTION DRUG           Amyvid   \n",
       "2       NaN  0002-1433  HUMAN PRESCRIPTION DRUG        Trulicity   \n",
       "3       NaN  0002-1434  HUMAN PRESCRIPTION DRUG        Trulicity   \n",
       "4       NaN  0002-1436  HUMAN PRESCRIPTION DRUG         EMGALITY   \n",
       "5       NaN  0002-1445  HUMAN PRESCRIPTION DRUG            TALTZ   \n",
       "6       NaN  0002-2377  HUMAN PRESCRIPTION DRUG         EMGALITY   \n",
       "7       NaN  0002-3115  HUMAN PRESCRIPTION DRUG         EMGALITY   \n",
       "8       NaN  0002-3227  HUMAN PRESCRIPTION DRUG        Strattera   \n",
       "9       NaN  0002-3228  HUMAN PRESCRIPTION DRUG        Strattera   \n",
       "\n",
       "  PROPRIETARYNAMESUFFIX         NONPROPRIETARYNAME       DOSAGEFORMNAME  \\\n",
       "0                   NaN                    diluent  INJECTION, SOLUTION   \n",
       "1                   NaN           Florbetapir F 18  INJECTION, SOLUTION   \n",
       "2                   NaN                Dulaglutide  INJECTION, SOLUTION   \n",
       "3                   NaN                Dulaglutide  INJECTION, SOLUTION   \n",
       "4                   NaN               galcanezumab  INJECTION, SOLUTION   \n",
       "5                   NaN                 ixekizumab  INJECTION, SOLUTION   \n",
       "6                   NaN               galcanezumab  INJECTION, SOLUTION   \n",
       "7                   NaN               galcanezumab  INJECTION, SOLUTION   \n",
       "8                   NaN  Atomoxetine hydrochloride              CAPSULE   \n",
       "9                   NaN  Atomoxetine hydrochloride              CAPSULE   \n",
       "\n",
       "      ROUTENAME  STARTMARKETINGDATE  ENDMARKETINGDATE MARKETINGCATEGORYNAME  \\\n",
       "0  SUBCUTANEOUS            19870710               NaN                   NDA   \n",
       "1   INTRAVENOUS            20120601               NaN                   NDA   \n",
       "2  SUBCUTANEOUS            20140918               NaN                   BLA   \n",
       "3  SUBCUTANEOUS            20140918               NaN                   BLA   \n",
       "4  SUBCUTANEOUS            20180927               NaN                   BLA   \n",
       "5  SUBCUTANEOUS            20160322               NaN                   BLA   \n",
       "6  SUBCUTANEOUS            20180927               NaN                   BLA   \n",
       "7  SUBCUTANEOUS            20190604               NaN                   BLA   \n",
       "8          ORAL            20021126               NaN                   NDA   \n",
       "9          ORAL            20021126               NaN                   NDA   \n",
       "\n",
       "  APPLICATIONNUMBER LABELERNAME              SUBSTANCENAME  \\\n",
       "0         NDA018781          10                      WATER   \n",
       "1         NDA202008          10           FLORBETAPIR F-18   \n",
       "2         BLA125469          10                DULAGLUTIDE   \n",
       "3         BLA125469          10                DULAGLUTIDE   \n",
       "4         BLA761063          10               GALCANEZUMAB   \n",
       "5         BLA125521          10                 IXEKIZUMAB   \n",
       "6         BLA761063          10               GALCANEZUMAB   \n",
       "7         BLA761063          10               GALCANEZUMAB   \n",
       "8         NDA021411          10  ATOMOXETINE HYDROCHLORIDE   \n",
       "9         NDA021411          10  ATOMOXETINE HYDROCHLORIDE   \n",
       "\n",
       "  ACTIVE_NUMERATOR_STRENGTH ACTIVE_INGRED_UNIT  \\\n",
       "0                         1              mL/mL   \n",
       "1                        51             mCi/mL   \n",
       "2                       .75            mg/.5mL   \n",
       "3                       1.5            mg/.5mL   \n",
       "4                       120              mg/mL   \n",
       "5                        80              mg/mL   \n",
       "6                       120              mg/mL   \n",
       "7                       100              mg/mL   \n",
       "8                        10               mg/1   \n",
       "9                        25               mg/1   \n",
       "\n",
       "                                       PHARM_CLASSES DEASCHEDULE  \\\n",
       "0                                                NaN         NaN   \n",
       "1  Radioactive Diagnostic Agent [EPC],Positron Em...         NaN   \n",
       "2  GLP-1 Receptor Agonist [EPC],Glucagon-Like Pep...         NaN   \n",
       "3  GLP-1 Receptor Agonist [EPC],Glucagon-Like Pep...         NaN   \n",
       "4                                                NaN         NaN   \n",
       "5  Interleukin-17A Antagonist [EPC],Interleukin-1...         NaN   \n",
       "6                                                NaN         NaN   \n",
       "7                                                NaN         NaN   \n",
       "8  Norepinephrine Reuptake Inhibitor [EPC],Norepi...         NaN   \n",
       "9  Norepinephrine Reuptake Inhibitor [EPC],Norepi...         NaN   \n",
       "\n",
       "  NDC_EXCLUDE_FLAG  LISTING_RECORD_CERTIFIED_THROUGH  \n",
       "0                N                        20201231.0  \n",
       "1                N                        20211231.0  \n",
       "2                N                        20201231.0  \n",
       "3                N                        20201231.0  \n",
       "4                N                        20201231.0  \n",
       "5                N                        20201231.0  \n",
       "6                N                        20201231.0  \n",
       "7                N                        20201231.0  \n",
       "8                N                        20211231.0  \n",
       "9                N                        20211231.0  "
      ]
     },
     "execution_count": 3,
     "metadata": {},
     "output_type": "execute_result"
    }
   ],
   "source": [
    "product.head(10)"
   ]
  },
  {
   "cell_type": "code",
   "execution_count": 4,
   "metadata": {
    "scrolled": true
   },
   "outputs": [
    {
     "data": {
      "text/html": [
       "<div>\n",
       "<style scoped>\n",
       "    .dataframe tbody tr th:only-of-type {\n",
       "        vertical-align: middle;\n",
       "    }\n",
       "\n",
       "    .dataframe tbody tr th {\n",
       "        vertical-align: top;\n",
       "    }\n",
       "\n",
       "    .dataframe thead th {\n",
       "        text-align: right;\n",
       "    }\n",
       "</style>\n",
       "<table border=\"1\" class=\"dataframe\">\n",
       "  <thead>\n",
       "    <tr style=\"text-align: right;\">\n",
       "      <th></th>\n",
       "      <th>PRODUCTID</th>\n",
       "      <th>PRODUCTNDC</th>\n",
       "      <th>NDCPACKAGECODE</th>\n",
       "      <th>PACKAGEDESCRIPTION</th>\n",
       "      <th>STARTMARKETINGDATE</th>\n",
       "      <th>ENDMARKETINGDATE</th>\n",
       "      <th>NDC_EXCLUDE_FLAG</th>\n",
       "      <th>SAMPLE_PACKAGE</th>\n",
       "    </tr>\n",
       "  </thead>\n",
       "  <tbody>\n",
       "    <tr>\n",
       "      <th>0</th>\n",
       "      <td>0002-0800_94c48759-29bb-402d-afff-9a713be11f0e</td>\n",
       "      <td>0002-0800</td>\n",
       "      <td>0002-0800-01</td>\n",
       "      <td>1 VIAL in 1 CARTON (0002-0800-01)  &gt; 10 mL in ...</td>\n",
       "      <td>19870710</td>\n",
       "      <td>NaN</td>\n",
       "      <td>N</td>\n",
       "      <td>N</td>\n",
       "    </tr>\n",
       "    <tr>\n",
       "      <th>1</th>\n",
       "      <td>0002-1200_35551a38-7a8d-43b8-8abd-f6cb7549e932</td>\n",
       "      <td>0002-1200</td>\n",
       "      <td>0002-1200-30</td>\n",
       "      <td>1 VIAL, MULTI-DOSE in 1 CAN (0002-1200-30)  &gt; ...</td>\n",
       "      <td>20120601</td>\n",
       "      <td>NaN</td>\n",
       "      <td>N</td>\n",
       "      <td>N</td>\n",
       "    </tr>\n",
       "    <tr>\n",
       "      <th>2</th>\n",
       "      <td>0002-1200_35551a38-7a8d-43b8-8abd-f6cb7549e932</td>\n",
       "      <td>0002-1200</td>\n",
       "      <td>0002-1200-50</td>\n",
       "      <td>1 VIAL, MULTI-DOSE in 1 CAN (0002-1200-50)  &gt; ...</td>\n",
       "      <td>20120601</td>\n",
       "      <td>NaN</td>\n",
       "      <td>N</td>\n",
       "      <td>N</td>\n",
       "    </tr>\n",
       "    <tr>\n",
       "      <th>3</th>\n",
       "      <td>0002-1433_42a80046-fd68-4b80-819c-a443b7816edb</td>\n",
       "      <td>0002-1433</td>\n",
       "      <td>0002-1433-61</td>\n",
       "      <td>2 SYRINGE in 1 CARTON (0002-1433-61)  &gt; .5 mL ...</td>\n",
       "      <td>20141107</td>\n",
       "      <td>NaN</td>\n",
       "      <td>N</td>\n",
       "      <td>Y</td>\n",
       "    </tr>\n",
       "    <tr>\n",
       "      <th>4</th>\n",
       "      <td>0002-1433_42a80046-fd68-4b80-819c-a443b7816edb</td>\n",
       "      <td>0002-1433</td>\n",
       "      <td>0002-1433-80</td>\n",
       "      <td>4 SYRINGE in 1 CARTON (0002-1433-80)  &gt; .5 mL ...</td>\n",
       "      <td>20141107</td>\n",
       "      <td>NaN</td>\n",
       "      <td>N</td>\n",
       "      <td>N</td>\n",
       "    </tr>\n",
       "    <tr>\n",
       "      <th>5</th>\n",
       "      <td>0002-1434_42a80046-fd68-4b80-819c-a443b7816edb</td>\n",
       "      <td>0002-1434</td>\n",
       "      <td>0002-1434-61</td>\n",
       "      <td>2 SYRINGE in 1 CARTON (0002-1434-61)  &gt; .5 mL ...</td>\n",
       "      <td>20141107</td>\n",
       "      <td>NaN</td>\n",
       "      <td>N</td>\n",
       "      <td>Y</td>\n",
       "    </tr>\n",
       "    <tr>\n",
       "      <th>6</th>\n",
       "      <td>0002-1434_42a80046-fd68-4b80-819c-a443b7816edb</td>\n",
       "      <td>0002-1434</td>\n",
       "      <td>0002-1434-80</td>\n",
       "      <td>4 SYRINGE in 1 CARTON (0002-1434-80)  &gt; .5 mL ...</td>\n",
       "      <td>20141107</td>\n",
       "      <td>NaN</td>\n",
       "      <td>N</td>\n",
       "      <td>N</td>\n",
       "    </tr>\n",
       "    <tr>\n",
       "      <th>7</th>\n",
       "      <td>0002-1436_dd7f66eb-66e1-4ad0-a593-417dbf2c74e2</td>\n",
       "      <td>0002-1436</td>\n",
       "      <td>0002-1436-11</td>\n",
       "      <td>1 SYRINGE in 1 CARTON (0002-1436-11)  &gt; 1 mL i...</td>\n",
       "      <td>20180927</td>\n",
       "      <td>NaN</td>\n",
       "      <td>N</td>\n",
       "      <td>N</td>\n",
       "    </tr>\n",
       "  </tbody>\n",
       "</table>\n",
       "</div>"
      ],
      "text/plain": [
       "                                        PRODUCTID PRODUCTNDC NDCPACKAGECODE  \\\n",
       "0  0002-0800_94c48759-29bb-402d-afff-9a713be11f0e  0002-0800   0002-0800-01   \n",
       "1  0002-1200_35551a38-7a8d-43b8-8abd-f6cb7549e932  0002-1200   0002-1200-30   \n",
       "2  0002-1200_35551a38-7a8d-43b8-8abd-f6cb7549e932  0002-1200   0002-1200-50   \n",
       "3  0002-1433_42a80046-fd68-4b80-819c-a443b7816edb  0002-1433   0002-1433-61   \n",
       "4  0002-1433_42a80046-fd68-4b80-819c-a443b7816edb  0002-1433   0002-1433-80   \n",
       "5  0002-1434_42a80046-fd68-4b80-819c-a443b7816edb  0002-1434   0002-1434-61   \n",
       "6  0002-1434_42a80046-fd68-4b80-819c-a443b7816edb  0002-1434   0002-1434-80   \n",
       "7  0002-1436_dd7f66eb-66e1-4ad0-a593-417dbf2c74e2  0002-1436   0002-1436-11   \n",
       "\n",
       "                                  PACKAGEDESCRIPTION  STARTMARKETINGDATE  \\\n",
       "0  1 VIAL in 1 CARTON (0002-0800-01)  > 10 mL in ...            19870710   \n",
       "1  1 VIAL, MULTI-DOSE in 1 CAN (0002-1200-30)  > ...            20120601   \n",
       "2  1 VIAL, MULTI-DOSE in 1 CAN (0002-1200-50)  > ...            20120601   \n",
       "3  2 SYRINGE in 1 CARTON (0002-1433-61)  > .5 mL ...            20141107   \n",
       "4  4 SYRINGE in 1 CARTON (0002-1433-80)  > .5 mL ...            20141107   \n",
       "5  2 SYRINGE in 1 CARTON (0002-1434-61)  > .5 mL ...            20141107   \n",
       "6  4 SYRINGE in 1 CARTON (0002-1434-80)  > .5 mL ...            20141107   \n",
       "7  1 SYRINGE in 1 CARTON (0002-1436-11)  > 1 mL i...            20180927   \n",
       "\n",
       "   ENDMARKETINGDATE NDC_EXCLUDE_FLAG SAMPLE_PACKAGE  \n",
       "0               NaN                N              N  \n",
       "1               NaN                N              N  \n",
       "2               NaN                N              N  \n",
       "3               NaN                N              Y  \n",
       "4               NaN                N              N  \n",
       "5               NaN                N              Y  \n",
       "6               NaN                N              N  \n",
       "7               NaN                N              N  "
      ]
     },
     "execution_count": 4,
     "metadata": {},
     "output_type": "execute_result"
    }
   ],
   "source": [
    "package.head(8)"
   ]
  },
  {
   "cell_type": "markdown",
   "metadata": {},
   "source": [
    "# Question 1\n",
    "\n",
    "## Types des attributs"
   ]
  },
  {
   "cell_type": "code",
   "execution_count": 5,
   "metadata": {},
   "outputs": [
    {
     "name": "stdout",
     "output_type": "stream",
     "text": [
      "Types des attributs pour package :\n",
      "\n",
      " PRODUCTID              object\n",
      "PRODUCTNDC             object\n",
      "NDCPACKAGECODE         object\n",
      "PACKAGEDESCRIPTION     object\n",
      "STARTMARKETINGDATE      int64\n",
      "ENDMARKETINGDATE      float64\n",
      "NDC_EXCLUDE_FLAG       object\n",
      "SAMPLE_PACKAGE         object\n",
      "dtype: object\n",
      "\n",
      "Types des attributs pour product :\n",
      "\n",
      " PRODUCTID                            object\n",
      "PRODUCTNDC                           object\n",
      "PRODUCTTYPENAME                      object\n",
      "PROPRIETARYNAME                      object\n",
      "PROPRIETARYNAMESUFFIX                object\n",
      "NONPROPRIETARYNAME                   object\n",
      "DOSAGEFORMNAME                       object\n",
      "ROUTENAME                            object\n",
      "STARTMARKETINGDATE                    int64\n",
      "ENDMARKETINGDATE                    float64\n",
      "MARKETINGCATEGORYNAME                object\n",
      "APPLICATIONNUMBER                    object\n",
      "LABELERNAME                          object\n",
      "SUBSTANCENAME                        object\n",
      "ACTIVE_NUMERATOR_STRENGTH            object\n",
      "ACTIVE_INGRED_UNIT                   object\n",
      "PHARM_CLASSES                        object\n",
      "DEASCHEDULE                          object\n",
      "NDC_EXCLUDE_FLAG                     object\n",
      "LISTING_RECORD_CERTIFIED_THROUGH    float64\n",
      "dtype: object\n"
     ]
    }
   ],
   "source": [
    "print(\"Types des attributs pour package :\\n\\n\",package.dtypes)\n",
    "print(\"\\nTypes des attributs pour product :\\n\\n\",product.dtypes)"
   ]
  },
  {
   "cell_type": "markdown",
   "metadata": {},
   "source": [
    "### Valeurs Manquantes"
   ]
  },
  {
   "cell_type": "code",
   "execution_count": 6,
   "metadata": {},
   "outputs": [
    {
     "name": "stdout",
     "output_type": "stream",
     "text": [
      "(167507, 8)\n",
      "(93238, 20)\n",
      "Valeurs manquante par colonne dans package:\n",
      "\n",
      "PRODUCTID    0\n",
      "dtype: int64\n",
      "PRODUCTNDC    1500\n",
      "dtype: int64\n",
      "NDCPACKAGECODE    2346\n",
      "dtype: int64\n",
      "PACKAGEDESCRIPTION    0\n",
      "dtype: int64\n",
      "STARTMARKETINGDATE    0\n",
      "dtype: int64\n",
      "ENDMARKETINGDATE    167431\n",
      "dtype: int64\n",
      "NDC_EXCLUDE_FLAG    0\n",
      "dtype: int64\n",
      "SAMPLE_PACKAGE    0\n",
      "dtype: int64\n",
      "Nombre total de rangees dans package : 173887\n",
      "\n",
      "Valeurs manquante par colonne dans product:\n",
      "\n",
      "PRODUCTID    1560\n",
      "dtype: int64\n",
      "PRODUCTNDC    0\n",
      "dtype: int64\n",
      "PRODUCTTYPENAME    0\n",
      "dtype: int64\n",
      "PROPRIETARYNAME    6\n",
      "dtype: int64\n",
      "PROPRIETARYNAMESUFFIX    83075\n",
      "dtype: int64\n",
      "NONPROPRIETARYNAME    4\n",
      "dtype: int64\n",
      "DOSAGEFORMNAME    0\n",
      "dtype: int64\n",
      "ROUTENAME    1932\n",
      "dtype: int64\n",
      "STARTMARKETINGDATE    0\n",
      "dtype: int64\n",
      "ENDMARKETINGDATE    88915\n",
      "dtype: int64\n",
      "MARKETINGCATEGORYNAME    0\n",
      "dtype: int64\n",
      "APPLICATIONNUMBER    13097\n",
      "dtype: int64\n",
      "LABELERNAME    0\n",
      "dtype: int64\n",
      "SUBSTANCENAME    2309\n",
      "dtype: int64\n",
      "ACTIVE_NUMERATOR_STRENGTH    2309\n",
      "dtype: int64\n",
      "ACTIVE_INGRED_UNIT    2309\n",
      "dtype: int64\n",
      "PHARM_CLASSES    50984\n",
      "dtype: int64\n",
      "DEASCHEDULE    88815\n",
      "dtype: int64\n",
      "NDC_EXCLUDE_FLAG    0\n",
      "dtype: int64\n",
      "LISTING_RECORD_CERTIFIED_THROUGH    4325\n",
      "dtype: int64\n",
      "Nombre total de rangees dans product: 93238\n"
     ]
    }
   ],
   "source": [
    "manquantePackage = package[package.isnull().any(axis=1)]\n",
    "#display(manquantePackage)\n",
    "print(manquantePackage.shape)\n",
    "\n",
    "manquanteProduct = product[product.isnull().any(axis=1)]\n",
    "#display(manquanteProduct)\n",
    "print(manquanteProduct.shape)\n",
    "\n",
    "print(\"Valeurs manquante par colonne dans package:\\n\")\n",
    "for col in package.columns:\n",
    "    nb = package[[col]].isna().sum()\n",
    "    print(nb)\n",
    "print(\"Nombre total de rangees dans package :\", len(package))\n",
    "\n",
    "print(\"\\nValeurs manquante par colonne dans product:\\n\")\n",
    "for col in product.columns:\n",
    "    nb = product[[col]].isna().sum()\n",
    "    print(nb)\n",
    "print(\"Nombre total de rangees dans product:\", len(product))"
   ]
  },
  {
   "cell_type": "markdown",
   "metadata": {},
   "source": [
    "### Incohérences dans package"
   ]
  },
  {
   "cell_type": "code",
   "execution_count": 7,
   "metadata": {},
   "outputs": [
    {
     "name": "stdout",
     "output_type": "stream",
     "text": [
      "Nombres de PRODUCTID n'ayant pas de tiret: 0\n"
     ]
    }
   ],
   "source": [
    "#Verifier que productId possède au moins 1 tiret \n",
    "productIdNotNull = package[~package['PRODUCTID'].isnull()]\n",
    "arrayIndexInvalidProductIdForPackage = []\n",
    "\n",
    "for index, row in productIdNotNull.iterrows():\n",
    "    if \"-\" not in row['PRODUCTID']:\n",
    "        arrayIndexInvalidProductIdForPackage.append(index)\n",
    "print(\"Nombres de PRODUCTID n'ayant pas de tiret:\",len(arrayIndexInvalidProductIdForPackage))"
   ]
  },
  {
   "cell_type": "code",
   "execution_count": 8,
   "metadata": {},
   "outputs": [
    {
     "name": "stdout",
     "output_type": "stream",
     "text": [
      "Nombres de NDCPACKAGECODE n'ayant pas 2 tirets ou contenant des lettres: 154\n"
     ]
    }
   ],
   "source": [
    "ndcPackageCodeNotNull = package[~package['NDCPACKAGECODE'].isnull()]\n",
    "arrayIndexInvalidNDCPackageCode = []\n",
    "\n",
    "for index, row in ndcPackageCodeNotNull.iterrows():\n",
    "    #Si le productndc ne contient pas de tiret\n",
    "    if not row['NDCPACKAGECODE'].count(\"-\")== 2:\n",
    "        arrayIndexInvalidNDCPackageCode.append(index)\n",
    "\n",
    "    elif not row['NDCPACKAGECODE'].replace('-','').isnumeric():\n",
    "        arrayIndexInvalidNDCPackageCode.append(index)\n",
    "        \n",
    "print(\"Nombres de NDCPACKAGECODE n'ayant pas 2 tirets ou contenant des lettres:\",len(arrayIndexInvalidNDCPackageCode))"
   ]
  },
  {
   "cell_type": "code",
   "execution_count": 9,
   "metadata": {},
   "outputs": [
    {
     "name": "stdout",
     "output_type": "stream",
     "text": [
      "Nombres de PRODUCTNDC n'ayant pas de tiret ou contenant des lettres: 519\n"
     ]
    }
   ],
   "source": [
    "#Verifier que le productNDC est composé de nombre et contient un tiret comme indiqué dans la documentation\n",
    "productNDCNotNull = package[~package['PRODUCTNDC'].isnull()]\n",
    "arrayIndexInvalidProductNDCForPackage = []\n",
    "\n",
    "for index, row in productNDCNotNull.iterrows():\n",
    "    #Si le productndc ne contient pas de tiret\n",
    "    if not row['PRODUCTNDC'].count(\"-\")== 1:\n",
    "        arrayIndexInvalidProductNDCForPackage.append(index)\n",
    "\n",
    "    elif not row['PRODUCTNDC'].replace('-','').isnumeric():\n",
    "        arrayIndexInvalidProductNDCForPackage.append(index)\n",
    "    \n",
    "print(\"Nombres de PRODUCTNDC n'ayant pas de tiret ou contenant des lettres:\",len(arrayIndexInvalidProductNDCForPackage))"
   ]
  },
  {
   "cell_type": "code",
   "execution_count": 10,
   "metadata": {},
   "outputs": [
    {
     "name": "stdout",
     "output_type": "stream",
     "text": [
      "Nombre de PRODUCTNDC contenu dans PRODUCTID différent du PRODUCTNDC :  519\n",
      "519\n"
     ]
    }
   ],
   "source": [
    "#Verifier que PRODUCTNDC apparait au debut de PRODUCTID\n",
    "#Dans le cas ou le PRODUCTNDC et le PRODUCTID existent\n",
    "productNDCAndProductIdNotNull = package[(~package['PRODUCTNDC'].isnull()) & (~package['PRODUCTID'].isnull())]\n",
    "\n",
    "arrayIndexIncoherentProductNDCAndProductIdForPackage = []\n",
    "compteurIncoherence = 0\n",
    "for index, row in productNDCAndProductIdNotNull.iterrows() :\n",
    "    productndc = row['PRODUCTNDC']\n",
    "    productid = row['PRODUCTID']\n",
    "    if productndc != productid[:len(productndc)]:\n",
    "        arrayIndexIncoherentProductNDCAndProductIdForPackage.append(index)\n",
    "        compteurIncoherence += 1\n",
    "        \n",
    "print(\"Nombre de PRODUCTNDC contenu dans PRODUCTID différent du PRODUCTNDC : \", compteurIncoherence)\n",
    "print(len(arrayIndexIncoherentProductNDCAndProductIdForPackage))"
   ]
  },
  {
   "cell_type": "code",
   "execution_count": 11,
   "metadata": {},
   "outputs": [
    {
     "name": "stdout",
     "output_type": "stream",
     "text": [
      "Nombre de PRODUCTNDC contenu dans NDCPACKAGECODE différent du PRODUCTNDC :  674\n"
     ]
    }
   ],
   "source": [
    "#Dans le cas ou le PRODUCTNDC et le NDCPackageCode existent\n",
    "productNDCAndNDCPackageCodeNotNull = package[(~package['PRODUCTNDC'].isnull()) & (~package['NDCPACKAGECODE'].isnull())]\n",
    "\n",
    "arrayIndexIncoherentProductNDCAndNDCPackageCode = []\n",
    "compteurIncoherence = 0\n",
    "for index, row in productNDCAndNDCPackageCodeNotNull.iterrows() :\n",
    "    productndc = row['PRODUCTNDC']\n",
    "    ndcpkgcode = row['NDCPACKAGECODE']\n",
    "    if productndc != ndcpkgcode[:len(productndc)]:\n",
    "        arrayIndexIncoherentProductNDCAndNDCPackageCode.append(index)\n",
    "        compteurIncoherence += 1\n",
    "        \n",
    "print(\"Nombre de PRODUCTNDC contenu dans NDCPACKAGECODE différent du PRODUCTNDC : \", compteurIncoherence)"
   ]
  },
  {
   "cell_type": "code",
   "execution_count": 12,
   "metadata": {},
   "outputs": [
    {
     "name": "stdout",
     "output_type": "stream",
     "text": [
      "Nombre de dates de STARTMARKETINGDATE invalides :  243\n"
     ]
    }
   ],
   "source": [
    "#Aucune valeur manquante dans package pour la colonne STARTMARKETINGDATE donc on peut utiliser directement package\n",
    "dateFormatNonValide = 0\n",
    "arrayIndexInvalidStartMktgDateForPackage = []\n",
    "for index, row in package.iterrows():\n",
    "    #Si la date n'est pas dans le format indiqué alors cela retourne NaT\n",
    "    date = pd.to_datetime(row['STARTMARKETINGDATE'], format='%Y%m%d', errors='coerce')\n",
    "    if pd.isnull(date):\n",
    "        arrayIndexInvalidStartMktgDateForPackage.append(index)\n",
    "        dateFormatNonValide +=1\n",
    "        \n",
    "print(\"Nombre de dates de STARTMARKETINGDATE invalides : \",dateFormatNonValide)"
   ]
  },
  {
   "cell_type": "code",
   "execution_count": 13,
   "metadata": {},
   "outputs": [
    {
     "name": "stdout",
     "output_type": "stream",
     "text": [
      "Nombre de dates de ENDMARKETINGDATE invalides :  0\n"
     ]
    }
   ],
   "source": [
    "endMarketingDateNotnull = package[(~package['ENDMARKETINGDATE'].isnull())]\n",
    "\n",
    "dateFormatNonValide = 0\n",
    "for index in range(0,len(endMarketingDateNotnull)):\n",
    "    #Si la date n'est pas dans le format indiqué alors cela retourne NaT\n",
    "    date = pd.to_datetime(endMarketingDateNotnull.iloc[index]['ENDMARKETINGDATE'], format='%Y%m%d', errors='coerce')\n",
    "    if pd.isnull(date):\n",
    "        dateFormatNonValide +=1\n",
    "        \n",
    "print(\"Nombre de dates de ENDMARKETINGDATE invalides : \",dateFormatNonValide)"
   ]
  },
  {
   "cell_type": "code",
   "execution_count": 14,
   "metadata": {},
   "outputs": [
    {
     "name": "stdout",
     "output_type": "stream",
     "text": [
      "Nombre de dates incohérentes tel que start soit apres end, ou soit la date start est invalide :  18\n"
     ]
    }
   ],
   "source": [
    "#Verifier que la date start soit avant ou égale à la date end (cependant date start peut être non valide)\n",
    "datesIncoherentes = 0\n",
    "arrayIndexDatesIncoherentesForPackage = []\n",
    "\n",
    "for index, row in endMarketingDateNotnull.iterrows():\n",
    "    dateEnd = pd.to_datetime(row['ENDMARKETINGDATE'])\n",
    "    dateStart = pd.to_datetime(row['STARTMARKETINGDATE'])\n",
    "    \n",
    "    if dateEnd < dateStart :\n",
    "        arrayIndexDatesIncoherentesForPackage.append(index)\n",
    "        datesIncoherentes +=1\n",
    "print(\"Nombre de dates incohérentes tel que start soit apres end, ou soit la date start est invalide : \",datesIncoherentes)"
   ]
  },
  {
   "cell_type": "code",
   "execution_count": 15,
   "metadata": {
    "scrolled": true
   },
   "outputs": [
    {
     "name": "stdout",
     "output_type": "stream",
     "text": [
      "Nombre de ligne avec une valeur autre que Y ou N dans la colonne sample_Package :  0\n",
      "Nombre de rangee avec une valeur autre que Y, N, E ou I dans la colonne ndc_exclude_flag :  0\n"
     ]
    }
   ],
   "source": [
    "#incoherence dans la table package\n",
    "#SAMPLE_PACKAGE peut prendre une valeur parmis Y ou N\n",
    "samplePackage = package[(package['SAMPLE_PACKAGE'] != 'Y') & (package['SAMPLE_PACKAGE'] != 'N')]\n",
    "\n",
    "print(\"Nombre de ligne avec une valeur autre que Y ou N dans la colonne sample_Package : \",len(samplePackage))\n",
    "\n",
    "#NDC_EXCLUDE_FLAG peut prendre une valeur parmis Y, N, E ou I\n",
    "ndc_exclude_flag = package[(package['NDC_EXCLUDE_FLAG'] != 'Y') & (package['NDC_EXCLUDE_FLAG'] != 'N') & (package['NDC_EXCLUDE_FLAG'] != 'E') & (package['NDC_EXCLUDE_FLAG'] != 'I')]\n",
    "print(\"Nombre de rangee avec une valeur autre que Y, N, E ou I dans la colonne ndc_exclude_flag : \",len(ndc_exclude_flag))"
   ]
  },
  {
   "cell_type": "markdown",
   "metadata": {},
   "source": [
    "En ce qui attrait au colonnes <b>PRODUCTID PRODUCTNDC NDCPACKAGECODE PACKAGEDESCRIPTION</b> de la table PACKAGE, il est difficile de d'avoir un critère qui permet de savoir si il y a une incoherence dans les données de la colonne. Pour ce qui est des autres colonnes, force est de constater qu'il n'y a pas d'incoherence flagrante dans les données intra colonnes. En effet, d'autant plus que les données de ces colonnes sont du type OBJECT, ils peuvent donc prendre n'importe quelle forme."
   ]
  },
  {
   "cell_type": "markdown",
   "metadata": {},
   "source": [
    "### Incohérences dans product"
   ]
  },
  {
   "cell_type": "code",
   "execution_count": 16,
   "metadata": {},
   "outputs": [
    {
     "name": "stdout",
     "output_type": "stream",
     "text": [
      "Nombres de PRODUCTID n'ayant pas de tiret: 0\n"
     ]
    }
   ],
   "source": [
    "#Verifier que productId possède au moins 1 tiret \n",
    "productIdNotNull = product[~product['PRODUCTID'].isnull()]\n",
    "arrayIndexInvalidProductIdForProduct = []\n",
    "\n",
    "for index, row in productIdNotNull.iterrows():\n",
    "    if \"-\" not in row['PRODUCTID']:\n",
    "        arrayIndexInvalidProductIdForProduct.append(index)\n",
    "print(\"Nombres de PRODUCTID n'ayant pas de tiret:\",len(arrayIndexInvalidProductIdForProduct))"
   ]
  },
  {
   "cell_type": "code",
   "execution_count": 17,
   "metadata": {},
   "outputs": [
    {
     "name": "stdout",
     "output_type": "stream",
     "text": [
      "Nombre de DEASCHEDULE n'ayant pas de valeur valide : 0\n"
     ]
    }
   ],
   "source": [
    "deaScheduleNotNull = product[~product['DEASCHEDULE'].isnull()] \n",
    "\n",
    "arrayIndexInvalidDeaSchedule = []\n",
    "\n",
    "for index, row in deaScheduleNotNull.iterrows():\n",
    "    if row['DEASCHEDULE'] not in ['CI', 'CII', 'CIII', 'CIV','CV']:\n",
    "        arrayIndexInvalidDeaSchedule.append(index)\n",
    "print(\"Nombre de DEASCHEDULE n'ayant pas de valeur valide :\",len(arrayIndexInvalidDeaSchedule))\n"
   ]
  },
  {
   "cell_type": "code",
   "execution_count": 39,
   "metadata": {},
   "outputs": [
    {
     "name": "stdout",
     "output_type": "stream",
     "text": [
      "Nombres de PRODUCTNDC n'ayant pas de tiret ou contenant des lettres: 0\n"
     ]
    }
   ],
   "source": [
    "#Verifier que le productNDC est composé de nombre et contient un tiret comme indiqué dans la documentation\n",
    "productNDCNotNull = product[~product['PRODUCTNDC'].isnull()]\n",
    "arrayIndexInvalidProductNDCForProduct = []\n",
    "\n",
    "for index, row in productNDCNotNull.iterrows():\n",
    "    #Si le productndc ne contient pas de tiret\n",
    "    if \"-\" not in row['PRODUCTNDC']:\n",
    "        arrayIndexInvalidProductNDCForProduct.append(index)\n",
    "        \n",
    "    elif not row['PRODUCTNDC'].replace('-','').isnumeric():\n",
    "        arrayIndexInvalidProductNDCForProduct.append(index)\n",
    "    \n",
    "print(\"Nombres de PRODUCTNDC n'ayant pas de tiret ou contenant des lettres:\",len(arrayIndexInvalidProductNDCForProduct))"
   ]
  },
  {
   "cell_type": "code",
   "execution_count": 40,
   "metadata": {},
   "outputs": [
    {
     "name": "stdout",
     "output_type": "stream",
     "text": [
      "Nombre de PRODUCTNDC contenu dans PRODUCTID différent du PRODUCTNDC :  0\n"
     ]
    }
   ],
   "source": [
    "#Dans le cas ou le PRODUCTNDC et le PRODUCTID existent\n",
    "productNDCAndProductIdNotNull = product[(~product['PRODUCTNDC'].isnull()) & (~product['PRODUCTID'].isnull())]\n",
    "\n",
    "arrayIndexIncoherentProductNDCAndProductIdForProduct = []\n",
    "compteurIncoherence = 0\n",
    "for index, row in productNDCAndProductIdNotNull.iterrows() :\n",
    "    productndc = row['PRODUCTNDC']\n",
    "    productid = row['PRODUCTID']\n",
    "    if productndc != productid[:len(productndc)]:\n",
    "        arrayIndexIncoherentProductNDCAndProductIdForProduct.append(index)\n",
    "        compteurIncoherence += 1\n",
    "        \n",
    "print(\"Nombre de PRODUCTNDC contenu dans PRODUCTID différent du PRODUCTNDC : \", compteurIncoherence) "
   ]
  },
  {
   "cell_type": "code",
   "execution_count": 41,
   "metadata": {},
   "outputs": [
    {
     "name": "stdout",
     "output_type": "stream",
     "text": [
      "Nombre de MARKETINGCATEGORYNAME contenu dans APPLICATIONNUMBER différent du MARKETINGCATEGORYNAME :  124\n"
     ]
    }
   ],
   "source": [
    "#Dans le cas ou le MARKETINGCATEGORYNAME et le APPLICATIONNUMBER existent\n",
    "#On ne teste pas sur MARKETINGCATEGORYNAME car il y a aucune valeur manquante\n",
    "applicationNumberNotNull = product[(~product['APPLICATIONNUMBER'].isnull())]\n",
    "\n",
    "compteurIncoherence = 0\n",
    "arrayIndexIncoherentMarketingCategoryNameAndApplicationNumber = []\n",
    "for index, row in applicationNumberNotNull.iterrows() :\n",
    "    marketingctgname = row['MARKETINGCATEGORYNAME']\n",
    "    applicationnumber = row['APPLICATIONNUMBER']\n",
    "    \n",
    "    if marketingctgname != applicationnumber[:len(marketingctgname)]:\n",
    "        #Condition donner sur le site que si  Marketing Category is OTC Monograph Final or OTC Monograph Not Final, alor application nb sera partXXXX\n",
    "        if str(marketingctgname[:3]) == \"OTC\" and str(applicationnumber[:4])==\"part\" or str(marketingctgname[:3]) == str(applicationnumber[:3]):\n",
    "            #print(marketingctgname[0:3], applicationnumber[:4])\n",
    "            continue\n",
    "        else:    \n",
    "            arrayIndexIncoherentMarketingCategoryNameAndApplicationNumber.append(index)\n",
    "            compteurIncoherence += 1\n",
    "print(\"Nombre de MARKETINGCATEGORYNAME contenu dans APPLICATIONNUMBER différent du MARKETINGCATEGORYNAME : \", compteurIncoherence)   "
   ]
  },
  {
   "cell_type": "code",
   "execution_count": 21,
   "metadata": {},
   "outputs": [
    {
     "name": "stdout",
     "output_type": "stream",
     "text": [
      "Nombre de ligne avec une valeur autre que Y, N, E ou I dans la colonne ndc_exclude_flag :  0\n"
     ]
    }
   ],
   "source": [
    "#NDC_EXCLUDE_FLAG peut prendre une valeur parmis Y, N, E ou I\n",
    "ndc_exclude_flag = product[(product['NDC_EXCLUDE_FLAG'] != 'Y') & (product['NDC_EXCLUDE_FLAG'] != 'N') & (product['NDC_EXCLUDE_FLAG'] != 'E') & (product['NDC_EXCLUDE_FLAG'] != 'I')]\n",
    "print(\"Nombre de ligne avec une valeur autre que Y, N, E ou I dans la colonne ndc_exclude_flag : \",len(ndc_exclude_flag))"
   ]
  },
  {
   "cell_type": "code",
   "execution_count": 22,
   "metadata": {},
   "outputs": [
    {
     "name": "stdout",
     "output_type": "stream",
     "text": [
      "Nombre de ligne avec une valeur autre que NDA, ANDA, BLA dans la colonne MARKETINGCATEGORYNAME :  44782\n"
     ]
    }
   ],
   "source": [
    "#MARKETINGCATEGORYNAME peut prendre une valeur parmis NDA, ANDA, BLA, OTC Monograph, ou Unapproved Drug\n",
    "marketingctgname = product[(product['MARKETINGCATEGORYNAME'] != 'NDA') & (product['MARKETINGCATEGORYNAME'] != 'ANDA') & (product['MARKETINGCATEGORYNAME'] != 'BLA')]\n",
    "print(\"Nombre de ligne avec une valeur autre que NDA, ANDA, BLA dans la colonne MARKETINGCATEGORYNAME : \",len(marketingctgname))"
   ]
  },
  {
   "cell_type": "code",
   "execution_count": 23,
   "metadata": {},
   "outputs": [
    {
     "name": "stdout",
     "output_type": "stream",
     "text": [
      "Nombre de dates de STARTMARKETINGDATE invalides :  0\n"
     ]
    }
   ],
   "source": [
    "#Aucune valeur manquante dans package pour la colonne STARTMARKETINGDATE donc on peut utiliser directement product\n",
    "dateFormatNonValide = 0\n",
    "for index in range(0,len(product)):\n",
    "    #Si la date n'est pas dans le format indiqué alors cela retourne NaT\n",
    "    date = pd.to_datetime(product.iloc[index]['STARTMARKETINGDATE'], format='%Y%m%d', errors='coerce')\n",
    "    if pd.isnull(date):\n",
    "        dateFormatNonValide +=1\n",
    "        \n",
    "print(\"Nombre de dates de STARTMARKETINGDATE invalides : \",dateFormatNonValide)"
   ]
  },
  {
   "cell_type": "code",
   "execution_count": 42,
   "metadata": {},
   "outputs": [
    {
     "name": "stdout",
     "output_type": "stream",
     "text": [
      "Nombre de dates de ENDMARKETINGDATE invalide :  0\n"
     ]
    }
   ],
   "source": [
    "endMarketingDateNotnull = product[(~product['ENDMARKETINGDATE'].isnull())]\n",
    "\n",
    "arrayIndexInvalidEndMarketingDateForProduct = []\n",
    "dateFormatNonValide = 0\n",
    "for index, row in endMarketingDateNotnull.iterrows():\n",
    "    #Si la date n'est pas dans le format indiqué alors cela retourne NaT\n",
    "    date = pd.to_datetime(row['ENDMARKETINGDATE'], format='%Y%m%d', errors='coerce')\n",
    "    if pd.isnull(date):\n",
    "        arrayIndexInvalidEndMarketingDateForProduct.append(index)\n",
    "        dateFormatNonValide +=1\n",
    "        \n",
    "print(\"Nombre de dates de ENDMARKETINGDATE invalide : \",dateFormatNonValide)"
   ]
  },
  {
   "cell_type": "code",
   "execution_count": 25,
   "metadata": {},
   "outputs": [
    {
     "name": "stdout",
     "output_type": "stream",
     "text": [
      "Nombre de dates incohérentes tel que start soit apres end, ou soit la date start est invalide :  0\n"
     ]
    }
   ],
   "source": [
    "#Verifier que la date start soit avant ou égale à la date end (cependant end start peut être non valide car 1 trouvée)\n",
    "datesIncoherentes = 0\n",
    "for index in range(0,len(endMarketingDateNotnull)):\n",
    "    dateEnd = pd.to_datetime(endMarketingDateNotnull.iloc[index]['ENDMARKETINGDATE'])\n",
    "    dateStart = pd.to_datetime(endMarketingDateNotnull.iloc[index]['STARTMARKETINGDATE'])\n",
    "    \n",
    "    if dateEnd < dateStart :\n",
    "        datesIncoherentes +=1\n",
    "print(\"Nombre de dates incohérentes tel que start soit apres end, ou soit la date start est invalide : \",datesIncoherentes)"
   ]
  },
  {
   "cell_type": "code",
   "execution_count": 26,
   "metadata": {},
   "outputs": [
    {
     "name": "stdout",
     "output_type": "stream",
     "text": [
      "Nombre de dates de LISTING_RECORD_CERTIFIED_THROUGH invalides:  0\n"
     ]
    }
   ],
   "source": [
    "listrecordcertifNotNull = product[~product['LISTING_RECORD_CERTIFIED_THROUGH'].isnull()]\n",
    "\n",
    "dateFormatNonValide = 0\n",
    "for index in range(0,len(listrecordcertifNotNull)):\n",
    "    #Si la date n'est pas dans le format indiqué alors cela retourne NaT\n",
    "    date = pd.to_datetime(listrecordcertifNotNull.iloc[index]['LISTING_RECORD_CERTIFIED_THROUGH'], format='%Y%m%d', errors='coerce')\n",
    "    if pd.isnull(date):\n",
    "        dateFormatNonValide +=1\n",
    "print(\"Nombre de dates de LISTING_RECORD_CERTIFIED_THROUGH invalides: \", dateFormatNonValide)"
   ]
  },
  {
   "cell_type": "code",
   "execution_count": 27,
   "metadata": {},
   "outputs": [
    {
     "name": "stdout",
     "output_type": "stream",
     "text": [
      "Differentes possibilites pour DEASCHEDULE : ['CV' 'CIV' 'CIII' 'CII']\n",
      "Differentes possibilites pour ACTIVE_INGRED_UNIT : ['mL/mL' 'mCi/mL' 'mg/.5mL' ... 'g/30mL; g/30mL; g/30mL; 1/30mL' '1/25mL'\n",
      " 'mg/6g']\n",
      "Differentes possibilites pour ACTIVE_NUMERATOR_STRENGTH : ['1' '51' '.75' ... '33.2' '415' '20; 25; 33']\n",
      "Il y a  20 identifiants de ACTIVE_NUMERATOR_STRENGTH qui ne sont pas des nombres\n",
      "Nombres de differentes possibilites pour ROUTENAME : 180\n",
      "Nombres de differentes possibilites pour DOSAGEFORMNAME : 134\n",
      "Nombres de differentes possibilites pour PROPRIETARYNAMESUFFIX : 1455\n"
     ]
    }
   ],
   "source": [
    "hh = product[~product['DEASCHEDULE'].isnull()]\n",
    "print(\"Differentes possibilites pour DEASCHEDULE :\",hh['DEASCHEDULE'].unique())\n",
    "\n",
    "jj = product[~product['ACTIVE_INGRED_UNIT'].isnull()]\n",
    "print(\"Differentes possibilites pour ACTIVE_INGRED_UNIT :\",jj['ACTIVE_INGRED_UNIT'].unique())\n",
    "\n",
    "kk = product[~product['ACTIVE_NUMERATOR_STRENGTH'].isnull()]\n",
    "erreurActiveNumerator= [isinstance(x, numbers.Number) for x in kk]\n",
    "print(\"Differentes possibilites pour ACTIVE_NUMERATOR_STRENGTH :\",kk['ACTIVE_NUMERATOR_STRENGTH'].unique())\n",
    "print(\"Il y a \",len(erreurActiveNumerator), \"identifiants de ACTIVE_NUMERATOR_STRENGTH qui ne sont pas des nombres\")\n",
    "\n",
    "ll = product[~product['ROUTENAME'].isnull()]\n",
    "print(\"Nombres de differentes possibilites pour ROUTENAME :\",len(ll['ROUTENAME'].unique()))\n",
    "\n",
    "zz = product[~product['DOSAGEFORMNAME'].isnull()]\n",
    "print(\"Nombres de differentes possibilites pour DOSAGEFORMNAME :\",len(zz['DOSAGEFORMNAME'].unique()))\n",
    "\n",
    "cc = product[~product['PROPRIETARYNAMESUFFIX'].isnull()]\n",
    "nameSuffix = []\n",
    "for date in cc['PROPRIETARYNAMESUFFIX'].unique():\n",
    "    if any(char.isdigit() for char in date):\n",
    "           nameSuffix.append(date)\n",
    "print(\"Nombres de differentes possibilites pour PROPRIETARYNAMESUFFIX :\",len(nameSuffix))"
   ]
  },
  {
   "cell_type": "markdown",
   "metadata": {},
   "source": [
    "Pour la colonne <b>DEASCHEDULE</b>, nous ne connaissons pas les valeurs des attributs il est donc difficile de savoir si il y a une incoherence.\n",
    "<br><br>Pour la colonne <b>PHARM_CLASSES</b>, nous ne pouvons pas evaluer les incoherences en raison des valeurs de la colonne.\n",
    "<br><br>Pour la colonne <b>ACTIVE_INGRED_UNIT</b>, il y a plusieurs valeurs, cependant en les analysant visuellement, il ne semble pas y avoir d'incoherences.\n",
    "<br><br>Pour la colonne <b>ACTIVE_NUMERATOR_STRENGTH</b>, il y a des valeurs qui ne sont pas des nombres. Nous ne savons pas si ce sont des incoherences cependant, nous estimons pertinent de le souligner au cas ou cela pourrait poserait probleme plus tard.\n",
    "<br><br>Pour la colonne <b>SUBSTANCENAME</b> nous ne pouvons pas savoir si les attributs qui sont dans les colonnes sont bons puisque nous n'avons pas de banque permettant de valider. Il en est de meme pour <b>MARKETINGCATEGORYNAME APPLICATIONNUMBER LABELERNAME NONPROPRIETARYNAME PRODUCTID PRODUCTNDC PRODUCTTYPENAME PROPRIETARYNAME</b>, ce sont tous de objets, nous n'avons donc pas beaucoup de details quant a la composition des attributs.\n",
    "<br><br>Pour la colonne <b>PROPRIETARYNAMESUFFIX</b> nous voyons qu'il y a 1455 elements que leur attribut contient un chiffre dans le suffix. Nous ne pouvons donc pas affirmer que de contenir un chiffre est un incoherence malgre que ce sont des suffix."
   ]
  },
  {
   "cell_type": "markdown",
   "metadata": {},
   "source": [
    "#### Conclusion \n",
    "Nous avons donc analysé toutes les colonnes afin de voir si il n'y avait pas d'erreurs ou d'incohérence dans les éléments de ces colonnes. Pour les dates nous avons vérifié qu'elles comportaient un mois entre 1 et 12 et un jour entre 1 et 31. Nous ne tenons pas compte de la variance du nombre de jours entre les mois. Lorsque la colonne comportait des objets qui par le nom nous permettait de croire que ce devrait être soi seulement composé de chiffres ou seulement composé de lettres, nous avons vérifié si c'était le cas et compté les nombre d'exceptions afin de vérifier si elles étaient répandues ou pas. Force est de constaté suite à notre analyse qu'il ne semble pas y avoir d'incohérence intra-attributs.\n",
    "\n",
    "## NOTES \n",
    "\n",
    "Donner un sens à nos variables, plus simple pour la relecture\n",
    "\n",
    "Les incohérences qu'il faudrait qu'on verifie : \n",
    "\n",
    "**Package :**\n",
    "\n",
    "- dfdsfd\n",
    "- qsdfdqsfdq\n",
    "- [x] ProductNDC present dans ProductID\n",
    "- [x] NDCPackageCode il y a ProductNDC dedans au début \n",
    "- [x] SamplePackage E {Y, N}\n",
    "- [x] NDCExcludeFlag E {Y, N, E, I}\n",
    "- [x] start et end marketindate ils doivent être cohérent l'un doit être avant l'autre\n",
    "- [x] verifier format de date valide pour end et start\n",
    "\n",
    "**Product :**\n",
    "\n",
    "- [x] ProductNDC present dans ProductID\n",
    "- [x] MarkekingCategoryName est au début d'ApplicationNumber A REVOIR NORMALEMENT ON NE PEUT RIEN MONTRER\n",
    "- [ ] MarkekingCategoryName E {NDA, ANDA, BLA,  OTC Monograph, Unapproved Drug} A REVOIR NORMALEMENT ON NE PEUT RIEN MONTRER\n",
    "- [x] NDCExcludeFlag E {Y, N, E, I}\n",
    "- [x] start et end marketindate ils doivent être cohérent l'un doit être avant l'autre\n",
    "- [x] verifier format de date valide pour en, start et listingRecord\n",
    "\n",
    "#### C'est pour la Q6\n",
    "\n",
    "**Cohérence entre les deux :**\n",
    "\n",
    "- [ ] Dans les deux tables verifier que le couple ProductID, ProductNDC doit être le même\n",
    "- [ ] start du package peut pas sortir avant le produit donc doit être avant le start du product  ??? A confirmer mais je pense\n",
    "- [ ] ndcexcludeflag il faut qu’il soit cohérent entre les deux table, si le produit est exclu, le package aussi "
   ]
  },
  {
   "cell_type": "markdown",
   "metadata": {},
   "source": [
    "## Question2\n",
    "Comme nous l'avons vu à la question 1, il y a certaines attributs qui sont reliés, qui se complète. Ci-dessous nous allons énumérer ces relations."
   ]
  },
  {
   "cell_type": "markdown",
   "metadata": {},
   "source": [
    "### Table Package\n",
    "Les éléments suivants ne sont pas directement énuméré dans la table mais sont utilisés par 1 ou plusieurs éléments : SPL documentID, labeler code(labelerName dans la table Product), product code et package code de la National Drug Code number.\n",
    "   - ProductID est le produit de la concaténation entre NDCproduct et SPL DocumentID.\n",
    "   - Le productNDC est la concaténation entre le labelerCode et le productCode, ils sont séparés par des tirets. \n",
    "   - Le NDCPackageCode est le produit du labeler code, product code et package, ils sont séparés par des tirets. Deux de ses trois éléments sont partagés avec le productNDC.\n",
    "   - Les autres éléments ne semblent pas avoir de liens avec d'autres attributs de cette table."
   ]
  },
  {
   "cell_type": "markdown",
   "metadata": {},
   "source": [
    "### Table product\n",
    "\n",
    "Les éléments suivants ne sont pas directement énuméré dans la table mais sont utilisés par 1 ou plusieurs éléments : SPL documentID, product code et package code de la National Drug Code number.\n",
    "\n",
    "   - **ProductID** est le produit de la concaténation entre NDCproduct et SPL DocumentID.\n",
    "   - Le **productNDC** est la concaténation entre le labelerCode et le productCode, ils sont séparés par des tirets.\n",
    "   - **ProprietaryNameSuffix** est composé de **ProprietaryName** suivit d'un suffix servant à distinguer un produit par caractéristiques.\n",
    "   - L'attribut **MarketingCategoryName** aura l'une des étiquettes suivantes : <i>NDA/ANDA/BLA, OTC Monograph ou Unapproved Drug</i>. **ApplicationNumber** est le produit le MarketingCategoryName en ce sens qu'un code lui sera attribué selon la catégorie Marketing assignée.\n",
    "   - L'attribut **SubstanceName** énumère les ingrédients actifs du produit. **StrengthNumber, StrengthUnit** est respectivement la force des ingrédients actifs identifiés et l'unité de mesure, l'ordre d'apparition des ingrédients est le même dans les deux catégories. L'attribut**Pharm_classes** est l'identifiant de la categorie pharmaceutique des substance identifié dans SubstanceName, l'ordre d'apparition est le même que dans les autres attributs. **DIRE QU ON EN FERA RIEN**"
   ]
  },
  {
   "cell_type": "markdown",
   "metadata": {},
   "source": [
    "# Question 3"
   ]
  },
  {
   "cell_type": "code",
   "execution_count": 31,
   "metadata": {},
   "outputs": [
    {
     "data": {
      "text/plain": [
       "'#Verifier que PRODUCTNDC apparait au debut de PRODUCTID\\n#Dans le cas ou le PRODUCTNDC et le PRODUCTID existent\\nproductNDCAndProductIdNotNul = package[(~package[\\'PRODUCTNDC\\'].isnull()) & (~package[\\'PRODUCTID\\'].isnull())]\\n\\ncompteurIncoherence = 0\\nfor index, row in productNDCAndProductIdNotNul.iterrows() :\\n    productndc = row[\\'PRODUCTNDC\\']\\n    productid = row[\\'PRODUCTID\\']\\n    if productndc != productid[:len(productndc)]:\\n        compteurIncoherence += 1\\n        \\nprint(\"Nombre de PRODUCTNDC contenu dans PRODUCTID différent du PRODUCTNDC : \", compteurIncoherence)  '"
      ]
     },
     "execution_count": 31,
     "metadata": {},
     "output_type": "execute_result"
    }
   ],
   "source": [
    "\"\"\"#Verifier que PRODUCTNDC apparait au debut de PRODUCTID\n",
    "#Dans le cas ou le PRODUCTNDC et le PRODUCTID existent\n",
    "productNDCAndProductIdNotNul = package[(~package['PRODUCTNDC'].isnull()) & (~package['PRODUCTID'].isnull())]\n",
    "\n",
    "compteurIncoherence = 0\n",
    "for index, row in productNDCAndProductIdNotNul.iterrows() :\n",
    "    productndc = row['PRODUCTNDC']\n",
    "    productid = row['PRODUCTID']\n",
    "    if productndc != productid[:len(productndc)]:\n",
    "        compteurIncoherence += 1\n",
    "        \n",
    "print(\"Nombre de PRODUCTNDC contenu dans PRODUCTID différent du PRODUCTNDC : \", compteurIncoherence)  \"\"\"  "
   ]
  },
  {
   "cell_type": "code",
   "execution_count": 32,
   "metadata": {},
   "outputs": [
    {
     "data": {
      "text/plain": [
       "PRODUCTID     0220-2997_8590fcc9-c0c3-f43b-e053-2991aa0a692e\n",
       "PRODUCTNDC                                         0220-2997\n",
       "Name: 6913, dtype: object"
      ]
     },
     "metadata": {},
     "output_type": "display_data"
    }
   ],
   "source": [
    "#Correction de ProductNDC et ProductId\n",
    "#Il y a des cas ou il faut transformer la date et le mois en chiffre dans le bon ordre ex) 05-juin->0006-0005, nous en avons corrige 10\n",
    "correction =\"\"\n",
    "for ind in arrayIndexIncoherentProductNDCAndProductIdForPackage:\n",
    "    correction=\"\"\n",
    "    if str(package.iloc[ind][\"PRODUCTNDC\"][3:8]).isalpha():\n",
    "        mois = str(package.iloc[ind][\"PRODUCTNDC\"][3:8])\n",
    "        jour = str(package.iloc[ind][\"PRODUCTNDC\"][0:2])\n",
    "        if mois == \"sept\":\n",
    "            correction+=\"0009-00\"+jour\n",
    "        elif mois == \"juin\":\n",
    "            correction+=\"0006-00\"+jour\n",
    "        package.loc[ind, \"PRODUCTNDC\"] = correction\n",
    "        arrayIndexIncoherentProductNDCAndProductIdForPackage.remove(ind)\n",
    "        \n",
    "#Les incoherences qu'il reste a corriger(Je n'y vois aucune logique)\n",
    "display(package.iloc[6913][[\"PRODUCTID\",\"PRODUCTNDC\"]])\n",
    "#for ind in arrayIndexIncoherentProductNDCAndProductIdForPackage:\n",
    "    # display(package.iloc[ind][[\"PRODUCTID\",\"PRODUCTNDC\"]])"
   ]
  },
  {
   "cell_type": "code",
   "execution_count": 33,
   "metadata": {},
   "outputs": [],
   "source": [
    "#Toute les erreurs sont la meme, l'annee est ecrit 2997 au lieu de 1997, nous corrigeons 243 erreurs\n",
    "for date in arrayIndexInvalidStartMktgDateForPackage:\n",
    "    nDate = \"1\"+str(package.iloc[date][\"STARTMARKETINGDATE\"])[1:]\n",
    "    package.loc[date,\"STARTMARKETINGDATE\"]=nDate\n",
    "    arrayIndexInvalidStartMktgDateForPackage.remove(date)"
   ]
  },
  {
   "cell_type": "code",
   "execution_count": 34,
   "metadata": {},
   "outputs": [],
   "source": [
    "#Correction de l'erreur endMarketingDate\n",
    "dd = product.iloc[arrayIndexInvalidEndMarketingDateForProduct[0]]['ENDMARKETINGDATE']\n",
    "str(dd)[:]\n",
    "correction = \"2\"+str(dd)[1:]\n",
    "product.loc[arrayIndexInvalidEndMarketingDateForProduct[0],'ENDMARKETINGDATE']= correction"
   ]
  },
  {
   "cell_type": "code",
   "execution_count": 35,
   "metadata": {},
   "outputs": [],
   "source": [
    "#Nous allons supprimer les lignes incohérentes dans la table package qui ne peuvent pas être corrigées \n",
    "arrayIndexToRemoveInPackage = arrayIndexDatesIncoherentesForPackage + arrayIndexIncoherentProductNDCAndNDCPackageCode + arrayIndexIncoherentProductNDCAndProductIdForPackage + arrayIndexInvalidNDCPackageCode + arrayIndexInvalidProductIdForPackage + arrayIndexInvalidStartMktgDateForPackage\n",
    "\n",
    "arrayIndexToRemoveInPackage = list(set(arrayIndexToRemoveInPackage))\n",
    "\n",
    "package = package.drop(package.index[arrayIndexToRemoveInPackage])"
   ]
  },
  {
   "cell_type": "code",
   "execution_count": 36,
   "metadata": {},
   "outputs": [],
   "source": [
    "#Nous allons supprimer les lignes incohérentes dans la table product qui ne peuvent pas être corrigées \n",
    "arrayIndexToRemoveInProduct = arrayIndexIncoherentProductNDCAndProductIdForProduct + arrayIndexInvalidEndMarketingDateForProduct + arrayIndexInvalidProductIdForProduct + arrayIndexInvalidProductNDCForProduct\n",
    "\n",
    "arrayIndexToRemoveInProductUnique = list(set(arrayIndexToRemoveInProduct))\n",
    "\n",
    "product = product.drop(product.index[arrayIndexToRemoveInProductUnique])"
   ]
  },
  {
   "cell_type": "code",
   "execution_count": 38,
   "metadata": {
    "scrolled": false
   },
   "outputs": [
    {
     "data": {
      "text/plain": [
       "'#Correction des ProductNDC et NDCPackageCode, nous avons ajuster les erreurs du type 05-juin->0006-0005. Il y en avait 19\\nfor ind in arrayIndexIncoherentProductNDCAndNDCPackageCode:\\n    if package.iloc[ind][\"PRODUCTNDC\"] == package.iloc[ind][\"NDCPACKAGECODE\"][0:9]:\\n        arrayIndexIncoherentProductNDCAndNDCPackageCode.remove(ind)\\n\\n#Nous avons le cas interessant ici ou semble y avoir une erreur dasn NDCPACKAGECODE qui entraine une erreur dasn ProductID\\n#PRODUCTID         0220-2997_8590fcc9-c0c3-f43b-e053-2991aa0a692e\\n#PRODUCTNDC                                             0220-2997\\n#NDCPACKAGECODE                                      0220-1997-41\\n#Name: 6913, dtype: object\\n#correction de cette erreur dans les 3 attributs\\ncode = package.iloc[6913][\"NDCPACKAGECODE\"][:9]\\npackage.loc[6913,\"PRODUCTNDC\"]= code\\nnew = code+package.iloc[6913][\"PRODUCTID\"][9:]\\npackage.loc[6913,\"PRODUCTID\"]= new'"
      ]
     },
     "execution_count": 38,
     "metadata": {},
     "output_type": "execute_result"
    }
   ],
   "source": [
    "\"\"\"#Correction des ProductNDC et NDCPackageCode, nous avons ajuster les erreurs du type 05-juin->0006-0005. Il y en avait 19\n",
    "for ind in arrayIndexIncoherentProductNDCAndNDCPackageCode:\n",
    "    if package.iloc[ind][\"PRODUCTNDC\"] == package.iloc[ind][\"NDCPACKAGECODE\"][0:9]:\n",
    "        arrayIndexIncoherentProductNDCAndNDCPackageCode.remove(ind)\n",
    "\n",
    "#Nous avons le cas interessant ici ou semble y avoir une erreur dasn NDCPACKAGECODE qui entraine une erreur dasn ProductID\n",
    "#PRODUCTID         0220-2997_8590fcc9-c0c3-f43b-e053-2991aa0a692e\n",
    "#PRODUCTNDC                                             0220-2997\n",
    "#NDCPACKAGECODE                                      0220-1997-41\n",
    "#Name: 6913, dtype: object\n",
    "#correction de cette erreur dans les 3 attributs\n",
    "code = package.iloc[6913][\"NDCPACKAGECODE\"][:9]\n",
    "package.loc[6913,\"PRODUCTNDC\"]= code\n",
    "new = code+package.iloc[6913][\"PRODUCTID\"][9:]\n",
    "package.loc[6913,\"PRODUCTID\"]= new\"\"\""
   ]
  },
  {
   "cell_type": "markdown",
   "metadata": {},
   "source": [
    "# Question 4"
   ]
  },
  {
   "cell_type": "markdown",
   "metadata": {},
   "source": [
    "Nous allons chercher à compléter les données manquantes dans les deux tables. Tout d'abord nous allons le faire dans la table package. **Nous n'esseyerons pas de spéculer sur les règles d'inférences entre les attributs, et nous préférons supprimer les lignes contenant des données manquantes.**\n",
    "\n",
    "**Table package**\n",
    "\n",
    "- Correction du productNDC à partir du productId car nous avons aucune données manquantes pour l'attribut productId.\n",
    "- Pour les valeurs manquantes du NDCPackageCode nous n'avons pas accès au *package code segments of the national drug code number*\n",
    "- Pour les endMarketingDate nous ne pourrons corriger parce que nous ne pouvons pas faire d'inférence quant à la endMarketingDate à partir des données disponibles.\n",
    "\n",
    "**Table product**\n",
    "\n",
    "- Correction impossible pour le productId puisque nous n'avons pas accès au *SPL document ID* \n",
    "- Correction des valeurs manquantes de proprietaryName si nous connaissons proprietaryNameSuffix\n",
    "- Quant aux autres attributs nous ne pouvons pas corriger les valeurs manquantes puisque nous ne pouvons faire d'inférence à partir des données disponibles."
   ]
  },
  {
   "cell_type": "code",
   "execution_count": null,
   "metadata": {},
   "outputs": [],
   "source": []
  },
  {
   "cell_type": "markdown",
   "metadata": {},
   "source": [
    "# Question 5"
   ]
  },
  {
   "cell_type": "markdown",
   "metadata": {},
   "source": [
    "# Question 6"
   ]
  },
  {
   "cell_type": "markdown",
   "metadata": {},
   "source": [
    "Nous allons fusionner nos deux tables en fonction de l'attribut producId. Nous suivons les informations de la documentation : *It is included to help prevent duplicate rows from appearing when joining the product and package files together.*"
   ]
  }
 ],
 "metadata": {
  "kernelspec": {
   "display_name": "Python 3",
   "language": "python",
   "name": "python3"
  },
  "language_info": {
   "codemirror_mode": {
    "name": "ipython",
    "version": 3
   },
   "file_extension": ".py",
   "mimetype": "text/x-python",
   "name": "python",
   "nbconvert_exporter": "python",
   "pygments_lexer": "ipython3",
   "version": "3.7.5"
  }
 },
 "nbformat": 4,
 "nbformat_minor": 4
}
