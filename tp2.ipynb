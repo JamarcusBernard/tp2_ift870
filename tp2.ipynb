{
 "cells": [
  {
   "cell_type": "markdown",
   "metadata": {},
   "source": [
    "## Tp2 ift 870\n",
    "- Quentin Levieux - levq2601\n",
    "- Frederic Giasson -  giaf2602"
   ]
  },
  {
   "cell_type": "code",
   "execution_count": 1,
   "metadata": {},
   "outputs": [],
   "source": [
    "import sklearn\n",
    "import numpy as np\n",
    "import scipy as sp\n",
    "import pandas as pd\n",
    "%matplotlib notebook\n",
    "import matplotlib.pyplot as plt\n",
    "import seaborn as sns\n",
    "from IPython.display import display\n",
    "import numbers"
   ]
  },
  {
   "cell_type": "code",
   "execution_count": 2,
   "metadata": {
    "scrolled": true
   },
   "outputs": [
    {
     "data": {
      "text/plain": [
       "'Dimension de package.csv : '"
      ]
     },
     "metadata": {},
     "output_type": "display_data"
    },
    {
     "data": {
      "text/plain": [
       "(173887, 8)"
      ]
     },
     "metadata": {},
     "output_type": "display_data"
    },
    {
     "name": "stdout",
     "output_type": "stream",
     "text": [
      "Dimension de product.csv:  (93238, 20)\n",
      "Nombre d'attributs de package: 8\n",
      "Nombre d'attributs de product: 20\n",
      "\n",
      "Colonne de package: \n",
      " ['PRODUCTID' 'PRODUCTNDC' 'NDCPACKAGECODE' 'PACKAGEDESCRIPTION'\n",
      " 'STARTMARKETINGDATE' 'ENDMARKETINGDATE' 'NDC_EXCLUDE_FLAG'\n",
      " 'SAMPLE_PACKAGE']\n",
      "\n",
      "Colonne de product: \n",
      " ['PRODUCTID' 'PRODUCTNDC' 'PRODUCTTYPENAME' 'PROPRIETARYNAME'\n",
      " 'PROPRIETARYNAMESUFFIX' 'NONPROPRIETARYNAME' 'DOSAGEFORMNAME' 'ROUTENAME'\n",
      " 'STARTMARKETINGDATE' 'ENDMARKETINGDATE' 'MARKETINGCATEGORYNAME'\n",
      " 'APPLICATIONNUMBER' 'LABELERNAME' 'SUBSTANCENAME'\n",
      " 'ACTIVE_NUMERATOR_STRENGTH' 'ACTIVE_INGRED_UNIT' 'PHARM_CLASSES'\n",
      " 'DEASCHEDULE' 'NDC_EXCLUDE_FLAG' 'LISTING_RECORD_CERTIFIED_THROUGH']\n",
      "\n",
      "Attributs communs au deux tables :\n",
      " ['ENDMARKETINGDATE', 'PRODUCTNDC', 'PRODUCTID', 'STARTMARKETINGDATE', 'NDC_EXCLUDE_FLAG']\n"
     ]
    }
   ],
   "source": [
    "package = pd.read_csv(\"Package2.csv\",sep=\";\", error_bad_lines=False, encoding ='latin1')\n",
    "display(\"Dimension de package.csv : \",package.shape)\n",
    "product = pd.read_csv(\"Product2.csv\",sep=\";\", error_bad_lines=False, encoding ='latin1')\n",
    "print(\"Dimension de product.csv: \",product.shape)\n",
    "print(\"Nombre d'attributs de package:\", len(package.columns))\n",
    "print(\"Nombre d'attributs de product:\", len(product.columns))\n",
    "print(\"\\nColonne de package: \\n\",package.columns.values)\n",
    "print(\"\\nColonne de product: \\n\",product.columns.values)\n",
    "commonAttributs = list(set(package).intersection(product))\n",
    "print(\"\\nAttributs communs au deux tables :\\n\",commonAttributs)"
   ]
  },
  {
   "cell_type": "code",
   "execution_count": 3,
   "metadata": {
    "scrolled": true
   },
   "outputs": [
    {
     "data": {
      "text/html": [
       "<div>\n",
       "<style scoped>\n",
       "    .dataframe tbody tr th:only-of-type {\n",
       "        vertical-align: middle;\n",
       "    }\n",
       "\n",
       "    .dataframe tbody tr th {\n",
       "        vertical-align: top;\n",
       "    }\n",
       "\n",
       "    .dataframe thead th {\n",
       "        text-align: right;\n",
       "    }\n",
       "</style>\n",
       "<table border=\"1\" class=\"dataframe\">\n",
       "  <thead>\n",
       "    <tr style=\"text-align: right;\">\n",
       "      <th></th>\n",
       "      <th>PRODUCTID</th>\n",
       "      <th>PRODUCTNDC</th>\n",
       "      <th>PRODUCTTYPENAME</th>\n",
       "      <th>PROPRIETARYNAME</th>\n",
       "      <th>PROPRIETARYNAMESUFFIX</th>\n",
       "      <th>NONPROPRIETARYNAME</th>\n",
       "      <th>DOSAGEFORMNAME</th>\n",
       "      <th>ROUTENAME</th>\n",
       "      <th>STARTMARKETINGDATE</th>\n",
       "      <th>ENDMARKETINGDATE</th>\n",
       "      <th>MARKETINGCATEGORYNAME</th>\n",
       "      <th>APPLICATIONNUMBER</th>\n",
       "      <th>LABELERNAME</th>\n",
       "      <th>SUBSTANCENAME</th>\n",
       "      <th>ACTIVE_NUMERATOR_STRENGTH</th>\n",
       "      <th>ACTIVE_INGRED_UNIT</th>\n",
       "      <th>PHARM_CLASSES</th>\n",
       "      <th>DEASCHEDULE</th>\n",
       "      <th>NDC_EXCLUDE_FLAG</th>\n",
       "      <th>LISTING_RECORD_CERTIFIED_THROUGH</th>\n",
       "    </tr>\n",
       "  </thead>\n",
       "  <tbody>\n",
       "    <tr>\n",
       "      <th>0</th>\n",
       "      <td>NaN</td>\n",
       "      <td>0002-0800</td>\n",
       "      <td>HUMAN OTC DRUG</td>\n",
       "      <td>Sterile Diluent</td>\n",
       "      <td>NaN</td>\n",
       "      <td>diluent</td>\n",
       "      <td>INJECTION, SOLUTION</td>\n",
       "      <td>SUBCUTANEOUS</td>\n",
       "      <td>19870710</td>\n",
       "      <td>NaN</td>\n",
       "      <td>NDA</td>\n",
       "      <td>NDA018781</td>\n",
       "      <td>10</td>\n",
       "      <td>WATER</td>\n",
       "      <td>1</td>\n",
       "      <td>mL/mL</td>\n",
       "      <td>NaN</td>\n",
       "      <td>NaN</td>\n",
       "      <td>N</td>\n",
       "      <td>20201231.0</td>\n",
       "    </tr>\n",
       "    <tr>\n",
       "      <th>1</th>\n",
       "      <td>NaN</td>\n",
       "      <td>0002-1200</td>\n",
       "      <td>HUMAN PRESCRIPTION DRUG</td>\n",
       "      <td>Amyvid</td>\n",
       "      <td>NaN</td>\n",
       "      <td>Florbetapir F 18</td>\n",
       "      <td>INJECTION, SOLUTION</td>\n",
       "      <td>INTRAVENOUS</td>\n",
       "      <td>20120601</td>\n",
       "      <td>NaN</td>\n",
       "      <td>NDA</td>\n",
       "      <td>NDA202008</td>\n",
       "      <td>10</td>\n",
       "      <td>FLORBETAPIR F-18</td>\n",
       "      <td>51</td>\n",
       "      <td>mCi/mL</td>\n",
       "      <td>Radioactive Diagnostic Agent [EPC],Positron Em...</td>\n",
       "      <td>NaN</td>\n",
       "      <td>N</td>\n",
       "      <td>20211231.0</td>\n",
       "    </tr>\n",
       "    <tr>\n",
       "      <th>2</th>\n",
       "      <td>NaN</td>\n",
       "      <td>0002-1433</td>\n",
       "      <td>HUMAN PRESCRIPTION DRUG</td>\n",
       "      <td>Trulicity</td>\n",
       "      <td>NaN</td>\n",
       "      <td>Dulaglutide</td>\n",
       "      <td>INJECTION, SOLUTION</td>\n",
       "      <td>SUBCUTANEOUS</td>\n",
       "      <td>20140918</td>\n",
       "      <td>NaN</td>\n",
       "      <td>BLA</td>\n",
       "      <td>BLA125469</td>\n",
       "      <td>10</td>\n",
       "      <td>DULAGLUTIDE</td>\n",
       "      <td>.75</td>\n",
       "      <td>mg/.5mL</td>\n",
       "      <td>GLP-1 Receptor Agonist [EPC],Glucagon-Like Pep...</td>\n",
       "      <td>NaN</td>\n",
       "      <td>N</td>\n",
       "      <td>20201231.0</td>\n",
       "    </tr>\n",
       "    <tr>\n",
       "      <th>3</th>\n",
       "      <td>NaN</td>\n",
       "      <td>0002-1434</td>\n",
       "      <td>HUMAN PRESCRIPTION DRUG</td>\n",
       "      <td>Trulicity</td>\n",
       "      <td>NaN</td>\n",
       "      <td>Dulaglutide</td>\n",
       "      <td>INJECTION, SOLUTION</td>\n",
       "      <td>SUBCUTANEOUS</td>\n",
       "      <td>20140918</td>\n",
       "      <td>NaN</td>\n",
       "      <td>BLA</td>\n",
       "      <td>BLA125469</td>\n",
       "      <td>10</td>\n",
       "      <td>DULAGLUTIDE</td>\n",
       "      <td>1.5</td>\n",
       "      <td>mg/.5mL</td>\n",
       "      <td>GLP-1 Receptor Agonist [EPC],Glucagon-Like Pep...</td>\n",
       "      <td>NaN</td>\n",
       "      <td>N</td>\n",
       "      <td>20201231.0</td>\n",
       "    </tr>\n",
       "    <tr>\n",
       "      <th>4</th>\n",
       "      <td>NaN</td>\n",
       "      <td>0002-1436</td>\n",
       "      <td>HUMAN PRESCRIPTION DRUG</td>\n",
       "      <td>EMGALITY</td>\n",
       "      <td>NaN</td>\n",
       "      <td>galcanezumab</td>\n",
       "      <td>INJECTION, SOLUTION</td>\n",
       "      <td>SUBCUTANEOUS</td>\n",
       "      <td>20180927</td>\n",
       "      <td>NaN</td>\n",
       "      <td>BLA</td>\n",
       "      <td>BLA761063</td>\n",
       "      <td>10</td>\n",
       "      <td>GALCANEZUMAB</td>\n",
       "      <td>120</td>\n",
       "      <td>mg/mL</td>\n",
       "      <td>NaN</td>\n",
       "      <td>NaN</td>\n",
       "      <td>N</td>\n",
       "      <td>20201231.0</td>\n",
       "    </tr>\n",
       "    <tr>\n",
       "      <th>5</th>\n",
       "      <td>NaN</td>\n",
       "      <td>0002-1445</td>\n",
       "      <td>HUMAN PRESCRIPTION DRUG</td>\n",
       "      <td>TALTZ</td>\n",
       "      <td>NaN</td>\n",
       "      <td>ixekizumab</td>\n",
       "      <td>INJECTION, SOLUTION</td>\n",
       "      <td>SUBCUTANEOUS</td>\n",
       "      <td>20160322</td>\n",
       "      <td>NaN</td>\n",
       "      <td>BLA</td>\n",
       "      <td>BLA125521</td>\n",
       "      <td>10</td>\n",
       "      <td>IXEKIZUMAB</td>\n",
       "      <td>80</td>\n",
       "      <td>mg/mL</td>\n",
       "      <td>Interleukin-17A Antagonist [EPC],Interleukin-1...</td>\n",
       "      <td>NaN</td>\n",
       "      <td>N</td>\n",
       "      <td>20201231.0</td>\n",
       "    </tr>\n",
       "    <tr>\n",
       "      <th>6</th>\n",
       "      <td>NaN</td>\n",
       "      <td>0002-2377</td>\n",
       "      <td>HUMAN PRESCRIPTION DRUG</td>\n",
       "      <td>EMGALITY</td>\n",
       "      <td>NaN</td>\n",
       "      <td>galcanezumab</td>\n",
       "      <td>INJECTION, SOLUTION</td>\n",
       "      <td>SUBCUTANEOUS</td>\n",
       "      <td>20180927</td>\n",
       "      <td>NaN</td>\n",
       "      <td>BLA</td>\n",
       "      <td>BLA761063</td>\n",
       "      <td>10</td>\n",
       "      <td>GALCANEZUMAB</td>\n",
       "      <td>120</td>\n",
       "      <td>mg/mL</td>\n",
       "      <td>NaN</td>\n",
       "      <td>NaN</td>\n",
       "      <td>N</td>\n",
       "      <td>20201231.0</td>\n",
       "    </tr>\n",
       "    <tr>\n",
       "      <th>7</th>\n",
       "      <td>NaN</td>\n",
       "      <td>0002-3115</td>\n",
       "      <td>HUMAN PRESCRIPTION DRUG</td>\n",
       "      <td>EMGALITY</td>\n",
       "      <td>NaN</td>\n",
       "      <td>galcanezumab</td>\n",
       "      <td>INJECTION, SOLUTION</td>\n",
       "      <td>SUBCUTANEOUS</td>\n",
       "      <td>20190604</td>\n",
       "      <td>NaN</td>\n",
       "      <td>BLA</td>\n",
       "      <td>BLA761063</td>\n",
       "      <td>10</td>\n",
       "      <td>GALCANEZUMAB</td>\n",
       "      <td>100</td>\n",
       "      <td>mg/mL</td>\n",
       "      <td>NaN</td>\n",
       "      <td>NaN</td>\n",
       "      <td>N</td>\n",
       "      <td>20201231.0</td>\n",
       "    </tr>\n",
       "    <tr>\n",
       "      <th>8</th>\n",
       "      <td>NaN</td>\n",
       "      <td>0002-3227</td>\n",
       "      <td>HUMAN PRESCRIPTION DRUG</td>\n",
       "      <td>Strattera</td>\n",
       "      <td>NaN</td>\n",
       "      <td>Atomoxetine hydrochloride</td>\n",
       "      <td>CAPSULE</td>\n",
       "      <td>ORAL</td>\n",
       "      <td>20021126</td>\n",
       "      <td>NaN</td>\n",
       "      <td>NDA</td>\n",
       "      <td>NDA021411</td>\n",
       "      <td>10</td>\n",
       "      <td>ATOMOXETINE HYDROCHLORIDE</td>\n",
       "      <td>10</td>\n",
       "      <td>mg/1</td>\n",
       "      <td>Norepinephrine Reuptake Inhibitor [EPC],Norepi...</td>\n",
       "      <td>NaN</td>\n",
       "      <td>N</td>\n",
       "      <td>20211231.0</td>\n",
       "    </tr>\n",
       "    <tr>\n",
       "      <th>9</th>\n",
       "      <td>NaN</td>\n",
       "      <td>0002-3228</td>\n",
       "      <td>HUMAN PRESCRIPTION DRUG</td>\n",
       "      <td>Strattera</td>\n",
       "      <td>NaN</td>\n",
       "      <td>Atomoxetine hydrochloride</td>\n",
       "      <td>CAPSULE</td>\n",
       "      <td>ORAL</td>\n",
       "      <td>20021126</td>\n",
       "      <td>NaN</td>\n",
       "      <td>NDA</td>\n",
       "      <td>NDA021411</td>\n",
       "      <td>10</td>\n",
       "      <td>ATOMOXETINE HYDROCHLORIDE</td>\n",
       "      <td>25</td>\n",
       "      <td>mg/1</td>\n",
       "      <td>Norepinephrine Reuptake Inhibitor [EPC],Norepi...</td>\n",
       "      <td>NaN</td>\n",
       "      <td>N</td>\n",
       "      <td>20211231.0</td>\n",
       "    </tr>\n",
       "  </tbody>\n",
       "</table>\n",
       "</div>"
      ],
      "text/plain": [
       "  PRODUCTID PRODUCTNDC          PRODUCTTYPENAME  PROPRIETARYNAME  \\\n",
       "0       NaN  0002-0800           HUMAN OTC DRUG  Sterile Diluent   \n",
       "1       NaN  0002-1200  HUMAN PRESCRIPTION DRUG           Amyvid   \n",
       "2       NaN  0002-1433  HUMAN PRESCRIPTION DRUG        Trulicity   \n",
       "3       NaN  0002-1434  HUMAN PRESCRIPTION DRUG        Trulicity   \n",
       "4       NaN  0002-1436  HUMAN PRESCRIPTION DRUG         EMGALITY   \n",
       "5       NaN  0002-1445  HUMAN PRESCRIPTION DRUG            TALTZ   \n",
       "6       NaN  0002-2377  HUMAN PRESCRIPTION DRUG         EMGALITY   \n",
       "7       NaN  0002-3115  HUMAN PRESCRIPTION DRUG         EMGALITY   \n",
       "8       NaN  0002-3227  HUMAN PRESCRIPTION DRUG        Strattera   \n",
       "9       NaN  0002-3228  HUMAN PRESCRIPTION DRUG        Strattera   \n",
       "\n",
       "  PROPRIETARYNAMESUFFIX         NONPROPRIETARYNAME       DOSAGEFORMNAME  \\\n",
       "0                   NaN                    diluent  INJECTION, SOLUTION   \n",
       "1                   NaN           Florbetapir F 18  INJECTION, SOLUTION   \n",
       "2                   NaN                Dulaglutide  INJECTION, SOLUTION   \n",
       "3                   NaN                Dulaglutide  INJECTION, SOLUTION   \n",
       "4                   NaN               galcanezumab  INJECTION, SOLUTION   \n",
       "5                   NaN                 ixekizumab  INJECTION, SOLUTION   \n",
       "6                   NaN               galcanezumab  INJECTION, SOLUTION   \n",
       "7                   NaN               galcanezumab  INJECTION, SOLUTION   \n",
       "8                   NaN  Atomoxetine hydrochloride              CAPSULE   \n",
       "9                   NaN  Atomoxetine hydrochloride              CAPSULE   \n",
       "\n",
       "      ROUTENAME  STARTMARKETINGDATE  ENDMARKETINGDATE MARKETINGCATEGORYNAME  \\\n",
       "0  SUBCUTANEOUS            19870710               NaN                   NDA   \n",
       "1   INTRAVENOUS            20120601               NaN                   NDA   \n",
       "2  SUBCUTANEOUS            20140918               NaN                   BLA   \n",
       "3  SUBCUTANEOUS            20140918               NaN                   BLA   \n",
       "4  SUBCUTANEOUS            20180927               NaN                   BLA   \n",
       "5  SUBCUTANEOUS            20160322               NaN                   BLA   \n",
       "6  SUBCUTANEOUS            20180927               NaN                   BLA   \n",
       "7  SUBCUTANEOUS            20190604               NaN                   BLA   \n",
       "8          ORAL            20021126               NaN                   NDA   \n",
       "9          ORAL            20021126               NaN                   NDA   \n",
       "\n",
       "  APPLICATIONNUMBER LABELERNAME              SUBSTANCENAME  \\\n",
       "0         NDA018781          10                      WATER   \n",
       "1         NDA202008          10           FLORBETAPIR F-18   \n",
       "2         BLA125469          10                DULAGLUTIDE   \n",
       "3         BLA125469          10                DULAGLUTIDE   \n",
       "4         BLA761063          10               GALCANEZUMAB   \n",
       "5         BLA125521          10                 IXEKIZUMAB   \n",
       "6         BLA761063          10               GALCANEZUMAB   \n",
       "7         BLA761063          10               GALCANEZUMAB   \n",
       "8         NDA021411          10  ATOMOXETINE HYDROCHLORIDE   \n",
       "9         NDA021411          10  ATOMOXETINE HYDROCHLORIDE   \n",
       "\n",
       "  ACTIVE_NUMERATOR_STRENGTH ACTIVE_INGRED_UNIT  \\\n",
       "0                         1              mL/mL   \n",
       "1                        51             mCi/mL   \n",
       "2                       .75            mg/.5mL   \n",
       "3                       1.5            mg/.5mL   \n",
       "4                       120              mg/mL   \n",
       "5                        80              mg/mL   \n",
       "6                       120              mg/mL   \n",
       "7                       100              mg/mL   \n",
       "8                        10               mg/1   \n",
       "9                        25               mg/1   \n",
       "\n",
       "                                       PHARM_CLASSES DEASCHEDULE  \\\n",
       "0                                                NaN         NaN   \n",
       "1  Radioactive Diagnostic Agent [EPC],Positron Em...         NaN   \n",
       "2  GLP-1 Receptor Agonist [EPC],Glucagon-Like Pep...         NaN   \n",
       "3  GLP-1 Receptor Agonist [EPC],Glucagon-Like Pep...         NaN   \n",
       "4                                                NaN         NaN   \n",
       "5  Interleukin-17A Antagonist [EPC],Interleukin-1...         NaN   \n",
       "6                                                NaN         NaN   \n",
       "7                                                NaN         NaN   \n",
       "8  Norepinephrine Reuptake Inhibitor [EPC],Norepi...         NaN   \n",
       "9  Norepinephrine Reuptake Inhibitor [EPC],Norepi...         NaN   \n",
       "\n",
       "  NDC_EXCLUDE_FLAG  LISTING_RECORD_CERTIFIED_THROUGH  \n",
       "0                N                        20201231.0  \n",
       "1                N                        20211231.0  \n",
       "2                N                        20201231.0  \n",
       "3                N                        20201231.0  \n",
       "4                N                        20201231.0  \n",
       "5                N                        20201231.0  \n",
       "6                N                        20201231.0  \n",
       "7                N                        20201231.0  \n",
       "8                N                        20211231.0  \n",
       "9                N                        20211231.0  "
      ]
     },
     "execution_count": 3,
     "metadata": {},
     "output_type": "execute_result"
    }
   ],
   "source": [
    "product.head(10)"
   ]
  },
  {
   "cell_type": "code",
   "execution_count": 4,
   "metadata": {
    "scrolled": true
   },
   "outputs": [
    {
     "data": {
      "text/html": [
       "<div>\n",
       "<style scoped>\n",
       "    .dataframe tbody tr th:only-of-type {\n",
       "        vertical-align: middle;\n",
       "    }\n",
       "\n",
       "    .dataframe tbody tr th {\n",
       "        vertical-align: top;\n",
       "    }\n",
       "\n",
       "    .dataframe thead th {\n",
       "        text-align: right;\n",
       "    }\n",
       "</style>\n",
       "<table border=\"1\" class=\"dataframe\">\n",
       "  <thead>\n",
       "    <tr style=\"text-align: right;\">\n",
       "      <th></th>\n",
       "      <th>PRODUCTID</th>\n",
       "      <th>PRODUCTNDC</th>\n",
       "      <th>NDCPACKAGECODE</th>\n",
       "      <th>PACKAGEDESCRIPTION</th>\n",
       "      <th>STARTMARKETINGDATE</th>\n",
       "      <th>ENDMARKETINGDATE</th>\n",
       "      <th>NDC_EXCLUDE_FLAG</th>\n",
       "      <th>SAMPLE_PACKAGE</th>\n",
       "    </tr>\n",
       "  </thead>\n",
       "  <tbody>\n",
       "    <tr>\n",
       "      <th>0</th>\n",
       "      <td>0002-0800_94c48759-29bb-402d-afff-9a713be11f0e</td>\n",
       "      <td>0002-0800</td>\n",
       "      <td>0002-0800-01</td>\n",
       "      <td>1 VIAL in 1 CARTON (0002-0800-01)  &gt; 10 mL in ...</td>\n",
       "      <td>19870710</td>\n",
       "      <td>NaN</td>\n",
       "      <td>N</td>\n",
       "      <td>N</td>\n",
       "    </tr>\n",
       "    <tr>\n",
       "      <th>1</th>\n",
       "      <td>0002-1200_35551a38-7a8d-43b8-8abd-f6cb7549e932</td>\n",
       "      <td>0002-1200</td>\n",
       "      <td>0002-1200-30</td>\n",
       "      <td>1 VIAL, MULTI-DOSE in 1 CAN (0002-1200-30)  &gt; ...</td>\n",
       "      <td>20120601</td>\n",
       "      <td>NaN</td>\n",
       "      <td>N</td>\n",
       "      <td>N</td>\n",
       "    </tr>\n",
       "    <tr>\n",
       "      <th>2</th>\n",
       "      <td>0002-1200_35551a38-7a8d-43b8-8abd-f6cb7549e932</td>\n",
       "      <td>0002-1200</td>\n",
       "      <td>0002-1200-50</td>\n",
       "      <td>1 VIAL, MULTI-DOSE in 1 CAN (0002-1200-50)  &gt; ...</td>\n",
       "      <td>20120601</td>\n",
       "      <td>NaN</td>\n",
       "      <td>N</td>\n",
       "      <td>N</td>\n",
       "    </tr>\n",
       "    <tr>\n",
       "      <th>3</th>\n",
       "      <td>0002-1433_42a80046-fd68-4b80-819c-a443b7816edb</td>\n",
       "      <td>0002-1433</td>\n",
       "      <td>0002-1433-61</td>\n",
       "      <td>2 SYRINGE in 1 CARTON (0002-1433-61)  &gt; .5 mL ...</td>\n",
       "      <td>20141107</td>\n",
       "      <td>NaN</td>\n",
       "      <td>N</td>\n",
       "      <td>Y</td>\n",
       "    </tr>\n",
       "    <tr>\n",
       "      <th>4</th>\n",
       "      <td>0002-1433_42a80046-fd68-4b80-819c-a443b7816edb</td>\n",
       "      <td>0002-1433</td>\n",
       "      <td>0002-1433-80</td>\n",
       "      <td>4 SYRINGE in 1 CARTON (0002-1433-80)  &gt; .5 mL ...</td>\n",
       "      <td>20141107</td>\n",
       "      <td>NaN</td>\n",
       "      <td>N</td>\n",
       "      <td>N</td>\n",
       "    </tr>\n",
       "    <tr>\n",
       "      <th>5</th>\n",
       "      <td>0002-1434_42a80046-fd68-4b80-819c-a443b7816edb</td>\n",
       "      <td>0002-1434</td>\n",
       "      <td>0002-1434-61</td>\n",
       "      <td>2 SYRINGE in 1 CARTON (0002-1434-61)  &gt; .5 mL ...</td>\n",
       "      <td>20141107</td>\n",
       "      <td>NaN</td>\n",
       "      <td>N</td>\n",
       "      <td>Y</td>\n",
       "    </tr>\n",
       "    <tr>\n",
       "      <th>6</th>\n",
       "      <td>0002-1434_42a80046-fd68-4b80-819c-a443b7816edb</td>\n",
       "      <td>0002-1434</td>\n",
       "      <td>0002-1434-80</td>\n",
       "      <td>4 SYRINGE in 1 CARTON (0002-1434-80)  &gt; .5 mL ...</td>\n",
       "      <td>20141107</td>\n",
       "      <td>NaN</td>\n",
       "      <td>N</td>\n",
       "      <td>N</td>\n",
       "    </tr>\n",
       "    <tr>\n",
       "      <th>7</th>\n",
       "      <td>0002-1436_dd7f66eb-66e1-4ad0-a593-417dbf2c74e2</td>\n",
       "      <td>0002-1436</td>\n",
       "      <td>0002-1436-11</td>\n",
       "      <td>1 SYRINGE in 1 CARTON (0002-1436-11)  &gt; 1 mL i...</td>\n",
       "      <td>20180927</td>\n",
       "      <td>NaN</td>\n",
       "      <td>N</td>\n",
       "      <td>N</td>\n",
       "    </tr>\n",
       "  </tbody>\n",
       "</table>\n",
       "</div>"
      ],
      "text/plain": [
       "                                        PRODUCTID PRODUCTNDC NDCPACKAGECODE  \\\n",
       "0  0002-0800_94c48759-29bb-402d-afff-9a713be11f0e  0002-0800   0002-0800-01   \n",
       "1  0002-1200_35551a38-7a8d-43b8-8abd-f6cb7549e932  0002-1200   0002-1200-30   \n",
       "2  0002-1200_35551a38-7a8d-43b8-8abd-f6cb7549e932  0002-1200   0002-1200-50   \n",
       "3  0002-1433_42a80046-fd68-4b80-819c-a443b7816edb  0002-1433   0002-1433-61   \n",
       "4  0002-1433_42a80046-fd68-4b80-819c-a443b7816edb  0002-1433   0002-1433-80   \n",
       "5  0002-1434_42a80046-fd68-4b80-819c-a443b7816edb  0002-1434   0002-1434-61   \n",
       "6  0002-1434_42a80046-fd68-4b80-819c-a443b7816edb  0002-1434   0002-1434-80   \n",
       "7  0002-1436_dd7f66eb-66e1-4ad0-a593-417dbf2c74e2  0002-1436   0002-1436-11   \n",
       "\n",
       "                                  PACKAGEDESCRIPTION  STARTMARKETINGDATE  \\\n",
       "0  1 VIAL in 1 CARTON (0002-0800-01)  > 10 mL in ...            19870710   \n",
       "1  1 VIAL, MULTI-DOSE in 1 CAN (0002-1200-30)  > ...            20120601   \n",
       "2  1 VIAL, MULTI-DOSE in 1 CAN (0002-1200-50)  > ...            20120601   \n",
       "3  2 SYRINGE in 1 CARTON (0002-1433-61)  > .5 mL ...            20141107   \n",
       "4  4 SYRINGE in 1 CARTON (0002-1433-80)  > .5 mL ...            20141107   \n",
       "5  2 SYRINGE in 1 CARTON (0002-1434-61)  > .5 mL ...            20141107   \n",
       "6  4 SYRINGE in 1 CARTON (0002-1434-80)  > .5 mL ...            20141107   \n",
       "7  1 SYRINGE in 1 CARTON (0002-1436-11)  > 1 mL i...            20180927   \n",
       "\n",
       "   ENDMARKETINGDATE NDC_EXCLUDE_FLAG SAMPLE_PACKAGE  \n",
       "0               NaN                N              N  \n",
       "1               NaN                N              N  \n",
       "2               NaN                N              N  \n",
       "3               NaN                N              Y  \n",
       "4               NaN                N              N  \n",
       "5               NaN                N              Y  \n",
       "6               NaN                N              N  \n",
       "7               NaN                N              N  "
      ]
     },
     "execution_count": 4,
     "metadata": {},
     "output_type": "execute_result"
    }
   ],
   "source": [
    "package.head(8)"
   ]
  },
  {
   "cell_type": "markdown",
   "metadata": {},
   "source": [
    "# Question 1\n",
    "\n",
    "## Types des attributs"
   ]
  },
  {
   "cell_type": "code",
   "execution_count": 5,
   "metadata": {},
   "outputs": [
    {
     "name": "stdout",
     "output_type": "stream",
     "text": [
      "Types des attributs pour package :\n",
      "\n",
      " PRODUCTID              object\n",
      "PRODUCTNDC             object\n",
      "NDCPACKAGECODE         object\n",
      "PACKAGEDESCRIPTION     object\n",
      "STARTMARKETINGDATE      int64\n",
      "ENDMARKETINGDATE      float64\n",
      "NDC_EXCLUDE_FLAG       object\n",
      "SAMPLE_PACKAGE         object\n",
      "dtype: object\n",
      "\n",
      "Types des attributs pour product :\n",
      "\n",
      " PRODUCTID                            object\n",
      "PRODUCTNDC                           object\n",
      "PRODUCTTYPENAME                      object\n",
      "PROPRIETARYNAME                      object\n",
      "PROPRIETARYNAMESUFFIX                object\n",
      "NONPROPRIETARYNAME                   object\n",
      "DOSAGEFORMNAME                       object\n",
      "ROUTENAME                            object\n",
      "STARTMARKETINGDATE                    int64\n",
      "ENDMARKETINGDATE                    float64\n",
      "MARKETINGCATEGORYNAME                object\n",
      "APPLICATIONNUMBER                    object\n",
      "LABELERNAME                          object\n",
      "SUBSTANCENAME                        object\n",
      "ACTIVE_NUMERATOR_STRENGTH            object\n",
      "ACTIVE_INGRED_UNIT                   object\n",
      "PHARM_CLASSES                        object\n",
      "DEASCHEDULE                          object\n",
      "NDC_EXCLUDE_FLAG                     object\n",
      "LISTING_RECORD_CERTIFIED_THROUGH    float64\n",
      "dtype: object\n"
     ]
    }
   ],
   "source": [
    "print(\"Types des attributs pour package :\\n\\n\",package.dtypes)\n",
    "print(\"\\nTypes des attributs pour product :\\n\\n\",product.dtypes)"
   ]
  },
  {
   "cell_type": "markdown",
   "metadata": {},
   "source": [
    "### Valeurs Manquantes"
   ]
  },
  {
   "cell_type": "code",
   "execution_count": 6,
   "metadata": {},
   "outputs": [
    {
     "name": "stdout",
     "output_type": "stream",
     "text": [
      "(167507, 8)\n",
      "(93238, 20)\n",
      "Valeurs manquante par colonne dans package:\n",
      "\n",
      "PRODUCTID    0\n",
      "dtype: int64\n",
      "PRODUCTNDC    1500\n",
      "dtype: int64\n",
      "NDCPACKAGECODE    2346\n",
      "dtype: int64\n",
      "PACKAGEDESCRIPTION    0\n",
      "dtype: int64\n",
      "STARTMARKETINGDATE    0\n",
      "dtype: int64\n",
      "ENDMARKETINGDATE    167431\n",
      "dtype: int64\n",
      "NDC_EXCLUDE_FLAG    0\n",
      "dtype: int64\n",
      "SAMPLE_PACKAGE    0\n",
      "dtype: int64\n",
      "Nombre total de rangees dans package : 173887\n",
      "\n",
      "Valeurs manquante par colonne dans product:\n",
      "\n",
      "PRODUCTID    1560\n",
      "dtype: int64\n",
      "PRODUCTNDC    0\n",
      "dtype: int64\n",
      "PRODUCTTYPENAME    0\n",
      "dtype: int64\n",
      "PROPRIETARYNAME    6\n",
      "dtype: int64\n",
      "PROPRIETARYNAMESUFFIX    83075\n",
      "dtype: int64\n",
      "NONPROPRIETARYNAME    4\n",
      "dtype: int64\n",
      "DOSAGEFORMNAME    0\n",
      "dtype: int64\n",
      "ROUTENAME    1932\n",
      "dtype: int64\n",
      "STARTMARKETINGDATE    0\n",
      "dtype: int64\n",
      "ENDMARKETINGDATE    88915\n",
      "dtype: int64\n",
      "MARKETINGCATEGORYNAME    0\n",
      "dtype: int64\n",
      "APPLICATIONNUMBER    13097\n",
      "dtype: int64\n",
      "LABELERNAME    0\n",
      "dtype: int64\n",
      "SUBSTANCENAME    2309\n",
      "dtype: int64\n",
      "ACTIVE_NUMERATOR_STRENGTH    2309\n",
      "dtype: int64\n",
      "ACTIVE_INGRED_UNIT    2309\n",
      "dtype: int64\n",
      "PHARM_CLASSES    50984\n",
      "dtype: int64\n",
      "DEASCHEDULE    88815\n",
      "dtype: int64\n",
      "NDC_EXCLUDE_FLAG    0\n",
      "dtype: int64\n",
      "LISTING_RECORD_CERTIFIED_THROUGH    4325\n",
      "dtype: int64\n",
      "Nombre total de rangees dans product: 93238\n"
     ]
    }
   ],
   "source": [
    "manquantePackage = package[package.isnull().any(axis=1)]\n",
    "#display(manquantePackage)\n",
    "print(manquantePackage.shape)\n",
    "\n",
    "manquanteProduct = product[product.isnull().any(axis=1)]\n",
    "#display(manquanteProduct)\n",
    "print(manquanteProduct.shape)\n",
    "\n",
    "print(\"Valeurs manquante par colonne dans package:\\n\")\n",
    "for col in package.columns:\n",
    "    nb = package[[col]].isna().sum()\n",
    "    print(nb)\n",
    "print(\"Nombre total de rangees dans package :\", len(package))\n",
    "\n",
    "print(\"\\nValeurs manquante par colonne dans product:\\n\")\n",
    "for col in product.columns:\n",
    "    nb = product[[col]].isna().sum()\n",
    "    print(nb)\n",
    "print(\"Nombre total de rangees dans product:\", len(product))"
   ]
  },
  {
   "cell_type": "markdown",
   "metadata": {},
   "source": [
    "### Incohérences dans package\n",
    "\n",
    "#### Incohérences intra attribut"
   ]
  },
  {
   "cell_type": "code",
   "execution_count": 7,
   "metadata": {},
   "outputs": [
    {
     "name": "stdout",
     "output_type": "stream",
     "text": [
      "Nombres de PRODUCTID n'ayant pas de tiret: 0\n"
     ]
    }
   ],
   "source": [
    "#Verifier que productId possède au moins 1 tiret \n",
    "productIdNotNull = package[~package['PRODUCTID'].isnull()]\n",
    "arrayIndexInvalidProductIdForPackage = []\n",
    "\n",
    "for index, row in productIdNotNull.iterrows():\n",
    "    if \"-\" not in row['PRODUCTID']:\n",
    "        arrayIndexInvalidProductIdForPackage.append(index)\n",
    "print(\"Nombres de PRODUCTID n'ayant pas de tiret:\",len(arrayIndexInvalidProductIdForPackage))"
   ]
  },
  {
   "cell_type": "code",
   "execution_count": 8,
   "metadata": {},
   "outputs": [
    {
     "name": "stdout",
     "output_type": "stream",
     "text": [
      "Nombres de NDCPACKAGECODE n'ayant pas 2 tirets ou contenant des lettres: 154\n"
     ]
    }
   ],
   "source": [
    "ndcPackageCodeNotNull = package[~package['NDCPACKAGECODE'].isnull()]\n",
    "arrayIndexInvalidNDCPackageCode = []\n",
    "\n",
    "for index, row in ndcPackageCodeNotNull.iterrows():\n",
    "    #Si le productndc ne contient pas de tiret\n",
    "    if not row['NDCPACKAGECODE'].count(\"-\")== 2:\n",
    "        arrayIndexInvalidNDCPackageCode.append(index)\n",
    "\n",
    "    elif not row['NDCPACKAGECODE'].replace('-','').isnumeric():\n",
    "        arrayIndexInvalidNDCPackageCode.append(index)\n",
    "        \n",
    "print(\"Nombres de NDCPACKAGECODE n'ayant pas 2 tirets ou contenant des lettres:\",len(arrayIndexInvalidNDCPackageCode))"
   ]
  },
  {
   "cell_type": "code",
   "execution_count": 9,
   "metadata": {
    "scrolled": true
   },
   "outputs": [
    {
     "name": "stdout",
     "output_type": "stream",
     "text": [
      "Nombres de PRODUCTNDC n'ayant pas de tiret ou contenant des lettres: 519\n"
     ]
    }
   ],
   "source": [
    "#Verifier que le productNDC est composé de nombre et contient un tiret comme indiqué dans la documentation\n",
    "productNDCNotNull = package[~package['PRODUCTNDC'].isnull()]\n",
    "arrayIndexInvalidProductNDCForPackage = []\n",
    "\n",
    "for index, row in productNDCNotNull.iterrows():\n",
    "    #Si le productndc ne contient pas de tiret\n",
    "    if not row['PRODUCTNDC'].count(\"-\")== 1:\n",
    "        arrayIndexInvalidProductNDCForPackage.append(index)\n",
    "\n",
    "    elif not row['PRODUCTNDC'].replace('-','').isnumeric():\n",
    "        arrayIndexInvalidProductNDCForPackage.append(index)\n",
    "    \n",
    "print(\"Nombres de PRODUCTNDC n'ayant pas de tiret ou contenant des lettres:\",len(arrayIndexInvalidProductNDCForPackage))"
   ]
  },
  {
   "cell_type": "code",
   "execution_count": 10,
   "metadata": {},
   "outputs": [
    {
     "name": "stdout",
     "output_type": "stream",
     "text": [
      "Nombre de dates de STARTMARKETINGDATE invalides :  243\n"
     ]
    }
   ],
   "source": [
    "#Aucune valeur manquante dans package pour la colonne STARTMARKETINGDATE donc on peut utiliser directement package\n",
    "dateFormatNonValide = 0\n",
    "arrayIndexInvalidStartMktgDateForPackage = []\n",
    "for index, row in package.iterrows():\n",
    "    #Si la date n'est pas dans le format indiqué alors cela retourne NaT\n",
    "    date = pd.to_datetime(row['STARTMARKETINGDATE'], format='%Y%m%d', errors='coerce')\n",
    "    if pd.isnull(date):\n",
    "        arrayIndexInvalidStartMktgDateForPackage.append(index)\n",
    "        dateFormatNonValide +=1\n",
    "        \n",
    "print(\"Nombre de dates de STARTMARKETINGDATE invalides : \",dateFormatNonValide)"
   ]
  },
  {
   "cell_type": "code",
   "execution_count": 11,
   "metadata": {
    "scrolled": true
   },
   "outputs": [
    {
     "name": "stdout",
     "output_type": "stream",
     "text": [
      "Nombre de ligne avec une valeur autre que Y ou N dans la colonne sample_Package :  0\n",
      "Nombre de rangee avec une valeur autre que Y, N, E ou I dans la colonne ndc_exclude_flag :  0\n"
     ]
    }
   ],
   "source": [
    "#SAMPLE_PACKAGE peut prendre une valeur parmis Y ou N\n",
    "samplePackage = package[(package['SAMPLE_PACKAGE'] != 'Y') & (package['SAMPLE_PACKAGE'] != 'N')]\n",
    "\n",
    "print(\"Nombre de ligne avec une valeur autre que Y ou N dans la colonne sample_Package : \",len(samplePackage))\n",
    "\n",
    "#NDC_EXCLUDE_FLAG peut prendre une valeur parmis Y, N, E ou I\n",
    "ndc_exclude_flag = package[(package['NDC_EXCLUDE_FLAG'] != 'Y') & (package['NDC_EXCLUDE_FLAG'] != 'N') & (package['NDC_EXCLUDE_FLAG'] != 'E') & (package['NDC_EXCLUDE_FLAG'] != 'I')]\n",
    "print(\"Nombre de rangee avec une valeur autre que Y, N, E ou I dans la colonne ndc_exclude_flag : \",len(ndc_exclude_flag))"
   ]
  },
  {
   "cell_type": "code",
   "execution_count": 12,
   "metadata": {},
   "outputs": [
    {
     "name": "stdout",
     "output_type": "stream",
     "text": [
      "Nombre de dates de ENDMARKETINGDATE invalides :  0\n"
     ]
    }
   ],
   "source": [
    "endMarketingDateNotnull = package[(~package['ENDMARKETINGDATE'].isnull())]\n",
    "\n",
    "dateFormatNonValide = 0\n",
    "for index in range(0,len(endMarketingDateNotnull)):\n",
    "    #Si la date n'est pas dans le format indiqué alors cela retourne NaT\n",
    "    date = pd.to_datetime(endMarketingDateNotnull.iloc[index]['ENDMARKETINGDATE'], format='%Y%m%d', errors='coerce')\n",
    "    if pd.isnull(date):\n",
    "        dateFormatNonValide +=1\n",
    "        \n",
    "print(\"Nombre de dates de ENDMARKETINGDATE invalides : \",dateFormatNonValide)"
   ]
  },
  {
   "cell_type": "markdown",
   "metadata": {},
   "source": [
    "#### Incohérences inter attributs"
   ]
  },
  {
   "cell_type": "code",
   "execution_count": 13,
   "metadata": {},
   "outputs": [
    {
     "name": "stdout",
     "output_type": "stream",
     "text": [
      "Nombre de PRODUCTNDC contenu dans NDCPACKAGECODE différent du PRODUCTNDC :  674\n"
     ]
    }
   ],
   "source": [
    "#Dans le cas ou le PRODUCTNDC et le NDCPackageCode existent\n",
    "productNDCAndNDCPackageCodeNotNull = package[(~package['PRODUCTNDC'].isnull()) & (~package['NDCPACKAGECODE'].isnull())]\n",
    "\n",
    "arrayIndexIncoherentProductNDCAndNDCPackageCode = []\n",
    "compteurIncoherence = 0\n",
    "for index, row in productNDCAndNDCPackageCodeNotNull.iterrows() :\n",
    "    productndc = row['PRODUCTNDC']\n",
    "    ndcpkgcode = row['NDCPACKAGECODE']\n",
    "    if productndc != ndcpkgcode[:len(productndc)]:\n",
    "        arrayIndexIncoherentProductNDCAndNDCPackageCode.append(index)\n",
    "        compteurIncoherence += 1\n",
    "        \n",
    "print(\"Nombre de PRODUCTNDC contenu dans NDCPACKAGECODE différent du PRODUCTNDC : \", compteurIncoherence)"
   ]
  },
  {
   "cell_type": "code",
   "execution_count": 14,
   "metadata": {},
   "outputs": [
    {
     "name": "stdout",
     "output_type": "stream",
     "text": [
      "Nombre de PRODUCTNDC contenu dans PRODUCTID différent du PRODUCTNDC :  519\n"
     ]
    }
   ],
   "source": [
    "#Verifier que PRODUCTNDC apparait au debut de PRODUCTID\n",
    "#Dans le cas ou le PRODUCTNDC et le PRODUCTID existent\n",
    "productNDCAndProductIdNotNull = package[(~package['PRODUCTNDC'].isnull()) & (~package['PRODUCTID'].isnull())]\n",
    "\n",
    "arrayIndexIncoherentProductNDCAndProductIdForPackage = []\n",
    "compteurIncoherence = 0\n",
    "for index, row in productNDCAndProductIdNotNull.iterrows() :\n",
    "    productndc = row['PRODUCTNDC']\n",
    "    productid = row['PRODUCTID']\n",
    "    if productndc != productid[:len(productndc)]:\n",
    "        arrayIndexIncoherentProductNDCAndProductIdForPackage.append(index)\n",
    "        compteurIncoherence += 1\n",
    "        \n",
    "print(\"Nombre de PRODUCTNDC contenu dans PRODUCTID différent du PRODUCTNDC : \", compteurIncoherence)"
   ]
  },
  {
   "cell_type": "code",
   "execution_count": 15,
   "metadata": {},
   "outputs": [
    {
     "name": "stdout",
     "output_type": "stream",
     "text": [
      "Nombre de dates incohérentes tel que start soit apres end, ou soit la date start est invalide :  18\n"
     ]
    }
   ],
   "source": [
    "#Verifier que la date start soit avant ou égale à la date end (cependant date start peut être non valide)\n",
    "datesIncoherentes = 0\n",
    "arrayIndexDatesIncoherentesForPackage = []\n",
    "\n",
    "for index, row in endMarketingDateNotnull.iterrows():\n",
    "    dateEnd = pd.to_datetime(row['ENDMARKETINGDATE'])\n",
    "    dateStart = pd.to_datetime(row['STARTMARKETINGDATE'])\n",
    "    \n",
    "    if dateEnd < dateStart :\n",
    "        arrayIndexDatesIncoherentesForPackage.append(index)\n",
    "        datesIncoherentes +=1\n",
    "print(\"Nombre de dates incohérentes tel que start soit apres end, ou soit la date start est invalide : \",datesIncoherentes)"
   ]
  },
  {
   "cell_type": "markdown",
   "metadata": {},
   "source": [
    "En ce qui attrait au colonnes <b>PRODUCTID PRODUCTNDC NDCPACKAGECODE PACKAGEDESCRIPTION</b> de la table PACKAGE, il est difficile de d'avoir un critère qui permet de savoir si il y a une incoherence dans les données de la colonne. Pour ce qui est des autres colonnes, force est de constater qu'il n'y a pas d'incoherence flagrante dans les données intra colonnes. En effet, d'autant plus que les données de ces colonnes sont du type OBJECT, ils peuvent donc prendre n'importe quelle forme."
   ]
  },
  {
   "cell_type": "markdown",
   "metadata": {},
   "source": [
    "### Incohérences dans product\n",
    "\n",
    "#### Incohérences intra attribut"
   ]
  },
  {
   "cell_type": "code",
   "execution_count": 16,
   "metadata": {},
   "outputs": [
    {
     "name": "stdout",
     "output_type": "stream",
     "text": [
      "Nombres de PRODUCTID n'ayant pas de tiret: 0\n"
     ]
    }
   ],
   "source": [
    "#Verifier que productId possède au moins 1 tiret \n",
    "productIdNotNull = product[~product['PRODUCTID'].isnull()]\n",
    "arrayIndexInvalidProductIdForProduct = []\n",
    "\n",
    "for index, row in productIdNotNull.iterrows():\n",
    "    if \"-\" not in row['PRODUCTID']:\n",
    "        arrayIndexInvalidProductIdForProduct.append(index)\n",
    "print(\"Nombres de PRODUCTID n'ayant pas de tiret:\",len(arrayIndexInvalidProductIdForProduct))"
   ]
  },
  {
   "cell_type": "code",
   "execution_count": 17,
   "metadata": {},
   "outputs": [
    {
     "name": "stdout",
     "output_type": "stream",
     "text": [
      "Nombre de DEASCHEDULE n'ayant pas de valeur valide : 0\n"
     ]
    }
   ],
   "source": [
    "deaScheduleNotNull = product[~product['DEASCHEDULE'].isnull()] \n",
    "\n",
    "arrayIndexInvalidDeaSchedule = []\n",
    "\n",
    "for index, row in deaScheduleNotNull.iterrows():\n",
    "    if row['DEASCHEDULE'] not in ['CI', 'CII', 'CIII', 'CIV','CV']:\n",
    "        arrayIndexInvalidDeaSchedule.append(index)\n",
    "print(\"Nombre de DEASCHEDULE n'ayant pas de valeur valide :\",len(arrayIndexInvalidDeaSchedule))\n"
   ]
  },
  {
   "cell_type": "code",
   "execution_count": 18,
   "metadata": {},
   "outputs": [
    {
     "name": "stdout",
     "output_type": "stream",
     "text": [
      "Nombres de PRODUCTNDC n'ayant pas de tiret ou contenant des lettres: 513\n"
     ]
    }
   ],
   "source": [
    "#Verifier que le productNDC est composé de nombre et contient un tiret comme indiqué dans la documentation\n",
    "productNDCNotNull = product[~product['PRODUCTNDC'].isnull()]\n",
    "arrayIndexInvalidProductNDCForProduct = []\n",
    "\n",
    "for index, row in productNDCNotNull.iterrows():\n",
    "    #Si le productndc ne contient pas de tiret\n",
    "    if \"-\" not in row['PRODUCTNDC']:\n",
    "        arrayIndexInvalidProductNDCForProduct.append(index)\n",
    "        \n",
    "    elif not row['PRODUCTNDC'].replace('-','').isnumeric():\n",
    "        arrayIndexInvalidProductNDCForProduct.append(index)\n",
    "    \n",
    "print(\"Nombres de PRODUCTNDC n'ayant pas de tiret ou contenant des lettres:\",len(arrayIndexInvalidProductNDCForProduct))"
   ]
  },
  {
   "cell_type": "code",
   "execution_count": 19,
   "metadata": {},
   "outputs": [
    {
     "name": "stdout",
     "output_type": "stream",
     "text": [
      "Nombre de dates de STARTMARKETINGDATE invalides :  0\n"
     ]
    }
   ],
   "source": [
    "#Aucune valeur manquante dans package pour la colonne STARTMARKETINGDATE donc on peut utiliser directement product\n",
    "dateFormatNonValide = 0\n",
    "for index in range(0,len(product)):\n",
    "    #Si la date n'est pas dans le format indiqué alors cela retourne NaT\n",
    "    date = pd.to_datetime(product.iloc[index]['STARTMARKETINGDATE'], format='%Y%m%d', errors='coerce')\n",
    "    if pd.isnull(date):\n",
    "        dateFormatNonValide +=1\n",
    "        \n",
    "print(\"Nombre de dates de STARTMARKETINGDATE invalides : \",dateFormatNonValide)"
   ]
  },
  {
   "cell_type": "code",
   "execution_count": 20,
   "metadata": {},
   "outputs": [
    {
     "name": "stdout",
     "output_type": "stream",
     "text": [
      "Nombre de dates de ENDMARKETINGDATE invalide :  1\n"
     ]
    }
   ],
   "source": [
    "endMarketingDateNotnull = product[(~product['ENDMARKETINGDATE'].isnull())]\n",
    "\n",
    "arrayIndexInvalidEndMarketingDateForProduct = []\n",
    "dateFormatNonValide = 0\n",
    "for index, row in endMarketingDateNotnull.iterrows():\n",
    "    #Si la date n'est pas dans le format indiqué alors cela retourne NaT\n",
    "    date = pd.to_datetime(row['ENDMARKETINGDATE'], format='%Y%m%d', errors='coerce')\n",
    "    if pd.isnull(date):\n",
    "        arrayIndexInvalidEndMarketingDateForProduct.append(index)\n",
    "        dateFormatNonValide +=1\n",
    "        \n",
    "print(\"Nombre de dates de ENDMARKETINGDATE invalide : \",dateFormatNonValide)"
   ]
  },
  {
   "cell_type": "code",
   "execution_count": 21,
   "metadata": {},
   "outputs": [
    {
     "name": "stdout",
     "output_type": "stream",
     "text": [
      "Nombre de dates de LISTING_RECORD_CERTIFIED_THROUGH invalides:  0\n"
     ]
    }
   ],
   "source": [
    "listrecordcertifNotNull = product[~product['LISTING_RECORD_CERTIFIED_THROUGH'].isnull()]\n",
    "\n",
    "dateFormatNonValide = 0\n",
    "for index in range(0,len(listrecordcertifNotNull)):\n",
    "    #Si la date n'est pas dans le format indiqué alors cela retourne NaT\n",
    "    date = pd.to_datetime(listrecordcertifNotNull.iloc[index]['LISTING_RECORD_CERTIFIED_THROUGH'], format='%Y%m%d', errors='coerce')\n",
    "    if pd.isnull(date):\n",
    "        dateFormatNonValide +=1\n",
    "print(\"Nombre de dates de LISTING_RECORD_CERTIFIED_THROUGH invalides: \", dateFormatNonValide)"
   ]
  },
  {
   "cell_type": "code",
   "execution_count": 22,
   "metadata": {},
   "outputs": [
    {
     "name": "stdout",
     "output_type": "stream",
     "text": [
      "Nombre de ligne avec une valeur autre que Y, N, E ou I dans la colonne ndc_exclude_flag :  0\n"
     ]
    }
   ],
   "source": [
    "#NDC_EXCLUDE_FLAG peut prendre une valeur parmis Y, N, E ou I\n",
    "ndc_exclude_flag = product[(product['NDC_EXCLUDE_FLAG'] != 'Y') & (product['NDC_EXCLUDE_FLAG'] != 'N') & (product['NDC_EXCLUDE_FLAG'] != 'E') & (product['NDC_EXCLUDE_FLAG'] != 'I')]\n",
    "print(\"Nombre de ligne avec une valeur autre que Y, N, E ou I dans la colonne ndc_exclude_flag : \",len(ndc_exclude_flag))"
   ]
  },
  {
   "cell_type": "markdown",
   "metadata": {},
   "source": [
    "#### Incohérences inter attributs"
   ]
  },
  {
   "cell_type": "code",
   "execution_count": 23,
   "metadata": {},
   "outputs": [
    {
     "name": "stdout",
     "output_type": "stream",
     "text": [
      "Nombre de PRODUCTNDC contenu dans PRODUCTID différent du PRODUCTNDC :  513\n"
     ]
    }
   ],
   "source": [
    "#Dans le cas ou le PRODUCTNDC et le PRODUCTID existent\n",
    "productNDCAndProductIdNotNull = product[(~product['PRODUCTNDC'].isnull()) & (~product['PRODUCTID'].isnull())]\n",
    "\n",
    "arrayIndexIncoherentProductNDCAndProductIdForProduct = []\n",
    "compteurIncoherence = 0\n",
    "for index, row in productNDCAndProductIdNotNull.iterrows() :\n",
    "    productndc = row['PRODUCTNDC']\n",
    "    productid = row['PRODUCTID']\n",
    "    if productndc != productid[:len(productndc)]:\n",
    "        arrayIndexIncoherentProductNDCAndProductIdForProduct.append(index)\n",
    "        compteurIncoherence += 1\n",
    "        \n",
    "print(\"Nombre de PRODUCTNDC contenu dans PRODUCTID différent du PRODUCTNDC : \", compteurIncoherence) "
   ]
  },
  {
   "cell_type": "code",
   "execution_count": 24,
   "metadata": {},
   "outputs": [
    {
     "name": "stdout",
     "output_type": "stream",
     "text": [
      "Nombre de MARKETINGCATEGORYNAME contenu dans APPLICATIONNUMBER différent du MARKETINGCATEGORYNAME :  139\n"
     ]
    }
   ],
   "source": [
    "#Dans le cas ou le MARKETINGCATEGORYNAME et le APPLICATIONNUMBER existent\n",
    "#On ne teste pas sur MARKETINGCATEGORYNAME car il y a aucune valeur manquante\n",
    "applicationNumberNotNull = product[(~product['APPLICATIONNUMBER'].isnull())]\n",
    "\n",
    "compteurIncoherence = 0\n",
    "arrayIndexIncoherentMarketingCategoryNameAndApplicationNumber = []\n",
    "for index, row in applicationNumberNotNull.iterrows() :\n",
    "    marketingctgname = row['MARKETINGCATEGORYNAME']\n",
    "    applicationnumber = row['APPLICATIONNUMBER']\n",
    "    \n",
    "    if marketingctgname != applicationnumber[:len(marketingctgname)]:\n",
    "        #Condition donner sur le site que si  Marketing Category is OTC Monograph Final or OTC Monograph Not Final, alor application nb sera partXXXX\n",
    "        if str(marketingctgname[:3]) == \"OTC\" and str(applicationnumber[:4])==\"part\" or str(marketingctgname[:3]) == str(applicationnumber[:3]):\n",
    "            #print(marketingctgname[0:3], applicationnumber[:4])\n",
    "            continue\n",
    "        else:    \n",
    "            arrayIndexIncoherentMarketingCategoryNameAndApplicationNumber.append(index)\n",
    "            compteurIncoherence += 1\n",
    "print(\"Nombre de MARKETINGCATEGORYNAME contenu dans APPLICATIONNUMBER différent du MARKETINGCATEGORYNAME : \", compteurIncoherence)   "
   ]
  },
  {
   "cell_type": "code",
   "execution_count": 25,
   "metadata": {},
   "outputs": [
    {
     "name": "stdout",
     "output_type": "stream",
     "text": [
      "Nombre de dates incohérentes tel que start soit apres end, ou soit la date start est invalide :  0\n"
     ]
    }
   ],
   "source": [
    "#Verifier que la date start soit avant ou égale à la date end (cependant end start peut être non valide car 1 trouvée)\n",
    "datesIncoherentes = 0\n",
    "for index in range(0,len(endMarketingDateNotnull)):\n",
    "    dateEnd = pd.to_datetime(endMarketingDateNotnull.iloc[index]['ENDMARKETINGDATE'])\n",
    "    dateStart = pd.to_datetime(endMarketingDateNotnull.iloc[index]['STARTMARKETINGDATE'])\n",
    "    \n",
    "    if dateEnd < dateStart :\n",
    "        datesIncoherentes +=1\n",
    "print(\"Nombre de dates incohérentes tel que start soit apres end, ou soit la date start est invalide : \",datesIncoherentes)"
   ]
  },
  {
   "cell_type": "code",
   "execution_count": 26,
   "metadata": {},
   "outputs": [
    {
     "name": "stdout",
     "output_type": "stream",
     "text": [
      "Differentes possibilites pour DEASCHEDULE : ['CV' 'CIV' 'CIII' 'CII']\n",
      "Differentes possibilites pour ACTIVE_INGRED_UNIT : ['mL/mL' 'mCi/mL' 'mg/.5mL' ... 'g/30mL; g/30mL; g/30mL; 1/30mL' '1/25mL'\n",
      " 'mg/6g']\n",
      "Differentes possibilites pour ACTIVE_NUMERATOR_STRENGTH : ['1' '51' '.75' ... '33.2' '415' '20; 25; 33']\n",
      "Il y a  20 identifiants de ACTIVE_NUMERATOR_STRENGTH qui ne sont pas des nombres\n",
      "Nombres de differentes possibilites pour ROUTENAME : 180\n",
      "Nombres de differentes possibilites pour DOSAGEFORMNAME : 134\n",
      "Nombres de differentes possibilites pour PROPRIETARYNAMESUFFIX : 1455\n"
     ]
    }
   ],
   "source": [
    "hh = product[~product['DEASCHEDULE'].isnull()]\n",
    "print(\"Differentes possibilites pour DEASCHEDULE :\",hh['DEASCHEDULE'].unique())\n",
    "\n",
    "jj = product[~product['ACTIVE_INGRED_UNIT'].isnull()]\n",
    "print(\"Differentes possibilites pour ACTIVE_INGRED_UNIT :\",jj['ACTIVE_INGRED_UNIT'].unique())\n",
    "\n",
    "kk = product[~product['ACTIVE_NUMERATOR_STRENGTH'].isnull()]\n",
    "erreurActiveNumerator= [isinstance(x, numbers.Number) for x in kk]\n",
    "print(\"Differentes possibilites pour ACTIVE_NUMERATOR_STRENGTH :\",kk['ACTIVE_NUMERATOR_STRENGTH'].unique())\n",
    "print(\"Il y a \",len(erreurActiveNumerator), \"identifiants de ACTIVE_NUMERATOR_STRENGTH qui ne sont pas des nombres\")\n",
    "\n",
    "ll = product[~product['ROUTENAME'].isnull()]\n",
    "print(\"Nombres de differentes possibilites pour ROUTENAME :\",len(ll['ROUTENAME'].unique()))\n",
    "\n",
    "zz = product[~product['DOSAGEFORMNAME'].isnull()]\n",
    "print(\"Nombres de differentes possibilites pour DOSAGEFORMNAME :\",len(zz['DOSAGEFORMNAME'].unique()))\n",
    "\n",
    "cc = product[~product['PROPRIETARYNAMESUFFIX'].isnull()]\n",
    "nameSuffix = []\n",
    "for date in cc['PROPRIETARYNAMESUFFIX'].unique():\n",
    "    if any(char.isdigit() for char in date):\n",
    "           nameSuffix.append(date)\n",
    "print(\"Nombres de differentes possibilites pour PROPRIETARYNAMESUFFIX :\",len(nameSuffix))"
   ]
  },
  {
   "cell_type": "markdown",
   "metadata": {},
   "source": [
    "Pour la colonne <b>DEASCHEDULE</b>, nous ne connaissons pas les valeurs des attributs il est donc difficile de savoir si il y a une incoherence.\n",
    "<br><br>Pour la colonne <b>PHARM_CLASSES</b>, nous ne pouvons pas evaluer les incoherences en raison des valeurs de la colonne.\n",
    "<br><br>Pour la colonne <b>ACTIVE_INGRED_UNIT</b>, il y a plusieurs valeurs, cependant en les analysant visuellement, il ne semble pas y avoir d'incoherences.\n",
    "<br><br>Pour la colonne <b>ACTIVE_NUMERATOR_STRENGTH</b>, il y a des valeurs qui ne sont pas des nombres. Nous ne savons pas si ce sont des incoherences cependant, nous estimons pertinent de le souligner au cas ou cela pourrait poserait probleme plus tard.\n",
    "<br><br>Pour la colonne <b>SUBSTANCENAME</b> nous ne pouvons pas savoir si les attributs qui sont dans les colonnes sont bons puisque nous n'avons pas de banque permettant de valider. Il en est de meme pour <b>MARKETINGCATEGORYNAME APPLICATIONNUMBER LABELERNAME NONPROPRIETARYNAME PRODUCTID PRODUCTNDC PRODUCTTYPENAME PROPRIETARYNAME</b>, ce sont tous de objets, nous n'avons donc pas beaucoup de details quant a la composition des attributs.\n",
    "<br><br>Pour la colonne <b>PROPRIETARYNAMESUFFIX</b> nous voyons qu'il y a 1455 elements que leur attribut contient un chiffre dans le suffix. Nous ne pouvons donc pas affirmer que de contenir un chiffre est un incoherence malgre que ce sont des suffix."
   ]
  },
  {
   "cell_type": "markdown",
   "metadata": {},
   "source": [
    "#### Conclusion \n",
    "Nous avons donc analysé toutes les colonnes afin de voir si il n'y avait pas d'erreurs ou d'incohérence dans les éléments de ces colonnes. Pour les dates nous avons vérifié qu'elles comportaient un mois entre 1 et 12 et un jour entre 1 et 31. Nous ne tenons pas compte de la variance du nombre de jours entre les mois. Lorsque la colonne comportait des objets qui par le nom nous permettait de croire que ce devrait être soi seulement composé de chiffres ou seulement composé de lettres, nous avons vérifié si c'était le cas et compté les nombre d'exceptions afin de vérifier si elles étaient répandues ou pas. Force est de constaté suite à notre analyse qu'il ne semble pas y avoir d'incohérence intra-attributs.\n",
    "\n",
    "Les incohérences qu'il faudrait qu'on a verifiées : \n",
    "\n",
    "**Package :**\n",
    "\n",
    "- ProductNDC presente un tiret et est constitué de nombre\n",
    "- NDCPackageCode possède deux tirets\n",
    "- ProductNDC present dans ProductID\n",
    "- NDCPackageCode est composé de ProductNDC + autres \n",
    "- SamplePackage E {Y, N}\n",
    "- NDCExcludeFlag E {Y, N, E, I}\n",
    "- Start et end marketindate ils doivent être cohérent l'un doit être avant l'autre\n",
    "- Verifier format de date valide pour end et start\n",
    "\n",
    "**Product :**\n",
    "\n",
    "- ProductNDC presente un tiret et est constitué de nombre\n",
    "- ProductNDC present dans ProductID\n",
    "- MarkekingCategoryName est au début d'ApplicationNumber \n",
    "- NDCExcludeFlag E {Y, N, E, I}\n",
    "- Start et end marketindate ils doivent être cohérent l'un doit être avant l'autre\n",
    "- Verifier format de date valide pour en, start et listingRecord"
   ]
  },
  {
   "cell_type": "markdown",
   "metadata": {},
   "source": [
    "## Question2\n",
    "Comme nous l'avons vu à la question 1, il y a certaines attributs qui sont reliés, qui se complète. Ci-dessous nous allons énumérer ces relations."
   ]
  },
  {
   "cell_type": "markdown",
   "metadata": {},
   "source": [
    "### Table Package\n",
    "Les éléments suivants ne sont pas directement énuméré dans la table mais sont utilisés par 1 ou plusieurs éléments : SPL documentID, labeler code(labelerName dans la table Product), product code et package code de la National Drug Code number.\n",
    "   - ProductID est le produit de la concaténation entre NDCproduct et SPL DocumentID.\n",
    "   - Le productNDC est la concaténation entre le labelerCode et le productCode, ils sont séparés par des tirets. \n",
    "   - Le NDCPackageCode est le produit du labeler code, product code et package, ils sont séparés par des tirets. Deux de ses trois éléments sont partagés avec le productNDC.\n",
    "   - Les autres éléments ne semblent pas avoir de liens avec d'autres attributs de cette table."
   ]
  },
  {
   "cell_type": "markdown",
   "metadata": {},
   "source": [
    "### Table product\n",
    "\n",
    "Les éléments suivants ne sont pas directement énuméré dans la table mais sont utilisés par 1 ou plusieurs éléments : SPL documentID, product code et package code de la National Drug Code number.\n",
    "\n",
    "   - **ProductID** est le produit de la concaténation entre NDCproduct et SPL DocumentID.\n",
    "   - Le **productNDC** est la concaténation entre le labelerCode et le productCode, ils sont séparés par des tirets.\n",
    "   - **ProprietaryNameSuffix** est composé de **ProprietaryName** suivit d'un suffix servant à distinguer un produit par caractéristiques.\n",
    "   - L'attribut **MarketingCategoryName** aura l'une des étiquettes suivantes : <i>NDA/ANDA/BLA, OTC Monograph ou Unapproved Drug</i>. **ApplicationNumber** est le produit le MarketingCategoryName en ce sens qu'un code lui sera attribué selon la catégorie Marketing assignée.\n",
    "   - L'attribut **SubstanceName** énumère les ingrédients actifs du produit. **StrengthNumber, StrengthUnit** est respectivement la force des ingrédients actifs identifiés et l'unité de mesure, l'ordre d'apparition des ingrédients est le même dans les deux catégories. L'attribut**Pharm_classes** est l'identifiant de la categorie pharmaceutique des substance identifié dans SubstanceName, l'ordre d'apparition est le même que dans les autres attributs. **DIRE QU ON EN FERA RIEN**"
   ]
  },
  {
   "cell_type": "markdown",
   "metadata": {},
   "source": [
    "# Question 3"
   ]
  },
  {
   "cell_type": "code",
   "execution_count": 27,
   "metadata": {},
   "outputs": [
    {
     "data": {
      "text/plain": [
       "PRODUCTID     0220-2997_8590fcc9-c0c3-f43b-e053-2991aa0a692e\n",
       "PRODUCTNDC                                         0220-2997\n",
       "Name: 6913, dtype: object"
      ]
     },
     "metadata": {},
     "output_type": "display_data"
    }
   ],
   "source": [
    "#Correction de ProductNDC et ProductId\n",
    "#Il y a des cas ou il faut transformer la date et le mois en chiffre dans le bon ordre ex) 05-juin->0006-0005, nous en avons corrige 10\n",
    "correction =\"\"\n",
    "for ind in arrayIndexIncoherentProductNDCAndProductIdForPackage:\n",
    "    correction=\"\"\n",
    "    if str(package.iloc[ind][\"PRODUCTNDC\"][3:8]).isalpha():\n",
    "        mois = str(package.iloc[ind][\"PRODUCTNDC\"][3:8])\n",
    "        jour = str(package.iloc[ind][\"PRODUCTNDC\"][0:2])\n",
    "        if mois == \"sept\":\n",
    "            correction+=\"0009-00\"+jour\n",
    "        elif mois == \"juin\":\n",
    "            correction+=\"0006-00\"+jour\n",
    "        package.loc[ind, \"PRODUCTNDC\"] = correction\n",
    "        arrayIndexIncoherentProductNDCAndProductIdForPackage.remove(ind)\n",
    "        \n",
    "#Les incoherences qu'il reste a corriger(Je n'y vois aucune logique)\n",
    "display(package.iloc[6913][[\"PRODUCTID\",\"PRODUCTNDC\"]])\n",
    "#for ind in arrayIndexIncoherentProductNDCAndProductIdForPackage:\n",
    "    # display(package.iloc[ind][[\"PRODUCTID\",\"PRODUCTNDC\"]])"
   ]
  },
  {
   "cell_type": "code",
   "execution_count": 28,
   "metadata": {},
   "outputs": [],
   "source": [
    "#Toute les erreurs sont la meme, l'annee est ecrit 2997 au lieu de 1997, nous corrigeons 243 erreurs\n",
    "for date in arrayIndexInvalidStartMktgDateForPackage:\n",
    "    nDate = \"1\"+str(package.iloc[date][\"STARTMARKETINGDATE\"])[1:]\n",
    "    package.loc[date,\"STARTMARKETINGDATE\"]=nDate\n",
    "    arrayIndexInvalidStartMktgDateForPackage.remove(date)"
   ]
  },
  {
   "cell_type": "code",
   "execution_count": 29,
   "metadata": {},
   "outputs": [],
   "source": [
    "#Correction de l'erreur endMarketingDate\n",
    "dd = product.iloc[arrayIndexInvalidEndMarketingDateForProduct[0]]['ENDMARKETINGDATE']\n",
    "str(dd)[:]\n",
    "correction = \"2\"+str(dd)[1:]\n",
    "product.loc[arrayIndexInvalidEndMarketingDateForProduct[0],'ENDMARKETINGDATE']= correction"
   ]
  },
  {
   "cell_type": "code",
   "execution_count": 30,
   "metadata": {},
   "outputs": [],
   "source": [
    "#Nous allons supprimer les lignes incohérentes dans la table package qui ne peuvent pas être corrigées \n",
    "arrayIndexToRemoveInPackage = arrayIndexDatesIncoherentesForPackage + arrayIndexIncoherentProductNDCAndNDCPackageCode + arrayIndexIncoherentProductNDCAndProductIdForPackage + arrayIndexInvalidNDCPackageCode + arrayIndexInvalidProductIdForPackage + arrayIndexInvalidStartMktgDateForPackage\n",
    "\n",
    "arrayIndexToRemoveInPackage = list(set(arrayIndexToRemoveInPackage))\n",
    "\n",
    "package = package.drop(package.index[arrayIndexToRemoveInPackage])"
   ]
  },
  {
   "cell_type": "code",
   "execution_count": 31,
   "metadata": {},
   "outputs": [],
   "source": [
    "#Nous allons supprimer les lignes incohérentes dans la table product qui ne peuvent pas être corrigées \n",
    "arrayIndexToRemoveInProduct = arrayIndexIncoherentProductNDCAndProductIdForProduct + arrayIndexInvalidEndMarketingDateForProduct + arrayIndexInvalidProductIdForProduct + arrayIndexInvalidProductNDCForProduct\n",
    "\n",
    "arrayIndexToRemoveInProductUnique = list(set(arrayIndexToRemoveInProduct))\n",
    "\n",
    "product = product.drop(product.index[arrayIndexToRemoveInProductUnique])"
   ]
  },
  {
   "cell_type": "markdown",
   "metadata": {},
   "source": [
    "# Question 4"
   ]
  },
  {
   "cell_type": "markdown",
   "metadata": {},
   "source": [
    "Nous allons chercher à compléter les données manquantes dans les deux tables. Tout d'abord nous allons le faire dans la table package. **Nous n'esseyerons pas de spéculer sur les règles d'inférences entre les attributs, et nous préférons supprimer les lignes contenant des données manquantes.**\n",
    "\n",
    "**Table package**\n",
    "\n",
    "- Correction du productNDC à partir du productId car nous avons aucune données manquantes pour l'attribut productId.\n",
    "- Pour les valeurs manquantes du NDCPackageCode nous n'avons pas accès au *package code segments of the national drug code number*\n",
    "- Pour les endMarketingDate nous ne pourrons corriger parce que nous ne pouvons pas faire d'inférence quant à la endMarketingDate à partir des données disponibles.\n",
    "\n",
    "**Table product**\n",
    "\n",
    "- Correction impossible pour le productId puisque nous n'avons pas accès au *SPL document ID* \n",
    "- Correction des valeurs manquantes de proprietaryName si nous connaissons proprietaryNameSuffix\n",
    "- Quant aux autres attributs nous ne pouvons pas corriger les valeurs manquantes puisque nous ne pouvons faire d'inférence à partir des données disponibles."
   ]
  },
  {
   "cell_type": "code",
   "execution_count": 32,
   "metadata": {},
   "outputs": [],
   "source": [
    "#Correction de PRODUCTNDC de la table package a partir de PRODUCTID\n",
    "listeProdNDCNull = package[package['PRODUCTNDC'].isnull()].index.tolist()\n",
    "\n",
    "for index in range(0, len(listeProdNDCNull)):\n",
    "    prodId = package['PRODUCTID'][listeProdNDCNull[index]]\n",
    "    prodNDC = prodId.split('_')[0]\n",
    "    package.loc[listeProdNDCNull[index],'PRODUCTNDC'] = prodNDC\n"
   ]
  },
  {
   "cell_type": "code",
   "execution_count": 33,
   "metadata": {},
   "outputs": [],
   "source": [
    "#Enlever les rangees ou NDCPACKAGECODE est null de package\n",
    "listeNDCPckgCodeNull = package[package['NDCPACKAGECODE'].isnull()].index.tolist()\n",
    "package=package.drop(package.index[listeNDCPckgCodeNull])"
   ]
  },
  {
   "cell_type": "markdown",
   "metadata": {},
   "source": [
    "Pour ce qui est des valeurs de **ENDMARKETINGDATE** qui sont null, elles sont trop nombreuses et nous ne pouvons pas les corriger sans spéculer et avons donc décidé de les laisser tel quel."
   ]
  },
  {
   "cell_type": "code",
   "execution_count": 34,
   "metadata": {},
   "outputs": [],
   "source": [
    "#Correction des productId null de la table product\n",
    "listeProdIdNull = product[product['PRODUCTID'].isnull()].index.tolist()\n",
    "\n",
    "product = product.drop(product.index[listeProdIdNull])"
   ]
  },
  {
   "cell_type": "code",
   "execution_count": 35,
   "metadata": {
    "scrolled": true
   },
   "outputs": [
    {
     "name": "stdout",
     "output_type": "stream",
     "text": [
      "nan\n",
      "nan\n",
      "nan\n",
      "nan\n",
      "nan\n",
      "nan\n"
     ]
    }
   ],
   "source": [
    "listeProprietaryNameNull = product[product['PROPRIETARYNAME'].isnull()].index.tolist()\n",
    "\n",
    "for index in range(0, len(listeProprietaryNameNull)):\n",
    "    #propName = product.iloc[index]['PROPRIETARYNAME']\n",
    "    propNameSuf = product.iloc[index]['PROPRIETARYNAMESUFFIX']\n",
    "    print(propNameSuf)\n",
    "    "
   ]
  },
  {
   "cell_type": "markdown",
   "metadata": {},
   "source": [
    "Puisque les 6 valeurs de **PROPRIETARYNAMESUFFIX** correspondant aux objets ayant **PROPRIETARYNAME** null sont nan, il est impossible d'en déduire la valeur de **PROPRIETARYNAME**."
   ]
  },
  {
   "cell_type": "markdown",
   "metadata": {},
   "source": [
    "# Question 5"
   ]
  },
  {
   "cell_type": "code",
   "execution_count": 36,
   "metadata": {
    "scrolled": true
   },
   "outputs": [
    {
     "name": "stdout",
     "output_type": "stream",
     "text": [
      "Nombres de lignes dupliquées de package: 0\n",
      "Nombres de lignes dupliquées de product: 0\n"
     ]
    }
   ],
   "source": [
    "#package.drop_duplicates()\n",
    "print(\"Nombres de lignes dupliquées de package:\", package.duplicated().sum())\n",
    "print(\"Nombres de lignes dupliquées de product:\",product.duplicated().sum())"
   ]
  },
  {
   "cell_type": "markdown",
   "metadata": {},
   "source": [
    "Comme il n'y a pas de lignes identiques, nous n'en avons pas enlevé encore. Cependant nous émettons l'hypothèse que lorsque nous éliminerons une colonne ou quand nous allons fusionner, nous aurons des lignes dupliquées."
   ]
  },
  {
   "cell_type": "markdown",
   "metadata": {},
   "source": [
    "# Question 6"
   ]
  },
  {
   "cell_type": "markdown",
   "metadata": {},
   "source": [
    "Nous allons fusionner nos deux tables en fonction de l'attribut producId. Nous suivons les informations de la documentation : *It is included to help prevent duplicate rows from appearing when joining the product and package files together.*\n",
    "\n",
    "Cependant nous allons faire la fusion sur **PRODUCTNDC** aussi afin de confirmer que **PRODUCTID** est la meilleure solution."
   ]
  },
  {
   "cell_type": "code",
   "execution_count": 37,
   "metadata": {},
   "outputs": [
    {
     "data": {
      "text/plain": [
       "count                                             170736\n",
       "unique                                             91225\n",
       "top       73069-037_9eff0917-36c9-4fee-8799-233396692ca3\n",
       "freq                                                  72\n",
       "Name: PRODUCTID, dtype: object"
      ]
     },
     "execution_count": 37,
     "metadata": {},
     "output_type": "execute_result"
    }
   ],
   "source": [
    "package['PRODUCTID'].describe()"
   ]
  },
  {
   "cell_type": "code",
   "execution_count": 38,
   "metadata": {},
   "outputs": [
    {
     "name": "stdout",
     "output_type": "stream",
     "text": [
      "79511\n"
     ]
    }
   ],
   "source": [
    "print(package['PRODUCTID'].duplicated().sum())"
   ]
  },
  {
   "cell_type": "code",
   "execution_count": 39,
   "metadata": {},
   "outputs": [
    {
     "data": {
      "text/plain": [
       "count        170736\n",
       "unique        89991\n",
       "top       73069-277\n",
       "freq             72\n",
       "Name: PRODUCTNDC, dtype: object"
      ]
     },
     "execution_count": 39,
     "metadata": {},
     "output_type": "execute_result"
    }
   ],
   "source": [
    "package['PRODUCTNDC'].describe()"
   ]
  },
  {
   "cell_type": "code",
   "execution_count": 40,
   "metadata": {},
   "outputs": [
    {
     "data": {
      "text/plain": [
       "count                                              91138\n",
       "unique                                             91138\n",
       "top       63824-267_f180df36-562c-4dbc-9de1-b3c45abcf0ee\n",
       "freq                                                   1\n",
       "Name: PRODUCTID, dtype: object"
      ]
     },
     "execution_count": 40,
     "metadata": {},
     "output_type": "execute_result"
    }
   ],
   "source": [
    "product['PRODUCTID'].describe()"
   ]
  },
  {
   "cell_type": "code",
   "execution_count": 41,
   "metadata": {
    "scrolled": true
   },
   "outputs": [
    {
     "data": {
      "text/plain": [
       "count         91164\n",
       "unique        89887\n",
       "top       54365-400\n",
       "freq             23\n",
       "Name: PRODUCTNDC, dtype: object"
      ]
     },
     "execution_count": 41,
     "metadata": {},
     "output_type": "execute_result"
    }
   ],
   "source": [
    "product['PRODUCTNDC'].describe()"
   ]
  },
  {
   "cell_type": "code",
   "execution_count": 42,
   "metadata": {},
   "outputs": [
    {
     "data": {
      "text/html": [
       "<div>\n",
       "<style scoped>\n",
       "    .dataframe tbody tr th:only-of-type {\n",
       "        vertical-align: middle;\n",
       "    }\n",
       "\n",
       "    .dataframe tbody tr th {\n",
       "        vertical-align: top;\n",
       "    }\n",
       "\n",
       "    .dataframe thead th {\n",
       "        text-align: right;\n",
       "    }\n",
       "</style>\n",
       "<table border=\"1\" class=\"dataframe\">\n",
       "  <thead>\n",
       "    <tr style=\"text-align: right;\">\n",
       "      <th></th>\n",
       "      <th>PRODUCTNDC</th>\n",
       "      <th>NDCPACKAGECODE</th>\n",
       "      <th>PACKAGEDESCRIPTION</th>\n",
       "      <th>STARTMARKETINGDATE</th>\n",
       "      <th>ENDMARKETINGDATE</th>\n",
       "      <th>NDC_EXCLUDE_FLAG</th>\n",
       "      <th>SAMPLE_PACKAGE</th>\n",
       "    </tr>\n",
       "  </thead>\n",
       "  <tbody>\n",
       "    <tr>\n",
       "      <th>0</th>\n",
       "      <td>0002-0800</td>\n",
       "      <td>0002-0800-01</td>\n",
       "      <td>1 VIAL in 1 CARTON (0002-0800-01)  &gt; 10 mL in ...</td>\n",
       "      <td>19870710</td>\n",
       "      <td>NaN</td>\n",
       "      <td>N</td>\n",
       "      <td>N</td>\n",
       "    </tr>\n",
       "    <tr>\n",
       "      <th>1</th>\n",
       "      <td>0002-1200</td>\n",
       "      <td>0002-1200-30</td>\n",
       "      <td>1 VIAL, MULTI-DOSE in 1 CAN (0002-1200-30)  &gt; ...</td>\n",
       "      <td>20120601</td>\n",
       "      <td>NaN</td>\n",
       "      <td>N</td>\n",
       "      <td>N</td>\n",
       "    </tr>\n",
       "    <tr>\n",
       "      <th>2</th>\n",
       "      <td>0002-1200</td>\n",
       "      <td>0002-1200-50</td>\n",
       "      <td>1 VIAL, MULTI-DOSE in 1 CAN (0002-1200-50)  &gt; ...</td>\n",
       "      <td>20120601</td>\n",
       "      <td>NaN</td>\n",
       "      <td>N</td>\n",
       "      <td>N</td>\n",
       "    </tr>\n",
       "    <tr>\n",
       "      <th>3</th>\n",
       "      <td>0002-1433</td>\n",
       "      <td>0002-1433-61</td>\n",
       "      <td>2 SYRINGE in 1 CARTON (0002-1433-61)  &gt; .5 mL ...</td>\n",
       "      <td>20141107</td>\n",
       "      <td>NaN</td>\n",
       "      <td>N</td>\n",
       "      <td>Y</td>\n",
       "    </tr>\n",
       "    <tr>\n",
       "      <th>4</th>\n",
       "      <td>0002-1433</td>\n",
       "      <td>0002-1433-80</td>\n",
       "      <td>4 SYRINGE in 1 CARTON (0002-1433-80)  &gt; .5 mL ...</td>\n",
       "      <td>20141107</td>\n",
       "      <td>NaN</td>\n",
       "      <td>N</td>\n",
       "      <td>N</td>\n",
       "    </tr>\n",
       "    <tr>\n",
       "      <th>...</th>\n",
       "      <td>...</td>\n",
       "      <td>...</td>\n",
       "      <td>...</td>\n",
       "      <td>...</td>\n",
       "      <td>...</td>\n",
       "      <td>...</td>\n",
       "      <td>...</td>\n",
       "    </tr>\n",
       "    <tr>\n",
       "      <th>173882</th>\n",
       "      <td>99207-525</td>\n",
       "      <td>99207-525-10</td>\n",
       "      <td>1 TUBE in 1 CARTON (99207-525-10)  &gt; 120 g in ...</td>\n",
       "      <td>20060313</td>\n",
       "      <td>NaN</td>\n",
       "      <td>N</td>\n",
       "      <td>N</td>\n",
       "    </tr>\n",
       "    <tr>\n",
       "      <th>173883</th>\n",
       "      <td>99207-525</td>\n",
       "      <td>99207-525-30</td>\n",
       "      <td>1 TUBE in 1 CARTON (99207-525-30)  &gt; 30 g in 1...</td>\n",
       "      <td>20060313</td>\n",
       "      <td>NaN</td>\n",
       "      <td>N</td>\n",
       "      <td>N</td>\n",
       "    </tr>\n",
       "    <tr>\n",
       "      <th>173884</th>\n",
       "      <td>99207-525</td>\n",
       "      <td>99207-525-60</td>\n",
       "      <td>1 TUBE in 1 CARTON (99207-525-60)  &gt; 60 g in 1...</td>\n",
       "      <td>20060313</td>\n",
       "      <td>NaN</td>\n",
       "      <td>N</td>\n",
       "      <td>N</td>\n",
       "    </tr>\n",
       "    <tr>\n",
       "      <th>173885</th>\n",
       "      <td>99207-850</td>\n",
       "      <td>99207-850-02</td>\n",
       "      <td>12 TUBE in 1 CARTON (99207-850-02)  &gt; 2 g in 1...</td>\n",
       "      <td>20131114</td>\n",
       "      <td>NaN</td>\n",
       "      <td>N</td>\n",
       "      <td>Y</td>\n",
       "    </tr>\n",
       "    <tr>\n",
       "      <th>173886</th>\n",
       "      <td>99207-850</td>\n",
       "      <td>99207-850-60</td>\n",
       "      <td>1 TUBE in 1 CARTON (99207-850-60)  &gt; 60 g in 1...</td>\n",
       "      <td>20131114</td>\n",
       "      <td>NaN</td>\n",
       "      <td>N</td>\n",
       "      <td>N</td>\n",
       "    </tr>\n",
       "  </tbody>\n",
       "</table>\n",
       "<p>170736 rows × 7 columns</p>\n",
       "</div>"
      ],
      "text/plain": [
       "       PRODUCTNDC NDCPACKAGECODE  \\\n",
       "0       0002-0800   0002-0800-01   \n",
       "1       0002-1200   0002-1200-30   \n",
       "2       0002-1200   0002-1200-50   \n",
       "3       0002-1433   0002-1433-61   \n",
       "4       0002-1433   0002-1433-80   \n",
       "...           ...            ...   \n",
       "173882  99207-525   99207-525-10   \n",
       "173883  99207-525   99207-525-30   \n",
       "173884  99207-525   99207-525-60   \n",
       "173885  99207-850   99207-850-02   \n",
       "173886  99207-850   99207-850-60   \n",
       "\n",
       "                                       PACKAGEDESCRIPTION STARTMARKETINGDATE  \\\n",
       "0       1 VIAL in 1 CARTON (0002-0800-01)  > 10 mL in ...           19870710   \n",
       "1       1 VIAL, MULTI-DOSE in 1 CAN (0002-1200-30)  > ...           20120601   \n",
       "2       1 VIAL, MULTI-DOSE in 1 CAN (0002-1200-50)  > ...           20120601   \n",
       "3       2 SYRINGE in 1 CARTON (0002-1433-61)  > .5 mL ...           20141107   \n",
       "4       4 SYRINGE in 1 CARTON (0002-1433-80)  > .5 mL ...           20141107   \n",
       "...                                                   ...                ...   \n",
       "173882  1 TUBE in 1 CARTON (99207-525-10)  > 120 g in ...           20060313   \n",
       "173883  1 TUBE in 1 CARTON (99207-525-30)  > 30 g in 1...           20060313   \n",
       "173884  1 TUBE in 1 CARTON (99207-525-60)  > 60 g in 1...           20060313   \n",
       "173885  12 TUBE in 1 CARTON (99207-850-02)  > 2 g in 1...           20131114   \n",
       "173886  1 TUBE in 1 CARTON (99207-850-60)  > 60 g in 1...           20131114   \n",
       "\n",
       "        ENDMARKETINGDATE NDC_EXCLUDE_FLAG SAMPLE_PACKAGE  \n",
       "0                    NaN                N              N  \n",
       "1                    NaN                N              N  \n",
       "2                    NaN                N              N  \n",
       "3                    NaN                N              Y  \n",
       "4                    NaN                N              N  \n",
       "...                  ...              ...            ...  \n",
       "173882               NaN                N              N  \n",
       "173883               NaN                N              N  \n",
       "173884               NaN                N              N  \n",
       "173885               NaN                N              Y  \n",
       "173886               NaN                N              N  \n",
       "\n",
       "[170736 rows x 7 columns]"
      ]
     },
     "execution_count": 42,
     "metadata": {},
     "output_type": "execute_result"
    }
   ],
   "source": [
    "packageSansProductId = package.copy()\n",
    "packageSansProductId.drop(columns=['PRODUCTID'])"
   ]
  },
  {
   "cell_type": "code",
   "execution_count": 43,
   "metadata": {},
   "outputs": [
    {
     "data": {
      "text/plain": [
       "0"
      ]
     },
     "execution_count": 43,
     "metadata": {},
     "output_type": "execute_result"
    }
   ],
   "source": [
    "packageSansProductId.head()\n",
    "packageSansProductId.duplicated().sum()"
   ]
  },
  {
   "cell_type": "code",
   "execution_count": 44,
   "metadata": {
    "scrolled": true
   },
   "outputs": [
    {
     "data": {
      "text/html": [
       "<div>\n",
       "<style scoped>\n",
       "    .dataframe tbody tr th:only-of-type {\n",
       "        vertical-align: middle;\n",
       "    }\n",
       "\n",
       "    .dataframe tbody tr th {\n",
       "        vertical-align: top;\n",
       "    }\n",
       "\n",
       "    .dataframe thead th {\n",
       "        text-align: right;\n",
       "    }\n",
       "</style>\n",
       "<table border=\"1\" class=\"dataframe\">\n",
       "  <thead>\n",
       "    <tr style=\"text-align: right;\">\n",
       "      <th></th>\n",
       "      <th>PRODUCTNDC</th>\n",
       "      <th>PRODUCTTYPENAME</th>\n",
       "      <th>PROPRIETARYNAME</th>\n",
       "      <th>PROPRIETARYNAMESUFFIX</th>\n",
       "      <th>NONPROPRIETARYNAME</th>\n",
       "      <th>DOSAGEFORMNAME</th>\n",
       "      <th>ROUTENAME</th>\n",
       "      <th>STARTMARKETINGDATE</th>\n",
       "      <th>ENDMARKETINGDATE</th>\n",
       "      <th>MARKETINGCATEGORYNAME</th>\n",
       "      <th>APPLICATIONNUMBER</th>\n",
       "      <th>LABELERNAME</th>\n",
       "      <th>SUBSTANCENAME</th>\n",
       "      <th>ACTIVE_NUMERATOR_STRENGTH</th>\n",
       "      <th>ACTIVE_INGRED_UNIT</th>\n",
       "      <th>PHARM_CLASSES</th>\n",
       "      <th>DEASCHEDULE</th>\n",
       "      <th>NDC_EXCLUDE_FLAG</th>\n",
       "      <th>LISTING_RECORD_CERTIFIED_THROUGH</th>\n",
       "    </tr>\n",
       "  </thead>\n",
       "  <tbody>\n",
       "    <tr>\n",
       "      <th>20</th>\n",
       "      <td>0002-3251</td>\n",
       "      <td>HUMAN PRESCRIPTION DRUG</td>\n",
       "      <td>Strattera</td>\n",
       "      <td>NaN</td>\n",
       "      <td>Atomoxetine hydrochloride</td>\n",
       "      <td>CAPSULE</td>\n",
       "      <td>ORAL</td>\n",
       "      <td>20050214</td>\n",
       "      <td>NaN</td>\n",
       "      <td>NDA</td>\n",
       "      <td>NDA021411</td>\n",
       "      <td>10</td>\n",
       "      <td>ATOMOXETINE HYDROCHLORIDE</td>\n",
       "      <td>100</td>\n",
       "      <td>mg/1</td>\n",
       "      <td>Norepinephrine Reuptake Inhibitor [EPC],Norepi...</td>\n",
       "      <td>NaN</td>\n",
       "      <td>N</td>\n",
       "      <td>20211231.0</td>\n",
       "    </tr>\n",
       "    <tr>\n",
       "      <th>21</th>\n",
       "      <td>0002-3270</td>\n",
       "      <td>HUMAN PRESCRIPTION DRUG</td>\n",
       "      <td>Cymbalta</td>\n",
       "      <td>NaN</td>\n",
       "      <td>Duloxetine hydrochloride</td>\n",
       "      <td>CAPSULE, DELAYED RELEASE</td>\n",
       "      <td>ORAL</td>\n",
       "      <td>20100115</td>\n",
       "      <td>NaN</td>\n",
       "      <td>NDA</td>\n",
       "      <td>NDA021427</td>\n",
       "      <td>10</td>\n",
       "      <td>DULOXETINE HYDROCHLORIDE</td>\n",
       "      <td>60</td>\n",
       "      <td>mg/1</td>\n",
       "      <td>Norepinephrine Uptake Inhibitors [MoA],Seroton...</td>\n",
       "      <td>NaN</td>\n",
       "      <td>N</td>\n",
       "      <td>20201231.0</td>\n",
       "    </tr>\n",
       "    <tr>\n",
       "      <th>22</th>\n",
       "      <td>0002-4112</td>\n",
       "      <td>HUMAN PRESCRIPTION DRUG</td>\n",
       "      <td>Zyprexa</td>\n",
       "      <td>NaN</td>\n",
       "      <td>Olanzapine</td>\n",
       "      <td>TABLET</td>\n",
       "      <td>ORAL</td>\n",
       "      <td>19970623</td>\n",
       "      <td>NaN</td>\n",
       "      <td>NDA</td>\n",
       "      <td>NDA020592</td>\n",
       "      <td>10</td>\n",
       "      <td>OLANZAPINE</td>\n",
       "      <td>2.5</td>\n",
       "      <td>mg/1</td>\n",
       "      <td>Atypical Antipsychotic [EPC]</td>\n",
       "      <td>NaN</td>\n",
       "      <td>N</td>\n",
       "      <td>20201231.0</td>\n",
       "    </tr>\n",
       "    <tr>\n",
       "      <th>23</th>\n",
       "      <td>0002-4115</td>\n",
       "      <td>HUMAN PRESCRIPTION DRUG</td>\n",
       "      <td>Zyprexa</td>\n",
       "      <td>NaN</td>\n",
       "      <td>Olanzapine</td>\n",
       "      <td>TABLET</td>\n",
       "      <td>ORAL</td>\n",
       "      <td>19961001</td>\n",
       "      <td>NaN</td>\n",
       "      <td>NDA</td>\n",
       "      <td>NDA020592</td>\n",
       "      <td>10</td>\n",
       "      <td>OLANZAPINE</td>\n",
       "      <td>5</td>\n",
       "      <td>mg/1</td>\n",
       "      <td>Atypical Antipsychotic [EPC]</td>\n",
       "      <td>NaN</td>\n",
       "      <td>N</td>\n",
       "      <td>20201231.0</td>\n",
       "    </tr>\n",
       "    <tr>\n",
       "      <th>24</th>\n",
       "      <td>0002-4116</td>\n",
       "      <td>HUMAN PRESCRIPTION DRUG</td>\n",
       "      <td>Zyprexa</td>\n",
       "      <td>NaN</td>\n",
       "      <td>Olanzapine</td>\n",
       "      <td>TABLET</td>\n",
       "      <td>ORAL</td>\n",
       "      <td>19961001</td>\n",
       "      <td>NaN</td>\n",
       "      <td>NDA</td>\n",
       "      <td>NDA020592</td>\n",
       "      <td>10</td>\n",
       "      <td>OLANZAPINE</td>\n",
       "      <td>7.5</td>\n",
       "      <td>mg/1</td>\n",
       "      <td>Atypical Antipsychotic [EPC]</td>\n",
       "      <td>NaN</td>\n",
       "      <td>N</td>\n",
       "      <td>20201231.0</td>\n",
       "    </tr>\n",
       "    <tr>\n",
       "      <th>...</th>\n",
       "      <td>...</td>\n",
       "      <td>...</td>\n",
       "      <td>...</td>\n",
       "      <td>...</td>\n",
       "      <td>...</td>\n",
       "      <td>...</td>\n",
       "      <td>...</td>\n",
       "      <td>...</td>\n",
       "      <td>...</td>\n",
       "      <td>...</td>\n",
       "      <td>...</td>\n",
       "      <td>...</td>\n",
       "      <td>...</td>\n",
       "      <td>...</td>\n",
       "      <td>...</td>\n",
       "      <td>...</td>\n",
       "      <td>...</td>\n",
       "      <td>...</td>\n",
       "      <td>...</td>\n",
       "    </tr>\n",
       "    <tr>\n",
       "      <th>93233</th>\n",
       "      <td>99207-465</td>\n",
       "      <td>HUMAN PRESCRIPTION DRUG</td>\n",
       "      <td>Solodyn</td>\n",
       "      <td>NaN</td>\n",
       "      <td>minocycline hydrochloride</td>\n",
       "      <td>TABLET, FILM COATED, EXTENDED RELEASE</td>\n",
       "      <td>ORAL</td>\n",
       "      <td>20100927</td>\n",
       "      <td>NaN</td>\n",
       "      <td>NDA</td>\n",
       "      <td>NDA050808</td>\n",
       "      <td>Valeant Pharmaceuticals North America LLC</td>\n",
       "      <td>MINOCYCLINE HYDROCHLORIDE</td>\n",
       "      <td>55</td>\n",
       "      <td>mg/1</td>\n",
       "      <td>Tetracycline-class Drug [EPC],Tetracyclines [CS]</td>\n",
       "      <td>NaN</td>\n",
       "      <td>N</td>\n",
       "      <td>20201231.0</td>\n",
       "    </tr>\n",
       "    <tr>\n",
       "      <th>93234</th>\n",
       "      <td>99207-466</td>\n",
       "      <td>HUMAN PRESCRIPTION DRUG</td>\n",
       "      <td>Solodyn</td>\n",
       "      <td>NaN</td>\n",
       "      <td>minocycline hydrochloride</td>\n",
       "      <td>TABLET, FILM COATED, EXTENDED RELEASE</td>\n",
       "      <td>ORAL</td>\n",
       "      <td>20100927</td>\n",
       "      <td>NaN</td>\n",
       "      <td>NDA</td>\n",
       "      <td>NDA050808</td>\n",
       "      <td>Valeant Pharmaceuticals North America LLC</td>\n",
       "      <td>MINOCYCLINE HYDROCHLORIDE</td>\n",
       "      <td>80</td>\n",
       "      <td>mg/1</td>\n",
       "      <td>Tetracycline-class Drug [EPC],Tetracyclines [CS]</td>\n",
       "      <td>NaN</td>\n",
       "      <td>N</td>\n",
       "      <td>20201231.0</td>\n",
       "    </tr>\n",
       "    <tr>\n",
       "      <th>93235</th>\n",
       "      <td>99207-467</td>\n",
       "      <td>HUMAN PRESCRIPTION DRUG</td>\n",
       "      <td>Solodyn</td>\n",
       "      <td>NaN</td>\n",
       "      <td>minocycline hydrochloride</td>\n",
       "      <td>TABLET, FILM COATED, EXTENDED RELEASE</td>\n",
       "      <td>ORAL</td>\n",
       "      <td>20100927</td>\n",
       "      <td>NaN</td>\n",
       "      <td>NDA</td>\n",
       "      <td>NDA050808</td>\n",
       "      <td>Valeant Pharmaceuticals North America LLC</td>\n",
       "      <td>MINOCYCLINE HYDROCHLORIDE</td>\n",
       "      <td>105</td>\n",
       "      <td>mg/1</td>\n",
       "      <td>Tetracycline-class Drug [EPC],Tetracyclines [CS]</td>\n",
       "      <td>NaN</td>\n",
       "      <td>N</td>\n",
       "      <td>20201231.0</td>\n",
       "    </tr>\n",
       "    <tr>\n",
       "      <th>93236</th>\n",
       "      <td>99207-525</td>\n",
       "      <td>HUMAN PRESCRIPTION DRUG</td>\n",
       "      <td>Vanos</td>\n",
       "      <td>NaN</td>\n",
       "      <td>fluocinonide</td>\n",
       "      <td>CREAM</td>\n",
       "      <td>TOPICAL</td>\n",
       "      <td>20060313</td>\n",
       "      <td>NaN</td>\n",
       "      <td>NDA</td>\n",
       "      <td>NDA021758</td>\n",
       "      <td>Valeant Pharmaceuticals North America LLC</td>\n",
       "      <td>FLUOCINONIDE</td>\n",
       "      <td>1</td>\n",
       "      <td>mg/g</td>\n",
       "      <td>Corticosteroid [EPC],Corticosteroid Hormone Re...</td>\n",
       "      <td>NaN</td>\n",
       "      <td>N</td>\n",
       "      <td>20201231.0</td>\n",
       "    </tr>\n",
       "    <tr>\n",
       "      <th>93237</th>\n",
       "      <td>99207-850</td>\n",
       "      <td>HUMAN PRESCRIPTION DRUG</td>\n",
       "      <td>Luzu</td>\n",
       "      <td>NaN</td>\n",
       "      <td>LULICONAZOLE</td>\n",
       "      <td>CREAM</td>\n",
       "      <td>TOPICAL</td>\n",
       "      <td>20131114</td>\n",
       "      <td>NaN</td>\n",
       "      <td>NDA</td>\n",
       "      <td>NDA204153</td>\n",
       "      <td>Bausch Health US, LLC</td>\n",
       "      <td>LULICONAZOLE</td>\n",
       "      <td>10</td>\n",
       "      <td>mg/g</td>\n",
       "      <td>Azole Antifungal [EPC],Azoles [CS],Cytochrome ...</td>\n",
       "      <td>NaN</td>\n",
       "      <td>N</td>\n",
       "      <td>20201231.0</td>\n",
       "    </tr>\n",
       "  </tbody>\n",
       "</table>\n",
       "<p>91164 rows × 19 columns</p>\n",
       "</div>"
      ],
      "text/plain": [
       "      PRODUCTNDC          PRODUCTTYPENAME PROPRIETARYNAME  \\\n",
       "20     0002-3251  HUMAN PRESCRIPTION DRUG       Strattera   \n",
       "21     0002-3270  HUMAN PRESCRIPTION DRUG        Cymbalta   \n",
       "22     0002-4112  HUMAN PRESCRIPTION DRUG         Zyprexa   \n",
       "23     0002-4115  HUMAN PRESCRIPTION DRUG         Zyprexa   \n",
       "24     0002-4116  HUMAN PRESCRIPTION DRUG         Zyprexa   \n",
       "...          ...                      ...             ...   \n",
       "93233  99207-465  HUMAN PRESCRIPTION DRUG         Solodyn   \n",
       "93234  99207-466  HUMAN PRESCRIPTION DRUG         Solodyn   \n",
       "93235  99207-467  HUMAN PRESCRIPTION DRUG         Solodyn   \n",
       "93236  99207-525  HUMAN PRESCRIPTION DRUG           Vanos   \n",
       "93237  99207-850  HUMAN PRESCRIPTION DRUG            Luzu   \n",
       "\n",
       "      PROPRIETARYNAMESUFFIX         NONPROPRIETARYNAME  \\\n",
       "20                      NaN  Atomoxetine hydrochloride   \n",
       "21                      NaN   Duloxetine hydrochloride   \n",
       "22                      NaN                 Olanzapine   \n",
       "23                      NaN                 Olanzapine   \n",
       "24                      NaN                 Olanzapine   \n",
       "...                     ...                        ...   \n",
       "93233                   NaN  minocycline hydrochloride   \n",
       "93234                   NaN  minocycline hydrochloride   \n",
       "93235                   NaN  minocycline hydrochloride   \n",
       "93236                   NaN               fluocinonide   \n",
       "93237                   NaN               LULICONAZOLE   \n",
       "\n",
       "                              DOSAGEFORMNAME ROUTENAME  STARTMARKETINGDATE  \\\n",
       "20                                   CAPSULE      ORAL            20050214   \n",
       "21                  CAPSULE, DELAYED RELEASE      ORAL            20100115   \n",
       "22                                    TABLET      ORAL            19970623   \n",
       "23                                    TABLET      ORAL            19961001   \n",
       "24                                    TABLET      ORAL            19961001   \n",
       "...                                      ...       ...                 ...   \n",
       "93233  TABLET, FILM COATED, EXTENDED RELEASE      ORAL            20100927   \n",
       "93234  TABLET, FILM COATED, EXTENDED RELEASE      ORAL            20100927   \n",
       "93235  TABLET, FILM COATED, EXTENDED RELEASE      ORAL            20100927   \n",
       "93236                                  CREAM   TOPICAL            20060313   \n",
       "93237                                  CREAM   TOPICAL            20131114   \n",
       "\n",
       "      ENDMARKETINGDATE MARKETINGCATEGORYNAME APPLICATIONNUMBER  \\\n",
       "20                 NaN                   NDA         NDA021411   \n",
       "21                 NaN                   NDA         NDA021427   \n",
       "22                 NaN                   NDA         NDA020592   \n",
       "23                 NaN                   NDA         NDA020592   \n",
       "24                 NaN                   NDA         NDA020592   \n",
       "...                ...                   ...               ...   \n",
       "93233              NaN                   NDA         NDA050808   \n",
       "93234              NaN                   NDA         NDA050808   \n",
       "93235              NaN                   NDA         NDA050808   \n",
       "93236              NaN                   NDA         NDA021758   \n",
       "93237              NaN                   NDA         NDA204153   \n",
       "\n",
       "                                     LABELERNAME              SUBSTANCENAME  \\\n",
       "20                                            10  ATOMOXETINE HYDROCHLORIDE   \n",
       "21                                            10   DULOXETINE HYDROCHLORIDE   \n",
       "22                                            10                 OLANZAPINE   \n",
       "23                                            10                 OLANZAPINE   \n",
       "24                                            10                 OLANZAPINE   \n",
       "...                                          ...                        ...   \n",
       "93233  Valeant Pharmaceuticals North America LLC  MINOCYCLINE HYDROCHLORIDE   \n",
       "93234  Valeant Pharmaceuticals North America LLC  MINOCYCLINE HYDROCHLORIDE   \n",
       "93235  Valeant Pharmaceuticals North America LLC  MINOCYCLINE HYDROCHLORIDE   \n",
       "93236  Valeant Pharmaceuticals North America LLC               FLUOCINONIDE   \n",
       "93237                      Bausch Health US, LLC               LULICONAZOLE   \n",
       "\n",
       "      ACTIVE_NUMERATOR_STRENGTH ACTIVE_INGRED_UNIT  \\\n",
       "20                          100               mg/1   \n",
       "21                           60               mg/1   \n",
       "22                          2.5               mg/1   \n",
       "23                            5               mg/1   \n",
       "24                          7.5               mg/1   \n",
       "...                         ...                ...   \n",
       "93233                        55               mg/1   \n",
       "93234                        80               mg/1   \n",
       "93235                       105               mg/1   \n",
       "93236                         1               mg/g   \n",
       "93237                        10               mg/g   \n",
       "\n",
       "                                           PHARM_CLASSES DEASCHEDULE  \\\n",
       "20     Norepinephrine Reuptake Inhibitor [EPC],Norepi...         NaN   \n",
       "21     Norepinephrine Uptake Inhibitors [MoA],Seroton...         NaN   \n",
       "22                          Atypical Antipsychotic [EPC]         NaN   \n",
       "23                          Atypical Antipsychotic [EPC]         NaN   \n",
       "24                          Atypical Antipsychotic [EPC]         NaN   \n",
       "...                                                  ...         ...   \n",
       "93233   Tetracycline-class Drug [EPC],Tetracyclines [CS]         NaN   \n",
       "93234   Tetracycline-class Drug [EPC],Tetracyclines [CS]         NaN   \n",
       "93235   Tetracycline-class Drug [EPC],Tetracyclines [CS]         NaN   \n",
       "93236  Corticosteroid [EPC],Corticosteroid Hormone Re...         NaN   \n",
       "93237  Azole Antifungal [EPC],Azoles [CS],Cytochrome ...         NaN   \n",
       "\n",
       "      NDC_EXCLUDE_FLAG  LISTING_RECORD_CERTIFIED_THROUGH  \n",
       "20                   N                        20211231.0  \n",
       "21                   N                        20201231.0  \n",
       "22                   N                        20201231.0  \n",
       "23                   N                        20201231.0  \n",
       "24                   N                        20201231.0  \n",
       "...                ...                               ...  \n",
       "93233                N                        20201231.0  \n",
       "93234                N                        20201231.0  \n",
       "93235                N                        20201231.0  \n",
       "93236                N                        20201231.0  \n",
       "93237                N                        20201231.0  \n",
       "\n",
       "[91164 rows x 19 columns]"
      ]
     },
     "execution_count": 44,
     "metadata": {},
     "output_type": "execute_result"
    }
   ],
   "source": [
    "productSansProductId = product.copy()\n",
    "productSansProductId.drop(columns=['PRODUCTID'])"
   ]
  },
  {
   "cell_type": "code",
   "execution_count": 45,
   "metadata": {},
   "outputs": [
    {
     "name": "stdout",
     "output_type": "stream",
     "text": [
      "0\n"
     ]
    }
   ],
   "source": [
    "print(productSansProductId.duplicated().sum())"
   ]
  },
  {
   "cell_type": "code",
   "execution_count": 46,
   "metadata": {
    "scrolled": true
   },
   "outputs": [
    {
     "name": "stdout",
     "output_type": "stream",
     "text": [
      "(167266, 27)\n"
     ]
    }
   ],
   "source": [
    "tableMerged = pd.merge(package, product, left_on = \"PRODUCTID\", right_on=\"PRODUCTID\", suffixes=('_PKG', '_PRD'))\n",
    "print(tableMerged.shape)"
   ]
  },
  {
   "cell_type": "code",
   "execution_count": 47,
   "metadata": {
    "scrolled": true
   },
   "outputs": [
    {
     "data": {
      "text/html": [
       "<div>\n",
       "<style scoped>\n",
       "    .dataframe tbody tr th:only-of-type {\n",
       "        vertical-align: middle;\n",
       "    }\n",
       "\n",
       "    .dataframe tbody tr th {\n",
       "        vertical-align: top;\n",
       "    }\n",
       "\n",
       "    .dataframe thead th {\n",
       "        text-align: right;\n",
       "    }\n",
       "</style>\n",
       "<table border=\"1\" class=\"dataframe\">\n",
       "  <thead>\n",
       "    <tr style=\"text-align: right;\">\n",
       "      <th></th>\n",
       "      <th>PRODUCTID</th>\n",
       "      <th>PRODUCTNDC_PKG</th>\n",
       "      <th>NDCPACKAGECODE</th>\n",
       "      <th>PACKAGEDESCRIPTION</th>\n",
       "      <th>STARTMARKETINGDATE_PKG</th>\n",
       "      <th>ENDMARKETINGDATE_PKG</th>\n",
       "      <th>NDC_EXCLUDE_FLAG_PKG</th>\n",
       "      <th>SAMPLE_PACKAGE</th>\n",
       "      <th>PRODUCTNDC_PRD</th>\n",
       "      <th>PRODUCTTYPENAME</th>\n",
       "      <th>...</th>\n",
       "      <th>MARKETINGCATEGORYNAME</th>\n",
       "      <th>APPLICATIONNUMBER</th>\n",
       "      <th>LABELERNAME</th>\n",
       "      <th>SUBSTANCENAME</th>\n",
       "      <th>ACTIVE_NUMERATOR_STRENGTH</th>\n",
       "      <th>ACTIVE_INGRED_UNIT</th>\n",
       "      <th>PHARM_CLASSES</th>\n",
       "      <th>DEASCHEDULE</th>\n",
       "      <th>NDC_EXCLUDE_FLAG_PRD</th>\n",
       "      <th>LISTING_RECORD_CERTIFIED_THROUGH</th>\n",
       "    </tr>\n",
       "  </thead>\n",
       "  <tbody>\n",
       "    <tr>\n",
       "      <th>0</th>\n",
       "      <td>0002-3251_67a53369-eead-4f2c-afe9-f3274899c47e</td>\n",
       "      <td>0002-3251</td>\n",
       "      <td>0002-3251-30</td>\n",
       "      <td>30 CAPSULE in 1 BOTTLE (0002-3251-30)</td>\n",
       "      <td>20050824</td>\n",
       "      <td>NaN</td>\n",
       "      <td>N</td>\n",
       "      <td>N</td>\n",
       "      <td>0002-3251</td>\n",
       "      <td>HUMAN PRESCRIPTION DRUG</td>\n",
       "      <td>...</td>\n",
       "      <td>NDA</td>\n",
       "      <td>NDA021411</td>\n",
       "      <td>10</td>\n",
       "      <td>ATOMOXETINE HYDROCHLORIDE</td>\n",
       "      <td>100</td>\n",
       "      <td>mg/1</td>\n",
       "      <td>Norepinephrine Reuptake Inhibitor [EPC],Norepi...</td>\n",
       "      <td>NaN</td>\n",
       "      <td>N</td>\n",
       "      <td>20211231.0</td>\n",
       "    </tr>\n",
       "    <tr>\n",
       "      <th>1</th>\n",
       "      <td>0002-3270_06e2a1f2-459c-45aa-9341-54e36f7726a7</td>\n",
       "      <td>0002-3270</td>\n",
       "      <td>0002-3270-04</td>\n",
       "      <td>1000 CAPSULE, DELAYED RELEASE in 1 BOTTLE (000...</td>\n",
       "      <td>20100115</td>\n",
       "      <td>NaN</td>\n",
       "      <td>N</td>\n",
       "      <td>N</td>\n",
       "      <td>0002-3270</td>\n",
       "      <td>HUMAN PRESCRIPTION DRUG</td>\n",
       "      <td>...</td>\n",
       "      <td>NDA</td>\n",
       "      <td>NDA021427</td>\n",
       "      <td>10</td>\n",
       "      <td>DULOXETINE HYDROCHLORIDE</td>\n",
       "      <td>60</td>\n",
       "      <td>mg/1</td>\n",
       "      <td>Norepinephrine Uptake Inhibitors [MoA],Seroton...</td>\n",
       "      <td>NaN</td>\n",
       "      <td>N</td>\n",
       "      <td>20201231.0</td>\n",
       "    </tr>\n",
       "    <tr>\n",
       "      <th>2</th>\n",
       "      <td>0002-3270_06e2a1f2-459c-45aa-9341-54e36f7726a7</td>\n",
       "      <td>0002-3270</td>\n",
       "      <td>0002-3270-30</td>\n",
       "      <td>30 CAPSULE, DELAYED RELEASE in 1 BOTTLE (0002-...</td>\n",
       "      <td>20100115</td>\n",
       "      <td>NaN</td>\n",
       "      <td>N</td>\n",
       "      <td>N</td>\n",
       "      <td>0002-3270</td>\n",
       "      <td>HUMAN PRESCRIPTION DRUG</td>\n",
       "      <td>...</td>\n",
       "      <td>NDA</td>\n",
       "      <td>NDA021427</td>\n",
       "      <td>10</td>\n",
       "      <td>DULOXETINE HYDROCHLORIDE</td>\n",
       "      <td>60</td>\n",
       "      <td>mg/1</td>\n",
       "      <td>Norepinephrine Uptake Inhibitors [MoA],Seroton...</td>\n",
       "      <td>NaN</td>\n",
       "      <td>N</td>\n",
       "      <td>20201231.0</td>\n",
       "    </tr>\n",
       "    <tr>\n",
       "      <th>3</th>\n",
       "      <td>0002-4112_d561034d-ea58-45fe-9d07-2e9eba98c2e4</td>\n",
       "      <td>0002-4112</td>\n",
       "      <td>0002-4112-30</td>\n",
       "      <td>30 TABLET in 1 BOTTLE (0002-4112-30)</td>\n",
       "      <td>19970623</td>\n",
       "      <td>NaN</td>\n",
       "      <td>N</td>\n",
       "      <td>N</td>\n",
       "      <td>0002-4112</td>\n",
       "      <td>HUMAN PRESCRIPTION DRUG</td>\n",
       "      <td>...</td>\n",
       "      <td>NDA</td>\n",
       "      <td>NDA020592</td>\n",
       "      <td>10</td>\n",
       "      <td>OLANZAPINE</td>\n",
       "      <td>2.5</td>\n",
       "      <td>mg/1</td>\n",
       "      <td>Atypical Antipsychotic [EPC]</td>\n",
       "      <td>NaN</td>\n",
       "      <td>N</td>\n",
       "      <td>20201231.0</td>\n",
       "    </tr>\n",
       "    <tr>\n",
       "      <th>4</th>\n",
       "      <td>0002-4115_d561034d-ea58-45fe-9d07-2e9eba98c2e4</td>\n",
       "      <td>0002-4115</td>\n",
       "      <td>0002-4115-30</td>\n",
       "      <td>30 TABLET in 1 BOTTLE (0002-4115-30)</td>\n",
       "      <td>19961001</td>\n",
       "      <td>NaN</td>\n",
       "      <td>N</td>\n",
       "      <td>N</td>\n",
       "      <td>0002-4115</td>\n",
       "      <td>HUMAN PRESCRIPTION DRUG</td>\n",
       "      <td>...</td>\n",
       "      <td>NDA</td>\n",
       "      <td>NDA020592</td>\n",
       "      <td>10</td>\n",
       "      <td>OLANZAPINE</td>\n",
       "      <td>5</td>\n",
       "      <td>mg/1</td>\n",
       "      <td>Atypical Antipsychotic [EPC]</td>\n",
       "      <td>NaN</td>\n",
       "      <td>N</td>\n",
       "      <td>20201231.0</td>\n",
       "    </tr>\n",
       "  </tbody>\n",
       "</table>\n",
       "<p>5 rows × 27 columns</p>\n",
       "</div>"
      ],
      "text/plain": [
       "                                        PRODUCTID PRODUCTNDC_PKG  \\\n",
       "0  0002-3251_67a53369-eead-4f2c-afe9-f3274899c47e      0002-3251   \n",
       "1  0002-3270_06e2a1f2-459c-45aa-9341-54e36f7726a7      0002-3270   \n",
       "2  0002-3270_06e2a1f2-459c-45aa-9341-54e36f7726a7      0002-3270   \n",
       "3  0002-4112_d561034d-ea58-45fe-9d07-2e9eba98c2e4      0002-4112   \n",
       "4  0002-4115_d561034d-ea58-45fe-9d07-2e9eba98c2e4      0002-4115   \n",
       "\n",
       "  NDCPACKAGECODE                                 PACKAGEDESCRIPTION  \\\n",
       "0   0002-3251-30             30 CAPSULE in 1 BOTTLE (0002-3251-30)    \n",
       "1   0002-3270-04  1000 CAPSULE, DELAYED RELEASE in 1 BOTTLE (000...   \n",
       "2   0002-3270-30  30 CAPSULE, DELAYED RELEASE in 1 BOTTLE (0002-...   \n",
       "3   0002-4112-30              30 TABLET in 1 BOTTLE (0002-4112-30)    \n",
       "4   0002-4115-30              30 TABLET in 1 BOTTLE (0002-4115-30)    \n",
       "\n",
       "  STARTMARKETINGDATE_PKG  ENDMARKETINGDATE_PKG NDC_EXCLUDE_FLAG_PKG  \\\n",
       "0               20050824                   NaN                    N   \n",
       "1               20100115                   NaN                    N   \n",
       "2               20100115                   NaN                    N   \n",
       "3               19970623                   NaN                    N   \n",
       "4               19961001                   NaN                    N   \n",
       "\n",
       "  SAMPLE_PACKAGE PRODUCTNDC_PRD          PRODUCTTYPENAME  ...  \\\n",
       "0              N      0002-3251  HUMAN PRESCRIPTION DRUG  ...   \n",
       "1              N      0002-3270  HUMAN PRESCRIPTION DRUG  ...   \n",
       "2              N      0002-3270  HUMAN PRESCRIPTION DRUG  ...   \n",
       "3              N      0002-4112  HUMAN PRESCRIPTION DRUG  ...   \n",
       "4              N      0002-4115  HUMAN PRESCRIPTION DRUG  ...   \n",
       "\n",
       "  MARKETINGCATEGORYNAME APPLICATIONNUMBER LABELERNAME  \\\n",
       "0                   NDA         NDA021411          10   \n",
       "1                   NDA         NDA021427          10   \n",
       "2                   NDA         NDA021427          10   \n",
       "3                   NDA         NDA020592          10   \n",
       "4                   NDA         NDA020592          10   \n",
       "\n",
       "               SUBSTANCENAME ACTIVE_NUMERATOR_STRENGTH  ACTIVE_INGRED_UNIT  \\\n",
       "0  ATOMOXETINE HYDROCHLORIDE                       100                mg/1   \n",
       "1   DULOXETINE HYDROCHLORIDE                        60                mg/1   \n",
       "2   DULOXETINE HYDROCHLORIDE                        60                mg/1   \n",
       "3                 OLANZAPINE                       2.5                mg/1   \n",
       "4                 OLANZAPINE                         5                mg/1   \n",
       "\n",
       "                                       PHARM_CLASSES DEASCHEDULE  \\\n",
       "0  Norepinephrine Reuptake Inhibitor [EPC],Norepi...         NaN   \n",
       "1  Norepinephrine Uptake Inhibitors [MoA],Seroton...         NaN   \n",
       "2  Norepinephrine Uptake Inhibitors [MoA],Seroton...         NaN   \n",
       "3                       Atypical Antipsychotic [EPC]         NaN   \n",
       "4                       Atypical Antipsychotic [EPC]         NaN   \n",
       "\n",
       "  NDC_EXCLUDE_FLAG_PRD LISTING_RECORD_CERTIFIED_THROUGH  \n",
       "0                    N                       20211231.0  \n",
       "1                    N                       20201231.0  \n",
       "2                    N                       20201231.0  \n",
       "3                    N                       20201231.0  \n",
       "4                    N                       20201231.0  \n",
       "\n",
       "[5 rows x 27 columns]"
      ]
     },
     "execution_count": 47,
     "metadata": {},
     "output_type": "execute_result"
    }
   ],
   "source": [
    "tableMerged.head()"
   ]
  },
  {
   "cell_type": "code",
   "execution_count": 48,
   "metadata": {},
   "outputs": [
    {
     "name": "stdout",
     "output_type": "stream",
     "text": [
      "0\n"
     ]
    }
   ],
   "source": [
    "print(tableMerged.duplicated().sum())"
   ]
  },
  {
   "cell_type": "code",
   "execution_count": 49,
   "metadata": {},
   "outputs": [
    {
     "name": "stdout",
     "output_type": "stream",
     "text": [
      "Le nombre de NDC_EXCLUDE_FLAG_PRD différent de NDC_EXCLUDE_FLAG_PKG :  0\n"
     ]
    }
   ],
   "source": [
    "#Verifier que ndcExcludeFlagPrd = ndcExcludeFlagPkg\n",
    "excludeFlagDifferent = tableMerged[tableMerged['NDC_EXCLUDE_FLAG_PRD'] != tableMerged['NDC_EXCLUDE_FLAG_PKG']]\n",
    "print(\"Le nombre de NDC_EXCLUDE_FLAG_PRD différent de NDC_EXCLUDE_FLAG_PKG : \",len(excludeFlagDifferent))"
   ]
  },
  {
   "cell_type": "code",
   "execution_count": 50,
   "metadata": {},
   "outputs": [
    {
     "name": "stdout",
     "output_type": "stream",
     "text": [
      "Nombre de productId null :  0\n"
     ]
    }
   ],
   "source": [
    "productIdNullInMerged = tableMerged[tableMerged['PRODUCTID'].isnull()]\n",
    "print(\"Nombre de productId null : \", len(productIdNullInMerged))"
   ]
  },
  {
   "cell_type": "markdown",
   "metadata": {},
   "source": [
    "Il est normal que nous ayons aucun **PRODUCTID** à null après avoir fait une fusion entre les deux tables, puisque nous avons choisi l'attribut **PRODUCTID** pour faire notre inner join."
   ]
  },
  {
   "cell_type": "code",
   "execution_count": 51,
   "metadata": {
    "scrolled": true
   },
   "outputs": [
    {
     "name": "stdout",
     "output_type": "stream",
     "text": [
      "Nombres de PRODUCTNDC_PRD différent de PRODUCTNDC_PKG :  0\n"
     ]
    }
   ],
   "source": [
    "productNDCDifferent = tableMerged[tableMerged['PRODUCTNDC_PRD'] != tableMerged['PRODUCTNDC_PKG']]\n",
    "\n",
    "print(\"Nombres de PRODUCTNDC_PRD différent de PRODUCTNDC_PKG : \", len(productNDCDifferent))"
   ]
  },
  {
   "cell_type": "markdown",
   "metadata": {},
   "source": [
    "Nous venons d'assurer que les attributs PRODUCTNDC_PRD et PRODUCTNDC_PKG sont identiques pour un même PRODUCTID. De même pour l'attribut NDC_EXCLUDE_FLAG. Nous allons donc maintenant drop une colonne de chaque pour retirer les colonnes dupliquées."
   ]
  },
  {
   "cell_type": "code",
   "execution_count": 52,
   "metadata": {},
   "outputs": [
    {
     "name": "stdout",
     "output_type": "stream",
     "text": [
      "(167266, 25)\n"
     ]
    }
   ],
   "source": [
    "tableMerged = tableMerged.drop(columns=['NDC_EXCLUDE_FLAG_PRD','PRODUCTNDC_PRD'])\n",
    "print(tableMerged.shape)"
   ]
  },
  {
   "cell_type": "code",
   "execution_count": 53,
   "metadata": {
    "scrolled": true
   },
   "outputs": [
    {
     "name": "stdout",
     "output_type": "stream",
     "text": [
      "Valeurs manquante par colonne dans tableMerged:\n",
      "\n",
      "PRODUCTID    0.0\n",
      "dtype: float64\n",
      "PRODUCTNDC_PKG    0.0\n",
      "dtype: float64\n",
      "NDCPACKAGECODE    0.0\n",
      "dtype: float64\n",
      "PACKAGEDESCRIPTION    0.0\n",
      "dtype: float64\n",
      "STARTMARKETINGDATE_PKG    0.0\n",
      "dtype: float64\n",
      "ENDMARKETINGDATE_PKG    0.96\n",
      "dtype: float64\n",
      "NDC_EXCLUDE_FLAG_PKG    0.0\n",
      "dtype: float64\n",
      "SAMPLE_PACKAGE    0.0\n",
      "dtype: float64\n",
      "PRODUCTTYPENAME    0.0\n",
      "dtype: float64\n",
      "PROPRIETARYNAME    0.0\n",
      "dtype: float64\n",
      "PROPRIETARYNAMESUFFIX    0.91\n",
      "dtype: float64\n",
      "NONPROPRIETARYNAME    0.0\n",
      "dtype: float64\n",
      "DOSAGEFORMNAME    0.0\n",
      "dtype: float64\n",
      "ROUTENAME    0.01\n",
      "dtype: float64\n",
      "STARTMARKETINGDATE_PRD    0.0\n",
      "dtype: float64\n",
      "ENDMARKETINGDATE_PRD    0.96\n",
      "dtype: float64\n",
      "MARKETINGCATEGORYNAME    0.0\n",
      "dtype: float64\n",
      "APPLICATIONNUMBER    0.13\n",
      "dtype: float64\n",
      "LABELERNAME    0.0\n",
      "dtype: float64\n",
      "SUBSTANCENAME    0.01\n",
      "dtype: float64\n",
      "ACTIVE_NUMERATOR_STRENGTH    0.01\n",
      "dtype: float64\n",
      "ACTIVE_INGRED_UNIT    0.01\n",
      "dtype: float64\n",
      "PHARM_CLASSES    0.49\n",
      "dtype: float64\n",
      "DEASCHEDULE    0.94\n",
      "dtype: float64\n",
      "LISTING_RECORD_CERTIFIED_THROUGH    0.04\n",
      "dtype: float64\n"
     ]
    }
   ],
   "source": [
    "print(\"Valeurs manquante par colonne dans tableMerged:\\n\")\n",
    "for col in tableMerged.columns:\n",
    "    nb = tableMerged[[col]].isna().sum()\n",
    "    print(round(nb/len(tableMerged),2))"
   ]
  },
  {
   "cell_type": "markdown",
   "metadata": {},
   "source": [
    "Ci-dessus se trouve les ratios en % des valeurs manquantes de chaque attribut. Nous allons retirer les attributs dont le ratio est supérieur à 90% de valeurs manquantes."
   ]
  },
  {
   "cell_type": "code",
   "execution_count": 54,
   "metadata": {
    "scrolled": true
   },
   "outputs": [],
   "source": [
    "tableMerged = tableMerged.drop(columns=['ENDMARKETINGDATE_PKG','PROPRIETARYNAMESUFFIX','ENDMARKETINGDATE_PRD','DEASCHEDULE'])"
   ]
  },
  {
   "cell_type": "code",
   "execution_count": 55,
   "metadata": {
    "scrolled": true
   },
   "outputs": [
    {
     "name": "stdout",
     "output_type": "stream",
     "text": [
      "Valeurs manquante par colonne dans tableMerged:\n",
      "\n",
      "PRODUCTID    0.0\n",
      "dtype: float64\n",
      "PRODUCTNDC_PKG    0.0\n",
      "dtype: float64\n",
      "NDCPACKAGECODE    0.0\n",
      "dtype: float64\n",
      "PACKAGEDESCRIPTION    0.0\n",
      "dtype: float64\n",
      "STARTMARKETINGDATE_PKG    0.0\n",
      "dtype: float64\n",
      "NDC_EXCLUDE_FLAG_PKG    0.0\n",
      "dtype: float64\n",
      "SAMPLE_PACKAGE    0.0\n",
      "dtype: float64\n",
      "PRODUCTTYPENAME    0.0\n",
      "dtype: float64\n",
      "PROPRIETARYNAME    0.0\n",
      "dtype: float64\n",
      "NONPROPRIETARYNAME    0.0\n",
      "dtype: float64\n",
      "DOSAGEFORMNAME    0.0\n",
      "dtype: float64\n",
      "ROUTENAME    0.0\n",
      "dtype: float64\n",
      "STARTMARKETINGDATE_PRD    0.0\n",
      "dtype: float64\n",
      "MARKETINGCATEGORYNAME    0.0\n",
      "dtype: float64\n",
      "APPLICATIONNUMBER    0.0\n",
      "dtype: float64\n",
      "LABELERNAME    0.0\n",
      "dtype: float64\n",
      "SUBSTANCENAME    0.0\n",
      "dtype: float64\n",
      "ACTIVE_NUMERATOR_STRENGTH    0.0\n",
      "dtype: float64\n",
      "ACTIVE_INGRED_UNIT    0.0\n",
      "dtype: float64\n",
      "PHARM_CLASSES    0.407993\n",
      "dtype: float64\n",
      "LISTING_RECORD_CERTIFIED_THROUGH    0.0\n",
      "dtype: float64\n",
      "Nombre de lignes restantes :  136941\n"
     ]
    }
   ],
   "source": [
    "tableMerged = tableMerged.dropna(subset=['ROUTENAME', 'APPLICATIONNUMBER','SUBSTANCENAME','ACTIVE_INGRED_UNIT','LISTING_RECORD_CERTIFIED_THROUGH', 'NDCPACKAGECODE', 'PROPRIETARYNAME','NONPROPRIETARYNAME'])\n",
    "\n",
    "print(\"Valeurs manquante par colonne dans tableMerged:\\n\")\n",
    "for col in tableMerged.columns:\n",
    "    nb = tableMerged[[col]].isna().sum()\n",
    "    print(round(nb/len(tableMerged),6))\n",
    "print(\"Nombre de lignes restantes : \",len(tableMerged))"
   ]
  },
  {
   "cell_type": "markdown",
   "metadata": {},
   "source": [
    "Notre table fusionnée ne contient aucun attribut nul, et incohérent. A l'exception de l'attribut PHARM_CLASSES qui possède toujours des valeurs nulles."
   ]
  },
  {
   "cell_type": "markdown",
   "metadata": {},
   "source": [
    "# Question 7"
   ]
  },
  {
   "cell_type": "markdown",
   "metadata": {},
   "source": [
    "Nous commençons par éliminer les attributs qui n'ajoutent pas d'informations (redondance d'informations).\n",
    "\n",
    "Nous allons retirer l'attribut **LABELERNAME** qui correspond au labeler code de **PRODUCTNDC**  "
   ]
  },
  {
   "cell_type": "code",
   "execution_count": 56,
   "metadata": {},
   "outputs": [],
   "source": [
    "tableMerged = tableMerged.drop(columns=['LABELERNAME'])"
   ]
  },
  {
   "cell_type": "code",
   "execution_count": 57,
   "metadata": {
    "scrolled": false
   },
   "outputs": [
    {
     "name": "stdout",
     "output_type": "stream",
     "text": [
      "['MoA', 'CS', 'EXT', 'EPC', 'PE', 'Chemical/Ingredient']\n"
     ]
    }
   ],
   "source": [
    "pharmClassesNotNull = tableMerged[~tableMerged['PHARM_CLASSES'].isnull()]\n",
    "\n",
    "arrayDifferentsFieldsPharmClasses = []\n",
    "\n",
    "for index, row in pharmClassesNotNull.iterrows():\n",
    "    stringPharmClasse = row['PHARM_CLASSES']\n",
    "    a = stringPharmClasse.split('[')\n",
    "    for i in range (1,len(a)):\n",
    "        arrayDifferentsFieldsPharmClasses.append(a[i].split(']')[0])\n",
    "    \n",
    "attributesPharmClasses = list(set(arrayDifferentsFieldsPharmClasses))\n",
    "print(attributesPharmClasses)"
   ]
  },
  {
   "cell_type": "markdown",
   "metadata": {},
   "source": [
    "Nous observons qu'il y a 6 champs différents au sein de **PHARM_CLASSES**, nous allons donc créer 6 nouveaux attributs pour remplacer l'ancien attribut."
   ]
  },
  {
   "cell_type": "code",
   "execution_count": 58,
   "metadata": {
    "scrolled": true
   },
   "outputs": [],
   "source": [
    "newAttributes= [[[] for ligne in range(6)] for col in range(len(tableMerged))]\n",
    "indexCol = ['EPC', 'EXT', 'MoA', 'CS', 'PE', 'Chemical/Ingredient']"
   ]
  },
  {
   "cell_type": "code",
   "execution_count": 60,
   "metadata": {
    "scrolled": true
   },
   "outputs": [],
   "source": [
    "count = 0\n",
    "for index, row in tableMerged.iterrows():\n",
    "    str = row['PHARM_CLASSES']\n",
    "    if not pd.isnull(str):\n",
    "        a = str.split(']')\n",
    "        \n",
    "        for i in range (0,len(a)):\n",
    "            substance = a[i].split('[')[0]\n",
    "            if i != len(a)-1:\n",
    "                classe = a[i].split('[')[1]\n",
    "            \n",
    "            newAttributes[count][indexCol.index(classe)].append(substance.replace(',',''))\n",
    "        for j in range (0,len(indexCol)):\n",
    "            newAttributes[count][j].sort()\n",
    "            newAttributes[count][j] = ''.join(newAttributes[count][j]) \n",
    "        count+=1\n",
    "    else :\n",
    "        for j in range (0,len(indexCol)):\n",
    "            newAttributes[count][j] = ''\n",
    "        count+=1"
   ]
  },
  {
   "cell_type": "markdown",
   "metadata": {},
   "source": [
    "Dans l'attribut PHARM_CLASS, nous avons remarqué que certaines sous-catégories pouvaient apparaîtres plusieurs fois. Nous avons donc fait la méthode précédente afin de placer les bon dans la bonne catégorie. Nous les plaçons aussi en ordre alphabétique afin de nous assurer que tous ceux qui partage les mêmes sous-attributs aient la même valeur lors de l'encodage fait plus bas. Nous avons aussi mis des string à toutes les valeurs null afin de faciliter l'encodage."
   ]
  },
  {
   "cell_type": "code",
   "execution_count": 61,
   "metadata": {
    "scrolled": true
   },
   "outputs": [],
   "source": [
    "tableMerged[['PHARM_CLASSE_EPC', 'PHARM_CLASSE_EXT','PHARM_CLASSE_MoA','PHARM_CLASSE_CS','PHARM_CLASSE_PE','PHARM_CLASSE_Chemical/Ingredient']] = newAttributes "
   ]
  },
  {
   "cell_type": "markdown",
   "metadata": {},
   "source": [
    "Maintenant que nous venons d'obtenir une nouvelle représentation de **PHARM_CLASSES** nous pouvons retirer cet attribut"
   ]
  },
  {
   "cell_type": "code",
   "execution_count": 62,
   "metadata": {},
   "outputs": [],
   "source": [
    "tableMerged = tableMerged.drop(columns=['PHARM_CLASSES'])"
   ]
  },
  {
   "cell_type": "markdown",
   "metadata": {},
   "source": [
    "# Question 8"
   ]
  },
  {
   "cell_type": "code",
   "execution_count": 63,
   "metadata": {},
   "outputs": [
    {
     "name": "stdout",
     "output_type": "stream",
     "text": [
      "<class 'pandas.core.frame.DataFrame'>\n",
      "Int64Index: 136941 entries, 0 to 167265\n",
      "Data columns (total 25 columns):\n",
      " #   Column                            Non-Null Count   Dtype  \n",
      "---  ------                            --------------   -----  \n",
      " 0   PRODUCTID                         136941 non-null  object \n",
      " 1   PRODUCTNDC_PKG                    136941 non-null  object \n",
      " 2   NDCPACKAGECODE                    136941 non-null  object \n",
      " 3   PACKAGEDESCRIPTION                136941 non-null  object \n",
      " 4   STARTMARKETINGDATE_PKG            136941 non-null  object \n",
      " 5   NDC_EXCLUDE_FLAG_PKG              136941 non-null  object \n",
      " 6   SAMPLE_PACKAGE                    136941 non-null  object \n",
      " 7   PRODUCTTYPENAME                   136941 non-null  object \n",
      " 8   PROPRIETARYNAME                   136941 non-null  object \n",
      " 9   NONPROPRIETARYNAME                136941 non-null  object \n",
      " 10  DOSAGEFORMNAME                    136941 non-null  object \n",
      " 11  ROUTENAME                         136941 non-null  object \n",
      " 12  STARTMARKETINGDATE_PRD            136941 non-null  int64  \n",
      " 13  MARKETINGCATEGORYNAME             136941 non-null  object \n",
      " 14  APPLICATIONNUMBER                 136941 non-null  object \n",
      " 15  SUBSTANCENAME                     136941 non-null  object \n",
      " 16  ACTIVE_NUMERATOR_STRENGTH         136941 non-null  object \n",
      " 17  ACTIVE_INGRED_UNIT                136941 non-null  object \n",
      " 18  LISTING_RECORD_CERTIFIED_THROUGH  136941 non-null  float64\n",
      " 19  PHARM_CLASSE_EPC                  136941 non-null  object \n",
      " 20  PHARM_CLASSE_EXT                  136941 non-null  object \n",
      " 21  PHARM_CLASSE_MoA                  136941 non-null  object \n",
      " 22  PHARM_CLASSE_CS                   136941 non-null  object \n",
      " 23  PHARM_CLASSE_PE                   136941 non-null  object \n",
      " 24  PHARM_CLASSE_Chemical/Ingredient  136941 non-null  object \n",
      "dtypes: float64(1), int64(1), object(23)\n",
      "memory usage: 27.2+ MB\n"
     ]
    }
   ],
   "source": [
    "tableMerged.info()"
   ]
  },
  {
   "cell_type": "markdown",
   "metadata": {},
   "source": [
    "Nous avons décidé de retirer certains attributs et donc de réduire la dimensionnalité de notre modèle. Nous avons jugé que plusieurs attributs ne permettraient probablement pas d'améliorer la precision de notre modèle. Il est plutôt probable que ces attributs introduisent du bruit et donc réduisent la qualité des prédictions. Les attributs que nous avons éliminés servaient plutôt soit décrire à titre d'identification ou d'informations impertinentes à l'objectif de prédire la classe pharmaceutique."
   ]
  },
  {
   "cell_type": "code",
   "execution_count": 64,
   "metadata": {},
   "outputs": [],
   "source": [
    "copyTableMerged = tableMerged.copy()"
   ]
  },
  {
   "cell_type": "code",
   "execution_count": 65,
   "metadata": {},
   "outputs": [],
   "source": [
    "copyTableMerged = copyTableMerged.drop(columns=['PRODUCTTYPENAME','DOSAGEFORMNAME','PACKAGEDESCRIPTION','PROPRIETARYNAME','APPLICATIONNUMBER','ACTIVE_INGRED_UNIT','SAMPLE_PACKAGE','NDC_EXCLUDE_FLAG_PKG','PRODUCTID' ,'LISTING_RECORD_CERTIFIED_THROUGH', 'STARTMARKETINGDATE_PRD', 'STARTMARKETINGDATE_PKG',\"MARKETINGCATEGORYNAME\"])"
   ]
  },
  {
   "cell_type": "code",
   "execution_count": 66,
   "metadata": {},
   "outputs": [
    {
     "name": "stdout",
     "output_type": "stream",
     "text": [
      "<class 'pandas.core.frame.DataFrame'>\n",
      "Int64Index: 136941 entries, 0 to 167265\n",
      "Data columns (total 12 columns):\n",
      " #   Column                            Non-Null Count   Dtype \n",
      "---  ------                            --------------   ----- \n",
      " 0   PRODUCTNDC_PKG                    136941 non-null  object\n",
      " 1   NDCPACKAGECODE                    136941 non-null  object\n",
      " 2   NONPROPRIETARYNAME                136941 non-null  object\n",
      " 3   ROUTENAME                         136941 non-null  object\n",
      " 4   SUBSTANCENAME                     136941 non-null  object\n",
      " 5   ACTIVE_NUMERATOR_STRENGTH         136941 non-null  object\n",
      " 6   PHARM_CLASSE_EPC                  136941 non-null  object\n",
      " 7   PHARM_CLASSE_EXT                  136941 non-null  object\n",
      " 8   PHARM_CLASSE_MoA                  136941 non-null  object\n",
      " 9   PHARM_CLASSE_CS                   136941 non-null  object\n",
      " 10  PHARM_CLASSE_PE                   136941 non-null  object\n",
      " 11  PHARM_CLASSE_Chemical/Ingredient  136941 non-null  object\n",
      "dtypes: object(12)\n",
      "memory usage: 13.6+ MB\n"
     ]
    }
   ],
   "source": [
    "copyTableMerged.info()"
   ]
  },
  {
   "cell_type": "markdown",
   "metadata": {},
   "source": [
    "# Question 9"
   ]
  },
  {
   "cell_type": "markdown",
   "metadata": {},
   "source": [
    "Nous allons encoder tous nos attributs avec OrdinalEncoder"
   ]
  },
  {
   "cell_type": "code",
   "execution_count": 67,
   "metadata": {
    "scrolled": true
   },
   "outputs": [
    {
     "data": {
      "text/html": [
       "<div>\n",
       "<style scoped>\n",
       "    .dataframe tbody tr th:only-of-type {\n",
       "        vertical-align: middle;\n",
       "    }\n",
       "\n",
       "    .dataframe tbody tr th {\n",
       "        vertical-align: top;\n",
       "    }\n",
       "\n",
       "    .dataframe thead th {\n",
       "        text-align: right;\n",
       "    }\n",
       "</style>\n",
       "<table border=\"1\" class=\"dataframe\">\n",
       "  <thead>\n",
       "    <tr style=\"text-align: right;\">\n",
       "      <th></th>\n",
       "      <th>PRODUCTNDC_PKG</th>\n",
       "      <th>NDCPACKAGECODE</th>\n",
       "      <th>NONPROPRIETARYNAME</th>\n",
       "      <th>ROUTENAME</th>\n",
       "      <th>SUBSTANCENAME</th>\n",
       "      <th>ACTIVE_NUMERATOR_STRENGTH</th>\n",
       "      <th>PHARM_CLASSE_EPC</th>\n",
       "      <th>PHARM_CLASSE_EXT</th>\n",
       "      <th>PHARM_CLASSE_MoA</th>\n",
       "      <th>PHARM_CLASSE_CS</th>\n",
       "      <th>PHARM_CLASSE_PE</th>\n",
       "      <th>PHARM_CLASSE_Chemical/Ingredient</th>\n",
       "    </tr>\n",
       "  </thead>\n",
       "  <tbody>\n",
       "    <tr>\n",
       "      <th>167261</th>\n",
       "      <td>99207-525</td>\n",
       "      <td>99207-525-10</td>\n",
       "      <td>fluocinonide</td>\n",
       "      <td>TOPICAL</td>\n",
       "      <td>FLUOCINONIDE</td>\n",
       "      <td>1</td>\n",
       "      <td>Corticosteroid</td>\n",
       "      <td></td>\n",
       "      <td>Corticosteroid Hormone Receptor Agonists</td>\n",
       "      <td></td>\n",
       "      <td></td>\n",
       "      <td></td>\n",
       "    </tr>\n",
       "    <tr>\n",
       "      <th>167262</th>\n",
       "      <td>99207-525</td>\n",
       "      <td>99207-525-30</td>\n",
       "      <td>fluocinonide</td>\n",
       "      <td>TOPICAL</td>\n",
       "      <td>FLUOCINONIDE</td>\n",
       "      <td>1</td>\n",
       "      <td>Corticosteroid</td>\n",
       "      <td></td>\n",
       "      <td>Corticosteroid Hormone Receptor Agonists</td>\n",
       "      <td></td>\n",
       "      <td></td>\n",
       "      <td></td>\n",
       "    </tr>\n",
       "    <tr>\n",
       "      <th>167263</th>\n",
       "      <td>99207-525</td>\n",
       "      <td>99207-525-60</td>\n",
       "      <td>fluocinonide</td>\n",
       "      <td>TOPICAL</td>\n",
       "      <td>FLUOCINONIDE</td>\n",
       "      <td>1</td>\n",
       "      <td>Corticosteroid</td>\n",
       "      <td></td>\n",
       "      <td>Corticosteroid Hormone Receptor Agonists</td>\n",
       "      <td></td>\n",
       "      <td></td>\n",
       "      <td></td>\n",
       "    </tr>\n",
       "    <tr>\n",
       "      <th>167264</th>\n",
       "      <td>99207-850</td>\n",
       "      <td>99207-850-02</td>\n",
       "      <td>LULICONAZOLE</td>\n",
       "      <td>TOPICAL</td>\n",
       "      <td>LULICONAZOLE</td>\n",
       "      <td>10</td>\n",
       "      <td>Azole Antifungal</td>\n",
       "      <td></td>\n",
       "      <td>Cytochrome P450 2C19 Inhibitors</td>\n",
       "      <td>Azoles</td>\n",
       "      <td></td>\n",
       "      <td></td>\n",
       "    </tr>\n",
       "    <tr>\n",
       "      <th>167265</th>\n",
       "      <td>99207-850</td>\n",
       "      <td>99207-850-60</td>\n",
       "      <td>LULICONAZOLE</td>\n",
       "      <td>TOPICAL</td>\n",
       "      <td>LULICONAZOLE</td>\n",
       "      <td>10</td>\n",
       "      <td>Azole Antifungal</td>\n",
       "      <td></td>\n",
       "      <td>Cytochrome P450 2C19 Inhibitors</td>\n",
       "      <td>Azoles</td>\n",
       "      <td></td>\n",
       "      <td></td>\n",
       "    </tr>\n",
       "  </tbody>\n",
       "</table>\n",
       "</div>"
      ],
      "text/plain": [
       "       PRODUCTNDC_PKG NDCPACKAGECODE NONPROPRIETARYNAME ROUTENAME  \\\n",
       "167261      99207-525   99207-525-10       fluocinonide   TOPICAL   \n",
       "167262      99207-525   99207-525-30       fluocinonide   TOPICAL   \n",
       "167263      99207-525   99207-525-60       fluocinonide   TOPICAL   \n",
       "167264      99207-850   99207-850-02       LULICONAZOLE   TOPICAL   \n",
       "167265      99207-850   99207-850-60       LULICONAZOLE   TOPICAL   \n",
       "\n",
       "       SUBSTANCENAME ACTIVE_NUMERATOR_STRENGTH   PHARM_CLASSE_EPC  \\\n",
       "167261  FLUOCINONIDE                         1    Corticosteroid    \n",
       "167262  FLUOCINONIDE                         1    Corticosteroid    \n",
       "167263  FLUOCINONIDE                         1    Corticosteroid    \n",
       "167264  LULICONAZOLE                        10  Azole Antifungal    \n",
       "167265  LULICONAZOLE                        10  Azole Antifungal    \n",
       "\n",
       "       PHARM_CLASSE_EXT                           PHARM_CLASSE_MoA  \\\n",
       "167261                   Corticosteroid Hormone Receptor Agonists    \n",
       "167262                   Corticosteroid Hormone Receptor Agonists    \n",
       "167263                   Corticosteroid Hormone Receptor Agonists    \n",
       "167264                            Cytochrome P450 2C19 Inhibitors    \n",
       "167265                            Cytochrome P450 2C19 Inhibitors    \n",
       "\n",
       "       PHARM_CLASSE_CS PHARM_CLASSE_PE PHARM_CLASSE_Chemical/Ingredient  \n",
       "167261                                                                   \n",
       "167262                                                                   \n",
       "167263                                                                   \n",
       "167264         Azoles                                                    \n",
       "167265         Azoles                                                    "
      ]
     },
     "execution_count": 67,
     "metadata": {},
     "output_type": "execute_result"
    }
   ],
   "source": [
    "copyTableMerged.tail()"
   ]
  },
  {
   "cell_type": "code",
   "execution_count": 68,
   "metadata": {},
   "outputs": [],
   "source": [
    "from sklearn.preprocessing import OrdinalEncoder\n",
    "enc = OrdinalEncoder()\n",
    "copyTableMerged[['ACTIVE_NUMERATOR_STRENGTH','NONPROPRIETARYNAME','PRODUCTNDC_PKG','ROUTENAME','SUBSTANCENAME','NDCPACKAGECODE','PHARM_CLASSE_EPC', 'PHARM_CLASSE_MoA','PHARM_CLASSE_PE', 'PHARM_CLASSE_CS','PHARM_CLASSE_EXT','PHARM_CLASSE_Chemical/Ingredient']] = enc.fit_transform(copyTableMerged[['ACTIVE_NUMERATOR_STRENGTH','NONPROPRIETARYNAME','PRODUCTNDC_PKG','ROUTENAME','SUBSTANCENAME','NDCPACKAGECODE','PHARM_CLASSE_EPC', 'PHARM_CLASSE_MoA','PHARM_CLASSE_PE', 'PHARM_CLASSE_CS','PHARM_CLASSE_EXT','PHARM_CLASSE_Chemical/Ingredient']])"
   ]
  },
  {
   "cell_type": "code",
   "execution_count": 69,
   "metadata": {
    "scrolled": true
   },
   "outputs": [
    {
     "data": {
      "text/html": [
       "<div>\n",
       "<style scoped>\n",
       "    .dataframe tbody tr th:only-of-type {\n",
       "        vertical-align: middle;\n",
       "    }\n",
       "\n",
       "    .dataframe tbody tr th {\n",
       "        vertical-align: top;\n",
       "    }\n",
       "\n",
       "    .dataframe thead th {\n",
       "        text-align: right;\n",
       "    }\n",
       "</style>\n",
       "<table border=\"1\" class=\"dataframe\">\n",
       "  <thead>\n",
       "    <tr style=\"text-align: right;\">\n",
       "      <th></th>\n",
       "      <th>PRODUCTNDC_PKG</th>\n",
       "      <th>NDCPACKAGECODE</th>\n",
       "      <th>NONPROPRIETARYNAME</th>\n",
       "      <th>ROUTENAME</th>\n",
       "      <th>SUBSTANCENAME</th>\n",
       "      <th>ACTIVE_NUMERATOR_STRENGTH</th>\n",
       "      <th>PHARM_CLASSE_EPC</th>\n",
       "      <th>PHARM_CLASSE_EXT</th>\n",
       "      <th>PHARM_CLASSE_MoA</th>\n",
       "      <th>PHARM_CLASSE_CS</th>\n",
       "      <th>PHARM_CLASSE_PE</th>\n",
       "      <th>PHARM_CLASSE_Chemical/Ingredient</th>\n",
       "    </tr>\n",
       "  </thead>\n",
       "  <tbody>\n",
       "    <tr>\n",
       "      <th>0</th>\n",
       "      <td>0.0</td>\n",
       "      <td>0.0</td>\n",
       "      <td>956.0</td>\n",
       "      <td>105.0</td>\n",
       "      <td>332.0</td>\n",
       "      <td>936.0</td>\n",
       "      <td>484.0</td>\n",
       "      <td>0.0</td>\n",
       "      <td>284.0</td>\n",
       "      <td>0.0</td>\n",
       "      <td>0.0</td>\n",
       "      <td>0.0</td>\n",
       "    </tr>\n",
       "    <tr>\n",
       "      <th>1</th>\n",
       "      <td>1.0</td>\n",
       "      <td>1.0</td>\n",
       "      <td>2650.0</td>\n",
       "      <td>105.0</td>\n",
       "      <td>1270.0</td>\n",
       "      <td>4270.0</td>\n",
       "      <td>613.0</td>\n",
       "      <td>0.0</td>\n",
       "      <td>285.0</td>\n",
       "      <td>0.0</td>\n",
       "      <td>0.0</td>\n",
       "      <td>0.0</td>\n",
       "    </tr>\n",
       "    <tr>\n",
       "      <th>2</th>\n",
       "      <td>1.0</td>\n",
       "      <td>2.0</td>\n",
       "      <td>2650.0</td>\n",
       "      <td>105.0</td>\n",
       "      <td>1270.0</td>\n",
       "      <td>4270.0</td>\n",
       "      <td>613.0</td>\n",
       "      <td>0.0</td>\n",
       "      <td>285.0</td>\n",
       "      <td>0.0</td>\n",
       "      <td>0.0</td>\n",
       "      <td>0.0</td>\n",
       "    </tr>\n",
       "    <tr>\n",
       "      <th>3</th>\n",
       "      <td>2.0</td>\n",
       "      <td>3.0</td>\n",
       "      <td>4855.0</td>\n",
       "      <td>105.0</td>\n",
       "      <td>2614.0</td>\n",
       "      <td>1905.0</td>\n",
       "      <td>112.0</td>\n",
       "      <td>0.0</td>\n",
       "      <td>0.0</td>\n",
       "      <td>0.0</td>\n",
       "      <td>0.0</td>\n",
       "      <td>0.0</td>\n",
       "    </tr>\n",
       "    <tr>\n",
       "      <th>4</th>\n",
       "      <td>3.0</td>\n",
       "      <td>4.0</td>\n",
       "      <td>4855.0</td>\n",
       "      <td>105.0</td>\n",
       "      <td>2614.0</td>\n",
       "      <td>3757.0</td>\n",
       "      <td>112.0</td>\n",
       "      <td>0.0</td>\n",
       "      <td>0.0</td>\n",
       "      <td>0.0</td>\n",
       "      <td>0.0</td>\n",
       "      <td>0.0</td>\n",
       "    </tr>\n",
       "    <tr>\n",
       "      <th>...</th>\n",
       "      <td>...</td>\n",
       "      <td>...</td>\n",
       "      <td>...</td>\n",
       "      <td>...</td>\n",
       "      <td>...</td>\n",
       "      <td>...</td>\n",
       "      <td>...</td>\n",
       "      <td>...</td>\n",
       "      <td>...</td>\n",
       "      <td>...</td>\n",
       "      <td>...</td>\n",
       "      <td>...</td>\n",
       "    </tr>\n",
       "    <tr>\n",
       "      <th>167261</th>\n",
       "      <td>69914.0</td>\n",
       "      <td>136935.0</td>\n",
       "      <td>7347.0</td>\n",
       "      <td>127.0</td>\n",
       "      <td>1498.0</td>\n",
       "      <td>681.0</td>\n",
       "      <td>209.0</td>\n",
       "      <td>0.0</td>\n",
       "      <td>121.0</td>\n",
       "      <td>0.0</td>\n",
       "      <td>0.0</td>\n",
       "      <td>0.0</td>\n",
       "    </tr>\n",
       "    <tr>\n",
       "      <th>167262</th>\n",
       "      <td>69914.0</td>\n",
       "      <td>136936.0</td>\n",
       "      <td>7347.0</td>\n",
       "      <td>127.0</td>\n",
       "      <td>1498.0</td>\n",
       "      <td>681.0</td>\n",
       "      <td>209.0</td>\n",
       "      <td>0.0</td>\n",
       "      <td>121.0</td>\n",
       "      <td>0.0</td>\n",
       "      <td>0.0</td>\n",
       "      <td>0.0</td>\n",
       "    </tr>\n",
       "    <tr>\n",
       "      <th>167263</th>\n",
       "      <td>69914.0</td>\n",
       "      <td>136937.0</td>\n",
       "      <td>7347.0</td>\n",
       "      <td>127.0</td>\n",
       "      <td>1498.0</td>\n",
       "      <td>681.0</td>\n",
       "      <td>209.0</td>\n",
       "      <td>0.0</td>\n",
       "      <td>121.0</td>\n",
       "      <td>0.0</td>\n",
       "      <td>0.0</td>\n",
       "      <td>0.0</td>\n",
       "    </tr>\n",
       "    <tr>\n",
       "      <th>167264</th>\n",
       "      <td>69915.0</td>\n",
       "      <td>136938.0</td>\n",
       "      <td>3766.0</td>\n",
       "      <td>127.0</td>\n",
       "      <td>2064.0</td>\n",
       "      <td>907.0</td>\n",
       "      <td>117.0</td>\n",
       "      <td>0.0</td>\n",
       "      <td>145.0</td>\n",
       "      <td>82.0</td>\n",
       "      <td>0.0</td>\n",
       "      <td>0.0</td>\n",
       "    </tr>\n",
       "    <tr>\n",
       "      <th>167265</th>\n",
       "      <td>69915.0</td>\n",
       "      <td>136939.0</td>\n",
       "      <td>3766.0</td>\n",
       "      <td>127.0</td>\n",
       "      <td>2064.0</td>\n",
       "      <td>907.0</td>\n",
       "      <td>117.0</td>\n",
       "      <td>0.0</td>\n",
       "      <td>145.0</td>\n",
       "      <td>82.0</td>\n",
       "      <td>0.0</td>\n",
       "      <td>0.0</td>\n",
       "    </tr>\n",
       "  </tbody>\n",
       "</table>\n",
       "<p>136941 rows × 12 columns</p>\n",
       "</div>"
      ],
      "text/plain": [
       "        PRODUCTNDC_PKG  NDCPACKAGECODE  NONPROPRIETARYNAME  ROUTENAME  \\\n",
       "0                  0.0             0.0               956.0      105.0   \n",
       "1                  1.0             1.0              2650.0      105.0   \n",
       "2                  1.0             2.0              2650.0      105.0   \n",
       "3                  2.0             3.0              4855.0      105.0   \n",
       "4                  3.0             4.0              4855.0      105.0   \n",
       "...                ...             ...                 ...        ...   \n",
       "167261         69914.0        136935.0              7347.0      127.0   \n",
       "167262         69914.0        136936.0              7347.0      127.0   \n",
       "167263         69914.0        136937.0              7347.0      127.0   \n",
       "167264         69915.0        136938.0              3766.0      127.0   \n",
       "167265         69915.0        136939.0              3766.0      127.0   \n",
       "\n",
       "        SUBSTANCENAME  ACTIVE_NUMERATOR_STRENGTH  PHARM_CLASSE_EPC  \\\n",
       "0               332.0                      936.0             484.0   \n",
       "1              1270.0                     4270.0             613.0   \n",
       "2              1270.0                     4270.0             613.0   \n",
       "3              2614.0                     1905.0             112.0   \n",
       "4              2614.0                     3757.0             112.0   \n",
       "...               ...                        ...               ...   \n",
       "167261         1498.0                      681.0             209.0   \n",
       "167262         1498.0                      681.0             209.0   \n",
       "167263         1498.0                      681.0             209.0   \n",
       "167264         2064.0                      907.0             117.0   \n",
       "167265         2064.0                      907.0             117.0   \n",
       "\n",
       "        PHARM_CLASSE_EXT  PHARM_CLASSE_MoA  PHARM_CLASSE_CS  PHARM_CLASSE_PE  \\\n",
       "0                    0.0             284.0              0.0              0.0   \n",
       "1                    0.0             285.0              0.0              0.0   \n",
       "2                    0.0             285.0              0.0              0.0   \n",
       "3                    0.0               0.0              0.0              0.0   \n",
       "4                    0.0               0.0              0.0              0.0   \n",
       "...                  ...               ...              ...              ...   \n",
       "167261               0.0             121.0              0.0              0.0   \n",
       "167262               0.0             121.0              0.0              0.0   \n",
       "167263               0.0             121.0              0.0              0.0   \n",
       "167264               0.0             145.0             82.0              0.0   \n",
       "167265               0.0             145.0             82.0              0.0   \n",
       "\n",
       "        PHARM_CLASSE_Chemical/Ingredient  \n",
       "0                                    0.0  \n",
       "1                                    0.0  \n",
       "2                                    0.0  \n",
       "3                                    0.0  \n",
       "4                                    0.0  \n",
       "...                                  ...  \n",
       "167261                               0.0  \n",
       "167262                               0.0  \n",
       "167263                               0.0  \n",
       "167264                               0.0  \n",
       "167265                               0.0  \n",
       "\n",
       "[136941 rows x 12 columns]"
      ]
     },
     "metadata": {},
     "output_type": "display_data"
    }
   ],
   "source": [
    "display(copyTableMerged)"
   ]
  },
  {
   "cell_type": "markdown",
   "metadata": {},
   "source": [
    "Nous avons choisi d'utiliser RandomForest comme classifieur. Il est efficace sans faire de recherche d'hyperparamètre à l'aide d'une grid search. Nous allons donc l'entrainer sur les données ayant une étiquette **PHARM_CLASS_EPC**"
   ]
  },
  {
   "cell_type": "code",
   "execution_count": 70,
   "metadata": {},
   "outputs": [],
   "source": [
    "copyTableMergedTraining = copyTableMerged[copyTableMerged['PHARM_CLASSE_EPC']!=0]"
   ]
  },
  {
   "cell_type": "code",
   "execution_count": 71,
   "metadata": {},
   "outputs": [],
   "source": [
    "from sklearn.ensemble import RandomForestClassifier\n",
    "from sklearn.datasets import make_classification\n",
    "from sklearn.model_selection import train_test_split\n",
    "\n",
    "train, test = train_test_split(copyTableMergedTraining, test_size=0.2)\n",
    "\n",
    "y_train = train[\"PHARM_CLASSE_EPC\"]\n",
    "x_train = train.drop(columns=[\"PHARM_CLASSE_EPC\"])\n",
    "y_test = test[\"PHARM_CLASSE_EPC\"]\n",
    "x_test = test.drop(columns=[\"PHARM_CLASSE_EPC\"])\n",
    "\n",
    "clf = RandomForestClassifier(max_depth=5, random_state=0)\n",
    "clf.fit(x_train, y_train)\n",
    "y_pred = clf.predict(x_test)"
   ]
  },
  {
   "cell_type": "code",
   "execution_count": 72,
   "metadata": {
    "scrolled": true
   },
   "outputs": [
    {
     "name": "stdout",
     "output_type": "stream",
     "text": [
      "Accuracy: 0.46070307595731325\n"
     ]
    }
   ],
   "source": [
    "from sklearn import metrics\n",
    "# Model Accuracy\n",
    "print(\"Accuracy:\",metrics.accuracy_score(y_test, y_pred))"
   ]
  },
  {
   "cell_type": "code",
   "execution_count": 73,
   "metadata": {},
   "outputs": [],
   "source": [
    "copyTableMergedForPrediction = copyTableMerged[copyTableMerged['PHARM_CLASSE_EPC'] == 0]\n",
    "\n",
    "copyTableMergedForPrediction = copyTableMergedForPrediction.drop(columns=['PHARM_CLASSE_EPC'])"
   ]
  },
  {
   "cell_type": "code",
   "execution_count": 74,
   "metadata": {},
   "outputs": [],
   "source": [
    "y_pred = clf.predict(x_test)"
   ]
  },
  {
   "cell_type": "markdown",
   "metadata": {},
   "source": [
    "Ci-dessus nous avons entraîné un modèle sur les données ou PHARM_CLASSE_EPC n'est pas égale à 0. Nous avons ensuite avec le modèle prédit la classe des objets ayant l'attribut PHARM_CLASSE_EPC manquant, soit égale à zéro. Pour fair la diminution de dimension finale, nous avons notamment analyser la fréquence des valeurs des colonnes ainsi que la diversité des valeurs possibles. Selon ces mesures, nous avons décider de garder ou d'éliminer certaines colonnes.\n",
    "<br>Force est de constater que la prédiction de notre modèle n'est pas optimale, ce qui ne peut résulter en de résultats favorable lors de la phase de prédiction. Afin d'y remédier nous aurions pu utiliser différentes techniques par exemple la cross-validation des hyper-paramêtres pour différents modèles possibles. Toutefois nous avons estimé que de pousser des recherches aussi approfondies sortait du cadre de ce tp. Dans cette remise nous estimons avoir démontrer plusieurs techniques primordiales au pré-traitement des données. Nous avons procédé de façon à garder toute les nuances des données tout en éliminant le plus d'abstraction possible. Nous avons donc bien démontré comment nettoyer un jeu de données de façon efficace afin de pouvoir modéliser les données le plus précisément possible afin de faire des prédictions sur de nouvelles données jamais vu par le modèle."
   ]
  }
 ],
 "metadata": {
  "kernelspec": {
   "display_name": "Python 3",
   "language": "python",
   "name": "python3"
  },
  "language_info": {
   "codemirror_mode": {
    "name": "ipython",
    "version": 3
   },
   "file_extension": ".py",
   "mimetype": "text/x-python",
   "name": "python",
   "nbconvert_exporter": "python",
   "pygments_lexer": "ipython3",
   "version": "3.7.5"
  }
 },
 "nbformat": 4,
 "nbformat_minor": 4
}
