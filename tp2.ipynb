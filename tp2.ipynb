{
 "cells": [
  {
   "cell_type": "markdown",
   "metadata": {},
   "source": [
    "## Tp2 ift 870\n",
    "Quentin Levieux<br>\n",
    "Frederic Giasson"
   ]
  },
  {
   "cell_type": "code",
   "execution_count": 338,
   "metadata": {},
   "outputs": [],
   "source": [
    "import sklearn\n",
    "import numpy as np\n",
    "import scipy as sp\n",
    "import pandas as pd\n",
    "%matplotlib notebook\n",
    "import matplotlib.pyplot as plt\n",
    "import seaborn as sns\n",
    "from IPython.display import display\n",
    "import numbers"
   ]
  },
  {
   "cell_type": "code",
   "execution_count": 339,
   "metadata": {},
   "outputs": [
    {
     "data": {
      "text/plain": [
       "'Dimension de package.csv : '"
      ]
     },
     "metadata": {},
     "output_type": "display_data"
    },
    {
     "data": {
      "text/plain": [
       "(173887, 8)"
      ]
     },
     "metadata": {},
     "output_type": "display_data"
    },
    {
     "name": "stdout",
     "output_type": "stream",
     "text": [
      "Dimension de product.csv:  (93238, 20)\n",
      "Nombre d'attributs de package: 8\n",
      "Nombre d'attributs de product: 20\n",
      "\n",
      "Colonne de package: \n",
      " ['PRODUCTID' 'PRODUCTNDC' 'NDCPACKAGECODE' 'PACKAGEDESCRIPTION'\n",
      " 'STARTMARKETINGDATE' 'ENDMARKETINGDATE' 'NDC_EXCLUDE_FLAG'\n",
      " 'SAMPLE_PACKAGE']\n",
      "\n",
      "Colonne de product: \n",
      " ['PRODUCTID' 'PRODUCTNDC' 'PRODUCTTYPENAME' 'PROPRIETARYNAME'\n",
      " 'PROPRIETARYNAMESUFFIX' 'NONPROPRIETARYNAME' 'DOSAGEFORMNAME' 'ROUTENAME'\n",
      " 'STARTMARKETINGDATE' 'ENDMARKETINGDATE' 'MARKETINGCATEGORYNAME'\n",
      " 'APPLICATIONNUMBER' 'LABELERNAME' 'SUBSTANCENAME'\n",
      " 'ACTIVE_NUMERATOR_STRENGTH' 'ACTIVE_INGRED_UNIT' 'PHARM_CLASSES'\n",
      " 'DEASCHEDULE' 'NDC_EXCLUDE_FLAG' 'LISTING_RECORD_CERTIFIED_THROUGH']\n",
      "\n",
      "Attributs commun au deux tables :\n",
      " ['STARTMARKETINGDATE', 'NDC_EXCLUDE_FLAG', 'ENDMARKETINGDATE', 'PRODUCTNDC', 'PRODUCTID']\n"
     ]
    }
   ],
   "source": [
    "package = pd.read_csv(\"Package2.csv\",sep=\";\", error_bad_lines=False, encoding ='latin1')\n",
    "display(\"Dimension de package.csv : \",package.shape)\n",
    "product = pd.read_csv(\"Product2.csv\",sep=\";\", error_bad_lines=False, encoding ='latin1')\n",
    "print(\"Dimension de product.csv: \",product.shape)\n",
    "print(\"Nombre d'attributs de package:\", len(package.columns))\n",
    "print(\"Nombre d'attributs de product:\", len(product.columns))\n",
    "print(\"\\nColonne de package: \\n\",package.columns.values)\n",
    "print(\"\\nColonne de product: \\n\",product.columns.values)\n",
    "commonAttributs = list(set(package).intersection(product))\n",
    "print(\"\\nAttributs commun au deux tables :\\n\",commonAttributs)"
   ]
  },
  {
   "cell_type": "markdown",
   "metadata": {},
   "source": [
    "## Types des attributs"
   ]
  },
  {
   "cell_type": "code",
   "execution_count": 340,
   "metadata": {},
   "outputs": [
    {
     "name": "stdout",
     "output_type": "stream",
     "text": [
      "Types des attributs pour package :\n",
      "\n",
      " PRODUCTID              object\n",
      "PRODUCTNDC             object\n",
      "NDCPACKAGECODE         object\n",
      "PACKAGEDESCRIPTION     object\n",
      "STARTMARKETINGDATE      int64\n",
      "ENDMARKETINGDATE      float64\n",
      "NDC_EXCLUDE_FLAG       object\n",
      "SAMPLE_PACKAGE         object\n",
      "dtype: object\n",
      "\n",
      "Types des attributs pour product :\n",
      "\n",
      " PRODUCTID                            object\n",
      "PRODUCTNDC                           object\n",
      "PRODUCTTYPENAME                      object\n",
      "PROPRIETARYNAME                      object\n",
      "PROPRIETARYNAMESUFFIX                object\n",
      "NONPROPRIETARYNAME                   object\n",
      "DOSAGEFORMNAME                       object\n",
      "ROUTENAME                            object\n",
      "STARTMARKETINGDATE                    int64\n",
      "ENDMARKETINGDATE                    float64\n",
      "MARKETINGCATEGORYNAME                object\n",
      "APPLICATIONNUMBER                    object\n",
      "LABELERNAME                          object\n",
      "SUBSTANCENAME                        object\n",
      "ACTIVE_NUMERATOR_STRENGTH            object\n",
      "ACTIVE_INGRED_UNIT                   object\n",
      "PHARM_CLASSES                        object\n",
      "DEASCHEDULE                          object\n",
      "NDC_EXCLUDE_FLAG                     object\n",
      "LISTING_RECORD_CERTIFIED_THROUGH    float64\n",
      "dtype: object\n"
     ]
    }
   ],
   "source": [
    "print(\"Types des attributs pour package :\\n\\n\",package.dtypes)\n",
    "print(\"\\nTypes des attributs pour product :\\n\\n\",product.dtypes)"
   ]
  },
  {
   "cell_type": "markdown",
   "metadata": {},
   "source": [
    "### Valeurs Manquantes"
   ]
  },
  {
   "cell_type": "code",
   "execution_count": 341,
   "metadata": {},
   "outputs": [
    {
     "name": "stdout",
     "output_type": "stream",
     "text": [
      "(167507, 8)\n",
      "(93238, 20)\n",
      "Valeurs manquante par colonne dans package:\n",
      "\n",
      "PRODUCTID    0\n",
      "dtype: int64\n",
      "PRODUCTNDC    1500\n",
      "dtype: int64\n",
      "NDCPACKAGECODE    2346\n",
      "dtype: int64\n",
      "PACKAGEDESCRIPTION    0\n",
      "dtype: int64\n",
      "STARTMARKETINGDATE    0\n",
      "dtype: int64\n",
      "ENDMARKETINGDATE    167431\n",
      "dtype: int64\n",
      "NDC_EXCLUDE_FLAG    0\n",
      "dtype: int64\n",
      "SAMPLE_PACKAGE    0\n",
      "dtype: int64\n",
      "Nombre total de rangees dans package : 173887\n",
      "\n",
      "Valeurs manquante par colonne dans product:\n",
      "\n",
      "PRODUCTID    1560\n",
      "dtype: int64\n",
      "PRODUCTNDC    0\n",
      "dtype: int64\n",
      "PRODUCTTYPENAME    0\n",
      "dtype: int64\n",
      "PROPRIETARYNAME    6\n",
      "dtype: int64\n",
      "PROPRIETARYNAMESUFFIX    83075\n",
      "dtype: int64\n",
      "NONPROPRIETARYNAME    4\n",
      "dtype: int64\n",
      "DOSAGEFORMNAME    0\n",
      "dtype: int64\n",
      "ROUTENAME    1932\n",
      "dtype: int64\n",
      "STARTMARKETINGDATE    0\n",
      "dtype: int64\n",
      "ENDMARKETINGDATE    88915\n",
      "dtype: int64\n",
      "MARKETINGCATEGORYNAME    0\n",
      "dtype: int64\n",
      "APPLICATIONNUMBER    13097\n",
      "dtype: int64\n",
      "LABELERNAME    0\n",
      "dtype: int64\n",
      "SUBSTANCENAME    2309\n",
      "dtype: int64\n",
      "ACTIVE_NUMERATOR_STRENGTH    2309\n",
      "dtype: int64\n",
      "ACTIVE_INGRED_UNIT    2309\n",
      "dtype: int64\n",
      "PHARM_CLASSES    50984\n",
      "dtype: int64\n",
      "DEASCHEDULE    88815\n",
      "dtype: int64\n",
      "NDC_EXCLUDE_FLAG    0\n",
      "dtype: int64\n",
      "LISTING_RECORD_CERTIFIED_THROUGH    4325\n",
      "dtype: int64\n",
      "Nombre total de rangees dans product: 93238\n"
     ]
    }
   ],
   "source": [
    "manquantePackage = package[package.isnull().any(axis=1)]\n",
    "#display(manquantePackage)\n",
    "print(manquantePackage.shape)\n",
    "\n",
    "manquanteProduct = product[product.isnull().any(axis=1)]\n",
    "#display(manquanteProduct)\n",
    "print(manquanteProduct.shape)\n",
    "\n",
    "print(\"Valeurs manquante par colonne dans package:\\n\")\n",
    "for col in package.columns:\n",
    "    nb = package[[col]].isna().sum()\n",
    "    print(nb)\n",
    "print(\"Nombre total de rangees dans package :\", len(package))\n",
    "\n",
    "print(\"\\nValeurs manquante par colonne dans product:\\n\")\n",
    "for col in product.columns:\n",
    "    nb = product[[col]].isna().sum()\n",
    "    print(nb)\n",
    "print(\"Nombre total de rangees dans product:\", len(product))"
   ]
  },
  {
   "cell_type": "markdown",
   "metadata": {},
   "source": [
    "### incohérences intra-attributs"
   ]
  },
  {
   "cell_type": "code",
   "execution_count": 342,
   "metadata": {
    "scrolled": true
   },
   "outputs": [],
   "source": [
    "#Méthode pour déterminer si la date est valide\n",
    "def datee(date):\n",
    "    annee = int(str(date)[0:4])\n",
    "    mois = int(str(date)[4:6])\n",
    "    jour = int(str(date)[6:8])\n",
    "    if annee<1800 or annee > 2300 or mois>12 or mois<1:\n",
    "        return False\n",
    "    if jour<1 or jour>31:\n",
    "        return False\n",
    "    if mois== 2 and jour>29:\n",
    "        return False\n",
    "    if mois== 4 and jour>30:\n",
    "        return False\n",
    "    if mois== 6 and jour>30:\n",
    "        return False\n",
    "    if mois== 9 and jour>30:\n",
    "        return False\n",
    "    if mois== 11 and jour>30:\n",
    "        return False\n",
    "    return True\n"
   ]
  },
  {
   "cell_type": "markdown",
   "metadata": {},
   "source": [
    "### Table Package"
   ]
  },
  {
   "cell_type": "code",
   "execution_count": 343,
   "metadata": {},
   "outputs": [
    {
     "name": "stdout",
     "output_type": "stream",
     "text": [
      "Nombre de rangee avec une valeur autre que Y ou N dans la colonne sample_Package :  0\n"
     ]
    }
   ],
   "source": [
    "samplePackageY = package[package['SAMPLE_PACKAGE'] != 'Y']\n",
    "samplePackageN = samplePackageY[samplePackageY['SAMPLE_PACKAGE'] != 'N']\n",
    "print(\"Nombre de rangee avec une valeur autre que Y ou N dans la colonne sample_Package : \",len(samplePackageN))"
   ]
  },
  {
   "cell_type": "code",
   "execution_count": 344,
   "metadata": {},
   "outputs": [
    {
     "name": "stdout",
     "output_type": "stream",
     "text": [
      "Nombre de rangee avec une valeur autre que Y ou N (ni E ou I) dans la colonne NDC_EXCLUDE_FLAG :  0\n"
     ]
    }
   ],
   "source": [
    "dd = package[~package['NDC_EXCLUDE_FLAG'].isnull()]\n",
    "ndcFlagYnotNull = dd['NDC_EXCLUDE_FLAG']\n",
    "flagErr =[]\n",
    "for flag in ndcFlagYnotNull:\n",
    "    if str(flag) not in ['Y', 'E', 'N', 'I']:\n",
    "        flagErr.append(flag)\n",
    "\n",
    "print(\"Nombre de rangee avec une valeur autre que Y ou N (ni E ou I) dans la colonne NDC_EXCLUDE_FLAG : \",len(flagErr))"
   ]
  },
  {
   "cell_type": "code",
   "execution_count": 345,
   "metadata": {},
   "outputs": [
    {
     "name": "stdout",
     "output_type": "stream",
     "text": [
      "Nombre incoherence dans endMarketingDate:  0\n"
     ]
    }
   ],
   "source": [
    "xx = package[~package['ENDMARKETINGDATE'].isnull()]\n",
    "endMarketingDate = xx['ENDMARKETINGDATE']\n",
    "erreurEndMarketingDate = []\n",
    "for date in endMarketingDate:\n",
    "    if not datee(date):\n",
    "        erreurEndMarketingDate.append(date)\n",
    "print(\"Nombre incoherence dans endMarketingDate: \", len(erreurEndMarketingDate))"
   ]
  },
  {
   "cell_type": "code",
   "execution_count": 346,
   "metadata": {},
   "outputs": [
    {
     "name": "stdout",
     "output_type": "stream",
     "text": [
      "Nombre incoherence dans startMarketingDate:  243\n"
     ]
    }
   ],
   "source": [
    "yy = package[~package['STARTMARKETINGDATE'].isnull()]\n",
    "startMarketingDate = yy['STARTMARKETINGDATE']\n",
    "erreurStartMarketingDate = []\n",
    "for date in startMarketingDate:\n",
    "    if not datee(date):\n",
    "        erreurStartMarketingDate.append(date)\n",
    "print(\"Nombre incoherence dans startMarketingDate: \", len(erreurStartMarketingDate))"
   ]
  },
  {
   "cell_type": "code",
   "execution_count": 347,
   "metadata": {},
   "outputs": [
    {
     "name": "stdout",
     "output_type": "stream",
     "text": [
      "Nombres de PRODUCTNDC n'ayant pas de tiret ou contenant des lettres: 151\n"
     ]
    }
   ],
   "source": [
    "vv = package[~package['PRODUCTNDC'].isnull()]\n",
    "ndcErrindex = []\n",
    "\n",
    "for ndc in vv['PRODUCTNDC'].unique():\n",
    "    ndca = ndc.strip('-')\n",
    "    mot = str(ndc)\n",
    "    if not any(char.isdigit() for char in ndca):\n",
    "           ndcErrindex.append(ndc)\n",
    "    if not mot.count(\"-\")==1:#doit contenir seulement 1 tiret\n",
    "        ndcErrindex.append(ndc)\n",
    "print(\"Nombres de PRODUCTNDC n'ayant pas de tiret ou contenant des lettres:\",len(ndcErrindex))"
   ]
  },
  {
   "cell_type": "code",
   "execution_count": 348,
   "metadata": {},
   "outputs": [
    {
     "name": "stdout",
     "output_type": "stream",
     "text": [
      "Nombres de NDCPACKAGECODE n'ayant pas 2 tirets ou contenant des lettres: 62\n"
     ]
    }
   ],
   "source": [
    "#NDCPACKAGECODE\n",
    "fd = package[~package['NDCPACKAGECODE'].isnull()]\n",
    "ndcPCKGcodeindex = []\n",
    "\n",
    "for ndc in fd['NDCPACKAGECODE'].unique():\n",
    "    ndca = ndc.strip('-')\n",
    "    mot = str(ndc)\n",
    "    if not any(char.isdigit() for char in ndca):\n",
    "           ndcPCKGcodeindex.append(ndc)\n",
    "    if not mot.count(\"-\")==2:#doit contenir seulement 2 tirets\n",
    "        ndcPCKGcodeindex.append(ndc)\n",
    "print(\"Nombres de NDCPACKAGECODE n'ayant pas 2 tirets ou contenant des lettres:\",len(ndcPCKGcodeindex))"
   ]
  },
  {
   "cell_type": "code",
   "execution_count": 349,
   "metadata": {
    "scrolled": false
   },
   "outputs": [
    {
     "name": "stdout",
     "output_type": "stream",
     "text": [
      "Nombres de differentes possibilites pour PRODUCTID: 93084\n",
      "Nombres de Product pas unique: 80803\n",
      "Nombres de NDCPACKAGECODE n'ayant pas de tiret: 0\n"
     ]
    }
   ],
   "source": [
    "bb = package[~package['PRODUCTID'].isnull()]\n",
    "print(\"Nombres de differentes possibilites pour PRODUCTID:\", len(bb['PRODUCTID'].unique()))\n",
    "errID = bb[bb['PRODUCTID'].duplicated()== True]\n",
    "errID = errID['PRODUCTID']\n",
    "print(\"Nombres de Product pas unique:\",len(errID))\n",
    "\n",
    "fde = package[~package['PRODUCTID'].isnull()]\n",
    "ndcProductIDindex = []\n",
    "\n",
    "for ndc in fde['PRODUCTID'].unique():\n",
    "    mot = str(ndc)\n",
    "    if mot.count(\"-\")==-1:#Ne contient pas de tirets\n",
    "        ndcProductIDindex.append(ndc)\n",
    "print(\"Nombres de NDCPACKAGECODE n'ayant pas de tiret:\",len(ndcProductIDindex))"
   ]
  },
  {
   "cell_type": "markdown",
   "metadata": {},
   "source": [
    "En ce qui attrait au colonnes <b>PACKAGEDESCRIPTION</b> de la table PACKAGE, il est difficile de d'avoir un critère qui permet de savoir si il y a une incoherence dans les données de la colonne, le site n'offre pas plus de details. \n",
    "<br><br>Dans la colonne <b>PRODUCTID</b> nous pouvons voir qu'il y a 80803 identifiants qui ne sont pas unique, nous pouvons soupconner une incoherence d'autant plus que l'autre table n'a pas de double dans cette colonne. "
   ]
  },
  {
   "cell_type": "markdown",
   "metadata": {},
   "source": [
    "### Table product\n"
   ]
  },
  {
   "cell_type": "code",
   "execution_count": 350,
   "metadata": {},
   "outputs": [
    {
     "name": "stdout",
     "output_type": "stream",
     "text": [
      "Nombre incoherence dans LISTING_RECORD_CERTIFIED_THROUGH:  0\n"
     ]
    }
   ],
   "source": [
    "#Verification de la date pour LISTING_RECORD_CERTIFIED_THROUGH\n",
    "xx = product[~product['LISTING_RECORD_CERTIFIED_THROUGH'].isnull()]\n",
    "listingRecordDate = xx['LISTING_RECORD_CERTIFIED_THROUGH']\n",
    "erreurListingRecordDate = []\n",
    "for date in listingRecordDate:\n",
    "    if not datee(date):\n",
    "        erreurListingRecordDate.append(date)\n",
    "print(\"Nombre incoherence dans LISTING_RECORD_CERTIFIED_THROUGH: \", len(erreurListingRecordDate))"
   ]
  },
  {
   "cell_type": "code",
   "execution_count": 351,
   "metadata": {},
   "outputs": [
    {
     "name": "stdout",
     "output_type": "stream",
     "text": [
      "Nombre de rangee avec une valeur autre que Y ou N (ni E ou I) dans la colonne NDC_EXCLUDE_FLAG :  0\n"
     ]
    }
   ],
   "source": [
    "dd = product[~product['NDC_EXCLUDE_FLAG'].isnull()]\n",
    "ndcFlagYnotNull = dd['NDC_EXCLUDE_FLAG']\n",
    "flagErr =[]\n",
    "for flag in ndcFlagYnotNull:\n",
    "    if str(flag) not in ['Y', 'E', 'N', 'I']:\n",
    "        flagErr.append(flag)\n",
    "\n",
    "print(\"Nombre de rangee avec une valeur autre que Y ou N (ni E ou I) dans la colonne NDC_EXCLUDE_FLAG : \",len(flagErr))"
   ]
  },
  {
   "cell_type": "code",
   "execution_count": 352,
   "metadata": {},
   "outputs": [
    {
     "name": "stdout",
     "output_type": "stream",
     "text": [
      "Nombre de DEASCHEDULE n'ayant pas de valeur valide : 0\n"
     ]
    }
   ],
   "source": [
    "hh = product[~product['DEASCHEDULE'].isnull()] \n",
    "deaScheduleNotNull = hh['DEASCHEDULE']\n",
    "deaErr =[]\n",
    "\n",
    "for dea in deaScheduleNotNull:\n",
    "    if dea not in ['CI', 'CII', 'CIII', 'CIV','CV']:\n",
    "        deaErr.append(dea)\n",
    "print(\"Nombre de DEASCHEDULE n'ayant pas de valeur valide :\",len(deaErr))"
   ]
  },
  {
   "cell_type": "code",
   "execution_count": 353,
   "metadata": {},
   "outputs": [
    {
     "name": "stdout",
     "output_type": "stream",
     "text": [
      "Nombre incoherence dans startMarketingDate:  0\n"
     ]
    }
   ],
   "source": [
    "yy = product[~product['STARTMARKETINGDATE'].isnull()]\n",
    "startMarketingDate = yy['STARTMARKETINGDATE']\n",
    "erreurStartdMarketingDate = []\n",
    "for date in startMarketingDate:\n",
    "    if not datee(date):\n",
    "        erreurStartMarketingDate.append(date)\n",
    "print(\"Nombre incoherence dans startMarketingDate: \", len(erreurStartdMarketingDate))"
   ]
  },
  {
   "cell_type": "code",
   "execution_count": 354,
   "metadata": {},
   "outputs": [
    {
     "name": "stdout",
     "output_type": "stream",
     "text": [
      "Nombre incoherence dans endMarketingDate:  1\n"
     ]
    }
   ],
   "source": [
    "xx = product[~product['ENDMARKETINGDATE'].isnull()]\n",
    "endMarketingDate = xx['ENDMARKETINGDATE']\n",
    "erreurEndMarketingDate = []\n",
    "for date in endMarketingDate:\n",
    "    if not datee(date):\n",
    "        erreurEndMarketingDate.append(date)\n",
    "print(\"Nombre incoherence dans endMarketingDate: \", len(erreurEndMarketingDate))"
   ]
  },
  {
   "cell_type": "code",
   "execution_count": 355,
   "metadata": {},
   "outputs": [
    {
     "name": "stdout",
     "output_type": "stream",
     "text": [
      "Nombres de ACTIVE_INGRED_UNIT contenant un chiffre: 1754\n",
      "Differentes possibilites pour ACTIVE_INGRED_UNIT : 2391 \n",
      "\n"
     ]
    }
   ],
   "source": [
    "#PEut pt l'enlever\n",
    "jj = product[~product['ACTIVE_INGRED_UNIT'].isnull()]\n",
    "\n",
    "actIngrindex = []\n",
    "\n",
    "for ingr in jj['ACTIVE_INGRED_UNIT'].unique():\n",
    "    mot = str(ingr)\n",
    "    if any(char.isdigit() for char in ingr):#Contient pas des chiffres\n",
    "        #print(ingr)\n",
    "        actIngrindex.append(ingr)\n",
    "print(\"Nombres de ACTIVE_INGRED_UNIT contenant un chiffre:\",len(actIngrindex))\n",
    "print(\"Differentes possibilites pour ACTIVE_INGRED_UNIT :\",len(jj['ACTIVE_INGRED_UNIT'].unique()),\"\\n\")\n"
   ]
  },
  {
   "cell_type": "code",
   "execution_count": 356,
   "metadata": {},
   "outputs": [
    {
     "name": "stdout",
     "output_type": "stream",
     "text": [
      "Differentes possibilites pour ACTIVE_NUMERATOR_STRENGTH : 8769\n",
      "Il y a  20 identifiants de ACTIVE_NUMERATOR_STRENGTH qui ne sont pas des nombres\n",
      "\n"
     ]
    }
   ],
   "source": [
    "kk = product[~product['ACTIVE_NUMERATOR_STRENGTH'].isnull()]\n",
    "erreurActiveNumerator= [isinstance(x, numbers.Number) for x in kk]\n",
    "print(\"Differentes possibilites pour ACTIVE_NUMERATOR_STRENGTH :\",len(kk['ACTIVE_NUMERATOR_STRENGTH'].unique()))\n",
    "print(\"Il y a \",len(erreurActiveNumerator), \"identifiants de ACTIVE_NUMERATOR_STRENGTH qui ne sont pas des nombres\\n\")"
   ]
  },
  {
   "cell_type": "code",
   "execution_count": 357,
   "metadata": {},
   "outputs": [
    {
     "name": "stdout",
     "output_type": "stream",
     "text": [
      "Nombres de ProductNDC n'ayant pas seulement 1 tiret: 0\n"
     ]
    }
   ],
   "source": [
    "vv = product[~product['PRODUCTNDC'].isnull()]\n",
    "#ndcErr = []\n",
    "#for ndc in vv['PRODUCTNDC'].unique():\n",
    "#    ndc = ndc.strip('-')\n",
    "#   if not any(char.isdigit() for char in ndc):\n",
    "#           ndcErr.append(ndc)\n",
    "#print(\"Nombres de differentes possibilites pour PRODUCTNDC:\",len(ndcErr))\n",
    "\n",
    "productNDCindex = []\n",
    "\n",
    "for ndc in vv['PRODUCTNDC'].unique():\n",
    "    mot = str(ndc)\n",
    "    if not mot.count(\"-\")==1:#Ne contient pas de tirets\n",
    "        productIDindex.append(ndc)\n",
    "print(\"Nombres de ProductNDC n'ayant pas seulement 1 tiret:\",len(productNDCindex))"
   ]
  },
  {
   "cell_type": "code",
   "execution_count": 358,
   "metadata": {},
   "outputs": [
    {
     "name": "stdout",
     "output_type": "stream",
     "text": [
      "Nombres de ProductID n'ayant pas de tiret: 0\n"
     ]
    }
   ],
   "source": [
    "bb = product[~product['PRODUCTID'].isnull()]\n",
    "#print(\"Nombres de differentes possibilites pour PRODUCTID:\", len(bb['PRODUCTID'].unique()))\n",
    "#errID = bb[bb['PRODUCTID'].duplicated()== True]\n",
    "#errID = errID['PRODUCTID']\n",
    "#print(\"Nombres de Product pas unique:\",len(errID))\n",
    "\n",
    "productIDindex = []\n",
    "\n",
    "for idd in bb['PRODUCTID'].unique():\n",
    "    mot = str(idd)\n",
    "    if mot.count(\"-\")==-1:#Ne contient pas de tirets\n",
    "        productIDindex.append(idd)\n",
    "print(\"Nombres de ProductID n'ayant pas de tiret:\",len(productIDindex))"
   ]
  },
  {
   "cell_type": "code",
   "execution_count": 359,
   "metadata": {},
   "outputs": [
    {
     "name": "stdout",
     "output_type": "stream",
     "text": [
      "Differentes possibilites pour ACTIVE_INGRED_UNIT : 2391 \n",
      "\n",
      "Nombres de differentes possibilites pour ROUTENAME : 180 \n",
      "\n",
      "Nombres de differentes possibilites pour DOSAGEFORMNAME : 134 \n",
      "\n",
      "Nombres de differentes possibilites pour PROPRIETARYNAMESUFFIX : 1455 \n",
      "\n"
     ]
    }
   ],
   "source": [
    "\n",
    "jj = product[~product['ACTIVE_INGRED_UNIT'].isnull()]\n",
    "print(\"Differentes possibilites pour ACTIVE_INGRED_UNIT :\",len(jj['ACTIVE_INGRED_UNIT'].unique()),\"\\n\")\n",
    "\n",
    "#La liste des valeurs possible se trouve qqpart sur le site de la FDA\n",
    "ll = product[~product['ROUTENAME'].isnull()]\n",
    "print(\"Nombres de differentes possibilites pour ROUTENAME :\",len(ll['ROUTENAME'].unique()),\"\\n\")\n",
    "\n",
    "#La liste des valeurs possible se trouve qqpart sur le site de la FDA\n",
    "zz = product[~product['DOSAGEFORMNAME'].isnull()]\n",
    "print(\"Nombres de differentes possibilites pour DOSAGEFORMNAME :\",len(zz['DOSAGEFORMNAME'].unique()),\"\\n\")\n",
    "\n",
    "cc = product[~product['PROPRIETARYNAMESUFFIX'].isnull()]\n",
    "nameSuffix = []\n",
    "for date in cc['PROPRIETARYNAMESUFFIX'].unique():\n",
    "    if any(char.isdigit() for char in date):\n",
    "           nameSuffix.append(date)\n",
    "print(\"Nombres de differentes possibilites pour PROPRIETARYNAMESUFFIX :\",len(nameSuffix),\"\\n\")\n"
   ]
  },
  {
   "cell_type": "markdown",
   "metadata": {},
   "source": [
    "## A voir si on garde????\n",
    "\n",
    "<br><br>Pour la colonne <b>PHARM_CLASSES</b>, nous ne pouvons pas évaluer les incohérences, nous n'avons pas assez d'information.\n",
    "<br><br>Pour la colonne <b>ACTIVE_NUMERATOR_STRENGTH</b>, il y a des valeurs qui ne sont pas des nombres. Nous ne savons pas si ce sont des incoherences cependant, nous estimons pertinent de le souligner au cas ou cela pourrait poserait probleme plus tard.\n",
    "<br><br>Pour la colonne <b>SUBSTANCENAME</b> nous ne pouvons pas savoir si les attributs qui sont dans les colonnes sont bons puisque nous n'avons pas de banque permettant de valider. Il en est de meme pour <b>APPLICATIONNUMBER LABELERNAME NONPROPRIETARYNAME PRODUCTTYPENAME PROPRIETARYNAME</b>, ce sont tous de objets, nous n'avons donc pas beaucoup de details quant a la composition des attributs.\n",
    "<br><br>Pour ce qui est de <b>ROUTENAME MARKETINGCATEGORYNAME</b> nous n'avons pas trouver la liste des identifiants possible afin de confirmer que tous ceux present sont valide.\n"
   ]
  },
  {
   "cell_type": "markdown",
   "metadata": {},
   "source": [
    "#### Conclusion \n",
    "Nous avons donc analysé toutes les colonnes afin de voir si il n'y avait pas d'erreurs ou d'incohérence dans les éléments de ces colonnes. Pour les dates nous avons vérifié qu'elles comportaient un mois entre 1 et 12 et un jour entre 1 et 31. Nous ne tenons pas compte de la variance du nombre de jours entre les mois. Lorsque la colonne comportait des objets qui par le nom nous permettait de croire que ce devrait être soi seulement composé de chiffres ou seulement composé de lettres, nous avons vérifié si c'était le cas et compté les nombre d'exceptions afin de vérifier si elles étaient répandues ou pas. Force est de constaté suite à notre analyse qu'il ne semble pas y avoir d'incohérence intra-attributs."
   ]
  },
  {
   "cell_type": "markdown",
   "metadata": {},
   "source": [
    "### Incohérences inter-Attributs\n",
    "\n",
    "Lorsque l'on considère les différentes attributs pour les tables, la seule incohérence que nous pouvons étudier est la date, s'assurer que le début n'est pas après la fin. Il se pourrait qu'un produit ait une date de fin de marketing et pas de date de début, nous analyserons toutes ces possibilitées."
   ]
  },
  {
   "cell_type": "code",
   "execution_count": 360,
   "metadata": {},
   "outputs": [
    {
     "name": "stdout",
     "output_type": "stream",
     "text": [
      "Nombre de PRODUCTNDC et nombre de PRODUCTNDC unique: 93238 91468\n",
      "Nombre de labelername et nombre de labelerName unique: 93238 6611\n",
      "93232\n"
     ]
    }
   ],
   "source": [
    "for row in package:\n",
    "    fin=package['ENDMARKETINGDATE']\n",
    "    debut=package['STARTMARKETINGDATE']\n",
    "    if str(debut)>= str(fin):\n",
    "        print(debut,fin)\n",
    "    if len(debut)==0 or len(fin)==0 :\n",
    "        print(\"null\")\n",
    "        \n",
    "for row in product:\n",
    "    fin=product['ENDMARKETINGDATE']\n",
    "    debut=product['STARTMARKETINGDATE']\n",
    "    if str(debut)>= str(fin):\n",
    "        print(debut,fin)\n",
    "    if len(debut)==0 or len(fin)==0 :\n",
    "        print(\"null\")\n",
    "        \n",
    "aa = product[~product['PRODUCTNDC'].isnull()]\n",
    "ss = product[~product['LABELERNAME'].isnull()]\n",
    "print(\"Nombre de PRODUCTNDC et nombre de PRODUCTNDC unique:\",len(aa), len(aa['PRODUCTNDC'].unique()))\n",
    "print(\"Nombre de labelername et nombre de labelerName unique:\",len(ss), len(ss['LABELERNAME'].unique()))\n",
    "\n",
    "dd = product[~product['PROPRIETARYNAME'].isnull()]\n",
    "ff = dd[~dd['PROPRIETARYNAME'].isna()]\n",
    "print(len(ff))#['PROPRIETARYNAMESUFFIX'])"
   ]
  },
  {
   "cell_type": "markdown",
   "metadata": {},
   "source": [
    "Il ne semble pas y avoir d'incoherences en ce qui concerne les dates dans les deux tables.\n",
    "<br><br>Il y a une incoherence entre <b>ProductNDC</b> et <b>LabelerName</b>, il devrait y avoir le meme nombre d'attribut unique, or nous voyons qu'il y a une grande difference entre les deux."
   ]
  },
  {
   "cell_type": "code",
   "execution_count": 361,
   "metadata": {},
   "outputs": [
    {
     "data": {
      "text/html": [
       "<div>\n",
       "<style scoped>\n",
       "    .dataframe tbody tr th:only-of-type {\n",
       "        vertical-align: middle;\n",
       "    }\n",
       "\n",
       "    .dataframe tbody tr th {\n",
       "        vertical-align: top;\n",
       "    }\n",
       "\n",
       "    .dataframe thead th {\n",
       "        text-align: right;\n",
       "    }\n",
       "</style>\n",
       "<table border=\"1\" class=\"dataframe\">\n",
       "  <thead>\n",
       "    <tr style=\"text-align: right;\">\n",
       "      <th></th>\n",
       "      <th>PRODUCTID</th>\n",
       "      <th>PRODUCTNDC</th>\n",
       "      <th>NDCPACKAGECODE</th>\n",
       "      <th>PACKAGEDESCRIPTION</th>\n",
       "      <th>STARTMARKETINGDATE</th>\n",
       "      <th>ENDMARKETINGDATE</th>\n",
       "      <th>NDC_EXCLUDE_FLAG</th>\n",
       "      <th>SAMPLE_PACKAGE</th>\n",
       "    </tr>\n",
       "  </thead>\n",
       "  <tbody>\n",
       "    <tr>\n",
       "      <th>0</th>\n",
       "      <td>0002-0800_94c48759-29bb-402d-afff-9a713be11f0e</td>\n",
       "      <td>0002-0800</td>\n",
       "      <td>0002-0800-01</td>\n",
       "      <td>1 VIAL in 1 CARTON (0002-0800-01)  &gt; 10 mL in ...</td>\n",
       "      <td>19870710</td>\n",
       "      <td>NaN</td>\n",
       "      <td>N</td>\n",
       "      <td>N</td>\n",
       "    </tr>\n",
       "    <tr>\n",
       "      <th>1</th>\n",
       "      <td>0002-1200_35551a38-7a8d-43b8-8abd-f6cb7549e932</td>\n",
       "      <td>0002-1200</td>\n",
       "      <td>0002-1200-30</td>\n",
       "      <td>1 VIAL, MULTI-DOSE in 1 CAN (0002-1200-30)  &gt; ...</td>\n",
       "      <td>20120601</td>\n",
       "      <td>NaN</td>\n",
       "      <td>N</td>\n",
       "      <td>N</td>\n",
       "    </tr>\n",
       "    <tr>\n",
       "      <th>2</th>\n",
       "      <td>0002-1200_35551a38-7a8d-43b8-8abd-f6cb7549e932</td>\n",
       "      <td>0002-1200</td>\n",
       "      <td>0002-1200-50</td>\n",
       "      <td>1 VIAL, MULTI-DOSE in 1 CAN (0002-1200-50)  &gt; ...</td>\n",
       "      <td>20120601</td>\n",
       "      <td>NaN</td>\n",
       "      <td>N</td>\n",
       "      <td>N</td>\n",
       "    </tr>\n",
       "    <tr>\n",
       "      <th>3</th>\n",
       "      <td>0002-1433_42a80046-fd68-4b80-819c-a443b7816edb</td>\n",
       "      <td>0002-1433</td>\n",
       "      <td>0002-1433-61</td>\n",
       "      <td>2 SYRINGE in 1 CARTON (0002-1433-61)  &gt; .5 mL ...</td>\n",
       "      <td>20141107</td>\n",
       "      <td>NaN</td>\n",
       "      <td>N</td>\n",
       "      <td>Y</td>\n",
       "    </tr>\n",
       "    <tr>\n",
       "      <th>4</th>\n",
       "      <td>0002-1433_42a80046-fd68-4b80-819c-a443b7816edb</td>\n",
       "      <td>0002-1433</td>\n",
       "      <td>0002-1433-80</td>\n",
       "      <td>4 SYRINGE in 1 CARTON (0002-1433-80)  &gt; .5 mL ...</td>\n",
       "      <td>20141107</td>\n",
       "      <td>NaN</td>\n",
       "      <td>N</td>\n",
       "      <td>N</td>\n",
       "    </tr>\n",
       "  </tbody>\n",
       "</table>\n",
       "</div>"
      ],
      "text/plain": [
       "                                        PRODUCTID PRODUCTNDC NDCPACKAGECODE  \\\n",
       "0  0002-0800_94c48759-29bb-402d-afff-9a713be11f0e  0002-0800   0002-0800-01   \n",
       "1  0002-1200_35551a38-7a8d-43b8-8abd-f6cb7549e932  0002-1200   0002-1200-30   \n",
       "2  0002-1200_35551a38-7a8d-43b8-8abd-f6cb7549e932  0002-1200   0002-1200-50   \n",
       "3  0002-1433_42a80046-fd68-4b80-819c-a443b7816edb  0002-1433   0002-1433-61   \n",
       "4  0002-1433_42a80046-fd68-4b80-819c-a443b7816edb  0002-1433   0002-1433-80   \n",
       "\n",
       "                                  PACKAGEDESCRIPTION  STARTMARKETINGDATE  \\\n",
       "0  1 VIAL in 1 CARTON (0002-0800-01)  > 10 mL in ...            19870710   \n",
       "1  1 VIAL, MULTI-DOSE in 1 CAN (0002-1200-30)  > ...            20120601   \n",
       "2  1 VIAL, MULTI-DOSE in 1 CAN (0002-1200-50)  > ...            20120601   \n",
       "3  2 SYRINGE in 1 CARTON (0002-1433-61)  > .5 mL ...            20141107   \n",
       "4  4 SYRINGE in 1 CARTON (0002-1433-80)  > .5 mL ...            20141107   \n",
       "\n",
       "   ENDMARKETINGDATE NDC_EXCLUDE_FLAG SAMPLE_PACKAGE  \n",
       "0               NaN                N              N  \n",
       "1               NaN                N              N  \n",
       "2               NaN                N              N  \n",
       "3               NaN                N              Y  \n",
       "4               NaN                N              N  "
      ]
     },
     "metadata": {},
     "output_type": "display_data"
    },
    {
     "data": {
      "text/html": [
       "<div>\n",
       "<style scoped>\n",
       "    .dataframe tbody tr th:only-of-type {\n",
       "        vertical-align: middle;\n",
       "    }\n",
       "\n",
       "    .dataframe tbody tr th {\n",
       "        vertical-align: top;\n",
       "    }\n",
       "\n",
       "    .dataframe thead th {\n",
       "        text-align: right;\n",
       "    }\n",
       "</style>\n",
       "<table border=\"1\" class=\"dataframe\">\n",
       "  <thead>\n",
       "    <tr style=\"text-align: right;\">\n",
       "      <th></th>\n",
       "      <th>PRODUCTID</th>\n",
       "      <th>PRODUCTNDC</th>\n",
       "      <th>PRODUCTTYPENAME</th>\n",
       "      <th>PROPRIETARYNAME</th>\n",
       "      <th>PROPRIETARYNAMESUFFIX</th>\n",
       "      <th>NONPROPRIETARYNAME</th>\n",
       "      <th>DOSAGEFORMNAME</th>\n",
       "      <th>ROUTENAME</th>\n",
       "      <th>STARTMARKETINGDATE</th>\n",
       "      <th>ENDMARKETINGDATE</th>\n",
       "      <th>MARKETINGCATEGORYNAME</th>\n",
       "      <th>APPLICATIONNUMBER</th>\n",
       "      <th>LABELERNAME</th>\n",
       "      <th>SUBSTANCENAME</th>\n",
       "      <th>ACTIVE_NUMERATOR_STRENGTH</th>\n",
       "      <th>ACTIVE_INGRED_UNIT</th>\n",
       "      <th>PHARM_CLASSES</th>\n",
       "      <th>DEASCHEDULE</th>\n",
       "      <th>NDC_EXCLUDE_FLAG</th>\n",
       "      <th>LISTING_RECORD_CERTIFIED_THROUGH</th>\n",
       "    </tr>\n",
       "  </thead>\n",
       "  <tbody>\n",
       "    <tr>\n",
       "      <th>0</th>\n",
       "      <td>NaN</td>\n",
       "      <td>0002-0800</td>\n",
       "      <td>HUMAN OTC DRUG</td>\n",
       "      <td>Sterile Diluent</td>\n",
       "      <td>NaN</td>\n",
       "      <td>diluent</td>\n",
       "      <td>INJECTION, SOLUTION</td>\n",
       "      <td>SUBCUTANEOUS</td>\n",
       "      <td>19870710</td>\n",
       "      <td>NaN</td>\n",
       "      <td>NDA</td>\n",
       "      <td>NDA018781</td>\n",
       "      <td>10</td>\n",
       "      <td>WATER</td>\n",
       "      <td>1</td>\n",
       "      <td>mL/mL</td>\n",
       "      <td>NaN</td>\n",
       "      <td>NaN</td>\n",
       "      <td>N</td>\n",
       "      <td>20201231.0</td>\n",
       "    </tr>\n",
       "    <tr>\n",
       "      <th>1</th>\n",
       "      <td>NaN</td>\n",
       "      <td>0002-1200</td>\n",
       "      <td>HUMAN PRESCRIPTION DRUG</td>\n",
       "      <td>Amyvid</td>\n",
       "      <td>NaN</td>\n",
       "      <td>Florbetapir F 18</td>\n",
       "      <td>INJECTION, SOLUTION</td>\n",
       "      <td>INTRAVENOUS</td>\n",
       "      <td>20120601</td>\n",
       "      <td>NaN</td>\n",
       "      <td>NDA</td>\n",
       "      <td>NDA202008</td>\n",
       "      <td>10</td>\n",
       "      <td>FLORBETAPIR F-18</td>\n",
       "      <td>51</td>\n",
       "      <td>mCi/mL</td>\n",
       "      <td>Radioactive Diagnostic Agent [EPC],Positron Em...</td>\n",
       "      <td>NaN</td>\n",
       "      <td>N</td>\n",
       "      <td>20211231.0</td>\n",
       "    </tr>\n",
       "    <tr>\n",
       "      <th>2</th>\n",
       "      <td>NaN</td>\n",
       "      <td>0002-1433</td>\n",
       "      <td>HUMAN PRESCRIPTION DRUG</td>\n",
       "      <td>Trulicity</td>\n",
       "      <td>NaN</td>\n",
       "      <td>Dulaglutide</td>\n",
       "      <td>INJECTION, SOLUTION</td>\n",
       "      <td>SUBCUTANEOUS</td>\n",
       "      <td>20140918</td>\n",
       "      <td>NaN</td>\n",
       "      <td>BLA</td>\n",
       "      <td>BLA125469</td>\n",
       "      <td>10</td>\n",
       "      <td>DULAGLUTIDE</td>\n",
       "      <td>.75</td>\n",
       "      <td>mg/.5mL</td>\n",
       "      <td>GLP-1 Receptor Agonist [EPC],Glucagon-Like Pep...</td>\n",
       "      <td>NaN</td>\n",
       "      <td>N</td>\n",
       "      <td>20201231.0</td>\n",
       "    </tr>\n",
       "    <tr>\n",
       "      <th>3</th>\n",
       "      <td>NaN</td>\n",
       "      <td>0002-1434</td>\n",
       "      <td>HUMAN PRESCRIPTION DRUG</td>\n",
       "      <td>Trulicity</td>\n",
       "      <td>NaN</td>\n",
       "      <td>Dulaglutide</td>\n",
       "      <td>INJECTION, SOLUTION</td>\n",
       "      <td>SUBCUTANEOUS</td>\n",
       "      <td>20140918</td>\n",
       "      <td>NaN</td>\n",
       "      <td>BLA</td>\n",
       "      <td>BLA125469</td>\n",
       "      <td>10</td>\n",
       "      <td>DULAGLUTIDE</td>\n",
       "      <td>1.5</td>\n",
       "      <td>mg/.5mL</td>\n",
       "      <td>GLP-1 Receptor Agonist [EPC],Glucagon-Like Pep...</td>\n",
       "      <td>NaN</td>\n",
       "      <td>N</td>\n",
       "      <td>20201231.0</td>\n",
       "    </tr>\n",
       "    <tr>\n",
       "      <th>4</th>\n",
       "      <td>NaN</td>\n",
       "      <td>0002-1436</td>\n",
       "      <td>HUMAN PRESCRIPTION DRUG</td>\n",
       "      <td>EMGALITY</td>\n",
       "      <td>NaN</td>\n",
       "      <td>galcanezumab</td>\n",
       "      <td>INJECTION, SOLUTION</td>\n",
       "      <td>SUBCUTANEOUS</td>\n",
       "      <td>20180927</td>\n",
       "      <td>NaN</td>\n",
       "      <td>BLA</td>\n",
       "      <td>BLA761063</td>\n",
       "      <td>10</td>\n",
       "      <td>GALCANEZUMAB</td>\n",
       "      <td>120</td>\n",
       "      <td>mg/mL</td>\n",
       "      <td>NaN</td>\n",
       "      <td>NaN</td>\n",
       "      <td>N</td>\n",
       "      <td>20201231.0</td>\n",
       "    </tr>\n",
       "  </tbody>\n",
       "</table>\n",
       "</div>"
      ],
      "text/plain": [
       "  PRODUCTID PRODUCTNDC          PRODUCTTYPENAME  PROPRIETARYNAME  \\\n",
       "0       NaN  0002-0800           HUMAN OTC DRUG  Sterile Diluent   \n",
       "1       NaN  0002-1200  HUMAN PRESCRIPTION DRUG           Amyvid   \n",
       "2       NaN  0002-1433  HUMAN PRESCRIPTION DRUG        Trulicity   \n",
       "3       NaN  0002-1434  HUMAN PRESCRIPTION DRUG        Trulicity   \n",
       "4       NaN  0002-1436  HUMAN PRESCRIPTION DRUG         EMGALITY   \n",
       "\n",
       "  PROPRIETARYNAMESUFFIX NONPROPRIETARYNAME       DOSAGEFORMNAME     ROUTENAME  \\\n",
       "0                   NaN            diluent  INJECTION, SOLUTION  SUBCUTANEOUS   \n",
       "1                   NaN   Florbetapir F 18  INJECTION, SOLUTION   INTRAVENOUS   \n",
       "2                   NaN        Dulaglutide  INJECTION, SOLUTION  SUBCUTANEOUS   \n",
       "3                   NaN        Dulaglutide  INJECTION, SOLUTION  SUBCUTANEOUS   \n",
       "4                   NaN       galcanezumab  INJECTION, SOLUTION  SUBCUTANEOUS   \n",
       "\n",
       "   STARTMARKETINGDATE  ENDMARKETINGDATE MARKETINGCATEGORYNAME  \\\n",
       "0            19870710               NaN                   NDA   \n",
       "1            20120601               NaN                   NDA   \n",
       "2            20140918               NaN                   BLA   \n",
       "3            20140918               NaN                   BLA   \n",
       "4            20180927               NaN                   BLA   \n",
       "\n",
       "  APPLICATIONNUMBER LABELERNAME     SUBSTANCENAME ACTIVE_NUMERATOR_STRENGTH  \\\n",
       "0         NDA018781          10             WATER                         1   \n",
       "1         NDA202008          10  FLORBETAPIR F-18                        51   \n",
       "2         BLA125469          10       DULAGLUTIDE                       .75   \n",
       "3         BLA125469          10       DULAGLUTIDE                       1.5   \n",
       "4         BLA761063          10      GALCANEZUMAB                       120   \n",
       "\n",
       "  ACTIVE_INGRED_UNIT                                      PHARM_CLASSES  \\\n",
       "0              mL/mL                                                NaN   \n",
       "1             mCi/mL  Radioactive Diagnostic Agent [EPC],Positron Em...   \n",
       "2            mg/.5mL  GLP-1 Receptor Agonist [EPC],Glucagon-Like Pep...   \n",
       "3            mg/.5mL  GLP-1 Receptor Agonist [EPC],Glucagon-Like Pep...   \n",
       "4              mg/mL                                                NaN   \n",
       "\n",
       "  DEASCHEDULE NDC_EXCLUDE_FLAG  LISTING_RECORD_CERTIFIED_THROUGH  \n",
       "0         NaN                N                        20201231.0  \n",
       "1         NaN                N                        20211231.0  \n",
       "2         NaN                N                        20201231.0  \n",
       "3         NaN                N                        20201231.0  \n",
       "4         NaN                N                        20201231.0  "
      ]
     },
     "metadata": {},
     "output_type": "display_data"
    }
   ],
   "source": [
    "display(package.head())\n",
    "display(product.head())"
   ]
  }
 ],
 "metadata": {
  "kernelspec": {
   "display_name": "Python 3",
   "language": "python",
   "name": "python3"
  },
  "language_info": {
   "codemirror_mode": {
    "name": "ipython",
    "version": 3
   },
   "file_extension": ".py",
   "mimetype": "text/x-python",
   "name": "python",
   "nbconvert_exporter": "python",
   "pygments_lexer": "ipython3",
   "version": "3.8.3"
  }
 },
 "nbformat": 4,
 "nbformat_minor": 4
}
